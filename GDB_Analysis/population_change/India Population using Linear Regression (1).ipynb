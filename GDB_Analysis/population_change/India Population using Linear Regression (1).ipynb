{
 "cells": [
  {
   "cell_type": "code",
   "execution_count": 1,
   "metadata": {},
   "outputs": [],
   "source": [
    "import pandas as pd\n",
    "import numpy as np\n",
    "import matplotlib as mpl\n",
    "import seaborn as sns\n",
    "import warnings\n",
    "warnings.filterwarnings('ignore')\n",
    "import scipy.stats\n",
    "from scipy.stats import chi2,chi2_contingency\n",
    "import matplotlib.pyplot as plt\n",
    "from numpy.random import randn\n",
    "from numpy.random import seed\n",
    "from scipy.stats import pearsonr\n",
    "from numpy.random import randn\n",
    "from numpy.random import seed\n",
    "from scipy.stats import pearsonr\n",
    "import matplotlib.pyplot as plt\n",
    "from statsmodels.formula.api import ols\n",
    "from statsmodels.stats.multicomp import pairwise_tukeyhsd\n",
    "from scipy.stats import chi2, chi2_contingency\n",
    "from scipy import stats \n",
    "import statsmodels.api as sm\n",
    "import statsmodels.formula.api as smf\n",
    "from statsmodels.formula.api import ols\n",
    "from statsmodels.stats.multicomp import pairwise_tukeyhsd\n",
    "from scipy.stats import chi2, chi2_contingency\n",
    "from statsmodels.stats.multicomp import pairwise_tukeyhsd\n",
    "from sklearn.linear_model import Lasso, LassoCV, Ridge, RidgeCV\n",
    "from sklearn.model_selection import cross_val_predict, train_test_split\n",
    "from statsmodels.stats.outliers_influence import variance_inflation_factor\n",
    "import matplotlib.pyplot as plt\n",
    "import statsmodels.api as sm\n",
    "import statsmodels.formula.api as smf\n",
    "from statsmodels.formula.api import ols\n",
    "from statsmodels.stats.multicomp import pairwise_tukeyhsd\n",
    "from scipy.stats import chi2, chi2_contingency\n",
    "from statsmodels.stats.multicomp import pairwise_tukeyhsd\n",
    "from scipy.stats import pearsonr\n",
    "\n",
    "from sklearn.linear_model import Lasso, LassoCV, Ridge, RidgeCV\n",
    "from sklearn.model_selection import cross_val_predict, train_test_split\n",
    "from statsmodels.stats.outliers_influence import variance_inflation_factor\n",
    "from sklearn.preprocessing import StandardScaler\n",
    "from sklearn.linear_model import SGDRegressor\n",
    "from sklearn.metrics import mean_squared_error\n",
    "\n",
    "pd.set_option('display.max_rows', None)\n",
    "pd.set_option('display.max_columns', None)\n",
    "pd.set_option('display.width', None)\n",
    "pd.set_option('display.max_colwidth', -1)"
   ]
  },
  {
   "cell_type": "code",
   "execution_count": 2,
   "metadata": {},
   "outputs": [],
   "source": [
    "df = pd.read_csv(\"C:/Users/admin/OneDrive/Desktop/mlprojects1/myprojects/india population prediction using linear regn/india population.csv\")"
   ]
  },
  {
   "cell_type": "code",
   "execution_count": 3,
   "metadata": {},
   "outputs": [],
   "source": [
    "df = pd.DataFrame(df)"
   ]
  },
  {
   "cell_type": "code",
   "execution_count": 4,
   "metadata": {},
   "outputs": [
    {
     "data": {
      "text/html": [
       "<div>\n",
       "<style scoped>\n",
       "    .dataframe tbody tr th:only-of-type {\n",
       "        vertical-align: middle;\n",
       "    }\n",
       "\n",
       "    .dataframe tbody tr th {\n",
       "        vertical-align: top;\n",
       "    }\n",
       "\n",
       "    .dataframe thead th {\n",
       "        text-align: right;\n",
       "    }\n",
       "</style>\n",
       "<table border=\"1\" class=\"dataframe\">\n",
       "  <thead>\n",
       "    <tr style=\"text-align: right;\">\n",
       "      <th></th>\n",
       "      <th>Year</th>\n",
       "      <th>Yearly % \\nChange</th>\n",
       "      <th>Yearly\\nChange</th>\n",
       "      <th>Migrants (net)</th>\n",
       "      <th>Median Age</th>\n",
       "      <th>Fertility Rate</th>\n",
       "      <th>Density (P/Km²)</th>\n",
       "      <th>Urban\\nPop %</th>\n",
       "      <th>Urban Population</th>\n",
       "      <th>Country's Share of\\nWorld Pop</th>\n",
       "      <th>World Population</th>\n",
       "      <th>India\\nGlobal Rank</th>\n",
       "      <th>Population</th>\n",
       "    </tr>\n",
       "  </thead>\n",
       "  <tbody>\n",
       "    <tr>\n",
       "      <th>0</th>\n",
       "      <td>2050</td>\n",
       "      <td>0.23</td>\n",
       "      <td>3711367</td>\n",
       "      <td>NaN</td>\n",
       "      <td>38.1</td>\n",
       "      <td>2.24</td>\n",
       "      <td>551</td>\n",
       "      <td>53.5</td>\n",
       "      <td>876613025</td>\n",
       "      <td>16.84</td>\n",
       "      <td>9735033990</td>\n",
       "      <td>1</td>\n",
       "      <td>1639176033</td>\n",
       "    </tr>\n",
       "    <tr>\n",
       "      <th>1</th>\n",
       "      <td>2045</td>\n",
       "      <td>0.35</td>\n",
       "      <td>5585537</td>\n",
       "      <td>-414772.0</td>\n",
       "      <td>36.6</td>\n",
       "      <td>2.24</td>\n",
       "      <td>545</td>\n",
       "      <td>50.1</td>\n",
       "      <td>811749463</td>\n",
       "      <td>17.09</td>\n",
       "      <td>9481803274</td>\n",
       "      <td>1</td>\n",
       "      <td>1620619200</td>\n",
       "    </tr>\n",
       "    <tr>\n",
       "      <th>2</th>\n",
       "      <td>2040</td>\n",
       "      <td>0.50</td>\n",
       "      <td>7793541</td>\n",
       "      <td>-415736.0</td>\n",
       "      <td>35.0</td>\n",
       "      <td>2.24</td>\n",
       "      <td>536</td>\n",
       "      <td>46.7</td>\n",
       "      <td>744380367</td>\n",
       "      <td>17.31</td>\n",
       "      <td>9198847240</td>\n",
       "      <td>1</td>\n",
       "      <td>1592691513</td>\n",
       "    </tr>\n",
       "    <tr>\n",
       "      <th>3</th>\n",
       "      <td>2035</td>\n",
       "      <td>0.66</td>\n",
       "      <td>10016298</td>\n",
       "      <td>-415732.0</td>\n",
       "      <td>33.3</td>\n",
       "      <td>2.24</td>\n",
       "      <td>523</td>\n",
       "      <td>43.5</td>\n",
       "      <td>675456367</td>\n",
       "      <td>17.48</td>\n",
       "      <td>8887524213</td>\n",
       "      <td>1</td>\n",
       "      <td>1553723810</td>\n",
       "    </tr>\n",
       "    <tr>\n",
       "      <th>4</th>\n",
       "      <td>2030</td>\n",
       "      <td>0.80</td>\n",
       "      <td>11726140</td>\n",
       "      <td>-440124.0</td>\n",
       "      <td>31.7</td>\n",
       "      <td>2.24</td>\n",
       "      <td>506</td>\n",
       "      <td>40.4</td>\n",
       "      <td>607341981</td>\n",
       "      <td>17.59</td>\n",
       "      <td>8548487400</td>\n",
       "      <td>1</td>\n",
       "      <td>1503642322</td>\n",
       "    </tr>\n",
       "    <tr>\n",
       "      <th>5</th>\n",
       "      <td>2025</td>\n",
       "      <td>0.92</td>\n",
       "      <td>13001447</td>\n",
       "      <td>-464081.0</td>\n",
       "      <td>30.0</td>\n",
       "      <td>2.24</td>\n",
       "      <td>486</td>\n",
       "      <td>37.6</td>\n",
       "      <td>542742539</td>\n",
       "      <td>17.66</td>\n",
       "      <td>8184437460</td>\n",
       "      <td>2</td>\n",
       "      <td>1445011620</td>\n",
       "    </tr>\n",
       "    <tr>\n",
       "      <th>6</th>\n",
       "      <td>2020</td>\n",
       "      <td>1.04</td>\n",
       "      <td>13970396</td>\n",
       "      <td>-532687.0</td>\n",
       "      <td>28.4</td>\n",
       "      <td>2.24</td>\n",
       "      <td>464</td>\n",
       "      <td>35.0</td>\n",
       "      <td>483098640</td>\n",
       "      <td>17.70</td>\n",
       "      <td>7794798739</td>\n",
       "      <td>2</td>\n",
       "      <td>1380004385</td>\n",
       "    </tr>\n",
       "    <tr>\n",
       "      <th>7</th>\n",
       "      <td>2019</td>\n",
       "      <td>1.02</td>\n",
       "      <td>13775474</td>\n",
       "      <td>-532687.0</td>\n",
       "      <td>27.1</td>\n",
       "      <td>2.36</td>\n",
       "      <td>460</td>\n",
       "      <td>34.5</td>\n",
       "      <td>471828295</td>\n",
       "      <td>17.71</td>\n",
       "      <td>7713468100</td>\n",
       "      <td>2</td>\n",
       "      <td>1366417754</td>\n",
       "    </tr>\n",
       "    <tr>\n",
       "      <th>8</th>\n",
       "      <td>2018</td>\n",
       "      <td>1.04</td>\n",
       "      <td>13965495</td>\n",
       "      <td>-532687.0</td>\n",
       "      <td>27.1</td>\n",
       "      <td>2.36</td>\n",
       "      <td>455</td>\n",
       "      <td>34.1</td>\n",
       "      <td>460779764</td>\n",
       "      <td>17.73</td>\n",
       "      <td>7631091040</td>\n",
       "      <td>2</td>\n",
       "      <td>1352642280</td>\n",
       "    </tr>\n",
       "    <tr>\n",
       "      <th>9</th>\n",
       "      <td>2017</td>\n",
       "      <td>1.07</td>\n",
       "      <td>14159536</td>\n",
       "      <td>-532687.0</td>\n",
       "      <td>27.1</td>\n",
       "      <td>2.36</td>\n",
       "      <td>450</td>\n",
       "      <td>33.6</td>\n",
       "      <td>449963381</td>\n",
       "      <td>17.74</td>\n",
       "      <td>7547858925</td>\n",
       "      <td>2</td>\n",
       "      <td>1338676785</td>\n",
       "    </tr>\n",
       "    <tr>\n",
       "      <th>10</th>\n",
       "      <td>2016</td>\n",
       "      <td>1.10</td>\n",
       "      <td>14364846</td>\n",
       "      <td>-532687.0</td>\n",
       "      <td>27.1</td>\n",
       "      <td>2.36</td>\n",
       "      <td>445</td>\n",
       "      <td>33.2</td>\n",
       "      <td>439391699</td>\n",
       "      <td>17.75</td>\n",
       "      <td>7464022049</td>\n",
       "      <td>2</td>\n",
       "      <td>1324517249</td>\n",
       "    </tr>\n",
       "    <tr>\n",
       "      <th>11</th>\n",
       "      <td>2015</td>\n",
       "      <td>1.20</td>\n",
       "      <td>15174247</td>\n",
       "      <td>-470015.0</td>\n",
       "      <td>26.8</td>\n",
       "      <td>2.40</td>\n",
       "      <td>441</td>\n",
       "      <td>32.7</td>\n",
       "      <td>429069459</td>\n",
       "      <td>17.75</td>\n",
       "      <td>7379797139</td>\n",
       "      <td>2</td>\n",
       "      <td>1310152403</td>\n",
       "    </tr>\n",
       "    <tr>\n",
       "      <th>12</th>\n",
       "      <td>2010</td>\n",
       "      <td>1.47</td>\n",
       "      <td>17334249</td>\n",
       "      <td>-531169.0</td>\n",
       "      <td>25.1</td>\n",
       "      <td>2.80</td>\n",
       "      <td>415</td>\n",
       "      <td>30.8</td>\n",
       "      <td>380744554</td>\n",
       "      <td>17.74</td>\n",
       "      <td>6956823603</td>\n",
       "      <td>2</td>\n",
       "      <td>1234281170</td>\n",
       "    </tr>\n",
       "    <tr>\n",
       "      <th>13</th>\n",
       "      <td>2005</td>\n",
       "      <td>1.67</td>\n",
       "      <td>18206876</td>\n",
       "      <td>-377797.0</td>\n",
       "      <td>23.8</td>\n",
       "      <td>3.14</td>\n",
       "      <td>386</td>\n",
       "      <td>29.1</td>\n",
       "      <td>334479406</td>\n",
       "      <td>17.54</td>\n",
       "      <td>6541907027</td>\n",
       "      <td>2</td>\n",
       "      <td>1147609927</td>\n",
       "    </tr>\n",
       "    <tr>\n",
       "      <th>14</th>\n",
       "      <td>2000</td>\n",
       "      <td>1.85</td>\n",
       "      <td>18530592</td>\n",
       "      <td>-136514.0</td>\n",
       "      <td>22.7</td>\n",
       "      <td>3.48</td>\n",
       "      <td>355</td>\n",
       "      <td>27.6</td>\n",
       "      <td>291350282</td>\n",
       "      <td>17.20</td>\n",
       "      <td>6143493823</td>\n",
       "      <td>2</td>\n",
       "      <td>1056575549</td>\n",
       "    </tr>\n",
       "    <tr>\n",
       "      <th>15</th>\n",
       "      <td>1995</td>\n",
       "      <td>1.99</td>\n",
       "      <td>18128958</td>\n",
       "      <td>-110590.0</td>\n",
       "      <td>21.8</td>\n",
       "      <td>3.83</td>\n",
       "      <td>324</td>\n",
       "      <td>26.5</td>\n",
       "      <td>255558824</td>\n",
       "      <td>16.78</td>\n",
       "      <td>5744212979</td>\n",
       "      <td>2</td>\n",
       "      <td>963922588</td>\n",
       "    </tr>\n",
       "    <tr>\n",
       "      <th>16</th>\n",
       "      <td>1990</td>\n",
       "      <td>2.17</td>\n",
       "      <td>17783558</td>\n",
       "      <td>9030.0</td>\n",
       "      <td>21.1</td>\n",
       "      <td>4.27</td>\n",
       "      <td>294</td>\n",
       "      <td>25.5</td>\n",
       "      <td>222296728</td>\n",
       "      <td>16.39</td>\n",
       "      <td>5327231061</td>\n",
       "      <td>2</td>\n",
       "      <td>873277798</td>\n",
       "    </tr>\n",
       "    <tr>\n",
       "      <th>17</th>\n",
       "      <td>1985</td>\n",
       "      <td>2.33</td>\n",
       "      <td>17081433</td>\n",
       "      <td>115942.0</td>\n",
       "      <td>20.6</td>\n",
       "      <td>4.68</td>\n",
       "      <td>264</td>\n",
       "      <td>24.3</td>\n",
       "      <td>190321782</td>\n",
       "      <td>16.10</td>\n",
       "      <td>4870921740</td>\n",
       "      <td>2</td>\n",
       "      <td>784360008</td>\n",
       "    </tr>\n",
       "    <tr>\n",
       "      <th>18</th>\n",
       "      <td>1980</td>\n",
       "      <td>2.32</td>\n",
       "      <td>15169989</td>\n",
       "      <td>222247.0</td>\n",
       "      <td>20.2</td>\n",
       "      <td>4.97</td>\n",
       "      <td>235</td>\n",
       "      <td>23.0</td>\n",
       "      <td>160941941</td>\n",
       "      <td>15.68</td>\n",
       "      <td>4458003514</td>\n",
       "      <td>2</td>\n",
       "      <td>698952844</td>\n",
       "    </tr>\n",
       "    <tr>\n",
       "      <th>19</th>\n",
       "      <td>1975</td>\n",
       "      <td>2.33</td>\n",
       "      <td>13582621</td>\n",
       "      <td>421208.0</td>\n",
       "      <td>19.7</td>\n",
       "      <td>5.41</td>\n",
       "      <td>210</td>\n",
       "      <td>21.3</td>\n",
       "      <td>132533810</td>\n",
       "      <td>15.27</td>\n",
       "      <td>4079480606</td>\n",
       "      <td>2</td>\n",
       "      <td>623102897</td>\n",
       "    </tr>\n",
       "    <tr>\n",
       "      <th>20</th>\n",
       "      <td>1970</td>\n",
       "      <td>2.15</td>\n",
       "      <td>11213294</td>\n",
       "      <td>-68569.0</td>\n",
       "      <td>19.3</td>\n",
       "      <td>5.72</td>\n",
       "      <td>187</td>\n",
       "      <td>19.7</td>\n",
       "      <td>109388950</td>\n",
       "      <td>15.00</td>\n",
       "      <td>3700437046</td>\n",
       "      <td>2</td>\n",
       "      <td>555189792</td>\n",
       "    </tr>\n",
       "    <tr>\n",
       "      <th>21</th>\n",
       "      <td>1965</td>\n",
       "      <td>2.07</td>\n",
       "      <td>9715129</td>\n",
       "      <td>-17078.0</td>\n",
       "      <td>19.6</td>\n",
       "      <td>5.89</td>\n",
       "      <td>168</td>\n",
       "      <td>18.7</td>\n",
       "      <td>93493844</td>\n",
       "      <td>14.95</td>\n",
       "      <td>3339583597</td>\n",
       "      <td>2</td>\n",
       "      <td>499123324</td>\n",
       "    </tr>\n",
       "    <tr>\n",
       "      <th>22</th>\n",
       "      <td>1960</td>\n",
       "      <td>1.91</td>\n",
       "      <td>8133417</td>\n",
       "      <td>-30805.0</td>\n",
       "      <td>20.2</td>\n",
       "      <td>5.90</td>\n",
       "      <td>152</td>\n",
       "      <td>17.9</td>\n",
       "      <td>80565723</td>\n",
       "      <td>14.85</td>\n",
       "      <td>3034949748</td>\n",
       "      <td>2</td>\n",
       "      <td>450547679</td>\n",
       "    </tr>\n",
       "    <tr>\n",
       "      <th>23</th>\n",
       "      <td>1955</td>\n",
       "      <td>1.72</td>\n",
       "      <td>6711079</td>\n",
       "      <td>-21140.0</td>\n",
       "      <td>20.7</td>\n",
       "      <td>5.90</td>\n",
       "      <td>138</td>\n",
       "      <td>17.6</td>\n",
       "      <td>71958495</td>\n",
       "      <td>14.78</td>\n",
       "      <td>2,77,30,19,936</td>\n",
       "      <td>2</td>\n",
       "      <td>409880595</td>\n",
       "    </tr>\n",
       "  </tbody>\n",
       "</table>\n",
       "</div>"
      ],
      "text/plain": [
       "    Year  Yearly % \\nChange  Yearly\\nChange  Migrants (net)  Median Age  \\\n",
       "0   2050  0.23               3711367        NaN              38.1         \n",
       "1   2045  0.35               5585537        -414772.0        36.6         \n",
       "2   2040  0.50               7793541        -415736.0        35.0         \n",
       "3   2035  0.66               10016298       -415732.0        33.3         \n",
       "4   2030  0.80               11726140       -440124.0        31.7         \n",
       "5   2025  0.92               13001447       -464081.0        30.0         \n",
       "6   2020  1.04               13970396       -532687.0        28.4         \n",
       "7   2019  1.02               13775474       -532687.0        27.1         \n",
       "8   2018  1.04               13965495       -532687.0        27.1         \n",
       "9   2017  1.07               14159536       -532687.0        27.1         \n",
       "10  2016  1.10               14364846       -532687.0        27.1         \n",
       "11  2015  1.20               15174247       -470015.0        26.8         \n",
       "12  2010  1.47               17334249       -531169.0        25.1         \n",
       "13  2005  1.67               18206876       -377797.0        23.8         \n",
       "14  2000  1.85               18530592       -136514.0        22.7         \n",
       "15  1995  1.99               18128958       -110590.0        21.8         \n",
       "16  1990  2.17               17783558        9030.0          21.1         \n",
       "17  1985  2.33               17081433        115942.0        20.6         \n",
       "18  1980  2.32               15169989        222247.0        20.2         \n",
       "19  1975  2.33               13582621        421208.0        19.7         \n",
       "20  1970  2.15               11213294       -68569.0         19.3         \n",
       "21  1965  2.07               9715129        -17078.0         19.6         \n",
       "22  1960  1.91               8133417        -30805.0         20.2         \n",
       "23  1955  1.72               6711079        -21140.0         20.7         \n",
       "\n",
       "    Fertility Rate  Density (P/Km²)  Urban\\nPop %  Urban Population  \\\n",
       "0   2.24            551              53.5          876613025          \n",
       "1   2.24            545              50.1          811749463          \n",
       "2   2.24            536              46.7          744380367          \n",
       "3   2.24            523              43.5          675456367          \n",
       "4   2.24            506              40.4          607341981          \n",
       "5   2.24            486              37.6          542742539          \n",
       "6   2.24            464              35.0          483098640          \n",
       "7   2.36            460              34.5          471828295          \n",
       "8   2.36            455              34.1          460779764          \n",
       "9   2.36            450              33.6          449963381          \n",
       "10  2.36            445              33.2          439391699          \n",
       "11  2.40            441              32.7          429069459          \n",
       "12  2.80            415              30.8          380744554          \n",
       "13  3.14            386              29.1          334479406          \n",
       "14  3.48            355              27.6          291350282          \n",
       "15  3.83            324              26.5          255558824          \n",
       "16  4.27            294              25.5          222296728          \n",
       "17  4.68            264              24.3          190321782          \n",
       "18  4.97            235              23.0          160941941          \n",
       "19  5.41            210              21.3          132533810          \n",
       "20  5.72            187              19.7          109388950          \n",
       "21  5.89            168              18.7          93493844           \n",
       "22  5.90            152              17.9          80565723           \n",
       "23  5.90            138              17.6          71958495           \n",
       "\n",
       "    Country's Share of\\nWorld Pop World Population  India\\nGlobal Rank  \\\n",
       "0   16.84                          9735033990       1                    \n",
       "1   17.09                          9481803274       1                    \n",
       "2   17.31                          9198847240       1                    \n",
       "3   17.48                          8887524213       1                    \n",
       "4   17.59                          8548487400       1                    \n",
       "5   17.66                          8184437460       2                    \n",
       "6   17.70                          7794798739       2                    \n",
       "7   17.71                          7713468100       2                    \n",
       "8   17.73                          7631091040       2                    \n",
       "9   17.74                          7547858925       2                    \n",
       "10  17.75                          7464022049       2                    \n",
       "11  17.75                          7379797139       2                    \n",
       "12  17.74                          6956823603       2                    \n",
       "13  17.54                          6541907027       2                    \n",
       "14  17.20                          6143493823       2                    \n",
       "15  16.78                          5744212979       2                    \n",
       "16  16.39                          5327231061       2                    \n",
       "17  16.10                          4870921740       2                    \n",
       "18  15.68                          4458003514       2                    \n",
       "19  15.27                          4079480606       2                    \n",
       "20  15.00                          3700437046       2                    \n",
       "21  14.95                          3339583597       2                    \n",
       "22  14.85                          3034949748       2                    \n",
       "23  14.78                          2,77,30,19,936   2                    \n",
       "\n",
       "    Population  \n",
       "0   1639176033  \n",
       "1   1620619200  \n",
       "2   1592691513  \n",
       "3   1553723810  \n",
       "4   1503642322  \n",
       "5   1445011620  \n",
       "6   1380004385  \n",
       "7   1366417754  \n",
       "8   1352642280  \n",
       "9   1338676785  \n",
       "10  1324517249  \n",
       "11  1310152403  \n",
       "12  1234281170  \n",
       "13  1147609927  \n",
       "14  1056575549  \n",
       "15  963922588   \n",
       "16  873277798   \n",
       "17  784360008   \n",
       "18  698952844   \n",
       "19  623102897   \n",
       "20  555189792   \n",
       "21  499123324   \n",
       "22  450547679   \n",
       "23  409880595   "
      ]
     },
     "execution_count": 4,
     "metadata": {},
     "output_type": "execute_result"
    }
   ],
   "source": [
    "df"
   ]
  },
  {
   "cell_type": "code",
   "execution_count": 5,
   "metadata": {},
   "outputs": [
    {
     "data": {
      "text/html": [
       "<div>\n",
       "<style scoped>\n",
       "    .dataframe tbody tr th:only-of-type {\n",
       "        vertical-align: middle;\n",
       "    }\n",
       "\n",
       "    .dataframe tbody tr th {\n",
       "        vertical-align: top;\n",
       "    }\n",
       "\n",
       "    .dataframe thead th {\n",
       "        text-align: right;\n",
       "    }\n",
       "</style>\n",
       "<table border=\"1\" class=\"dataframe\">\n",
       "  <thead>\n",
       "    <tr style=\"text-align: right;\">\n",
       "      <th></th>\n",
       "      <th>Year</th>\n",
       "      <th>Yearly % \\nChange</th>\n",
       "      <th>Yearly\\nChange</th>\n",
       "      <th>Migrants (net)</th>\n",
       "      <th>Median Age</th>\n",
       "      <th>Fertility Rate</th>\n",
       "      <th>Density (P/Km²)</th>\n",
       "      <th>Urban\\nPop %</th>\n",
       "      <th>Urban Population</th>\n",
       "      <th>Country's Share of\\nWorld Pop</th>\n",
       "      <th>India\\nGlobal Rank</th>\n",
       "      <th>Population</th>\n",
       "    </tr>\n",
       "  </thead>\n",
       "  <tbody>\n",
       "    <tr>\n",
       "      <th>count</th>\n",
       "      <td>24.000000</td>\n",
       "      <td>24.000000</td>\n",
       "      <td>2.400000e+01</td>\n",
       "      <td>23.000000</td>\n",
       "      <td>24.000000</td>\n",
       "      <td>24.000000</td>\n",
       "      <td>24.000000</td>\n",
       "      <td>24.00000</td>\n",
       "      <td>2.400000e+01</td>\n",
       "      <td>24.000000</td>\n",
       "      <td>24.000000</td>\n",
       "      <td>2.400000e+01</td>\n",
       "    </tr>\n",
       "    <tr>\n",
       "      <th>mean</th>\n",
       "      <td>2005.000000</td>\n",
       "      <td>1.412917</td>\n",
       "      <td>1.286815e+07</td>\n",
       "      <td>-252570.869565</td>\n",
       "      <td>25.962500</td>\n",
       "      <td>3.479583</td>\n",
       "      <td>374.583333</td>\n",
       "      <td>31.53750</td>\n",
       "      <td>3.881687e+08</td>\n",
       "      <td>16.776250</td>\n",
       "      <td>1.791667</td>\n",
       "      <td>1.113504e+09</td>\n",
       "    </tr>\n",
       "    <tr>\n",
       "      <th>std</th>\n",
       "      <td>27.489128</td>\n",
       "      <td>0.666897</td>\n",
       "      <td>4.239948e+06</td>\n",
       "      <td>286175.441586</td>\n",
       "      <td>5.752188</td>\n",
       "      <td>1.447566</td>\n",
       "      <td>136.433745</td>\n",
       "      <td>10.10806</td>\n",
       "      <td>2.378749e+08</td>\n",
       "      <td>1.098227</td>\n",
       "      <td>0.414851</td>\n",
       "      <td>4.058605e+08</td>\n",
       "    </tr>\n",
       "    <tr>\n",
       "      <th>min</th>\n",
       "      <td>1955.000000</td>\n",
       "      <td>0.230000</td>\n",
       "      <td>3.711367e+06</td>\n",
       "      <td>-532687.000000</td>\n",
       "      <td>19.300000</td>\n",
       "      <td>2.240000</td>\n",
       "      <td>138.000000</td>\n",
       "      <td>17.60000</td>\n",
       "      <td>7.195850e+07</td>\n",
       "      <td>14.780000</td>\n",
       "      <td>1.000000</td>\n",
       "      <td>4.098806e+08</td>\n",
       "    </tr>\n",
       "    <tr>\n",
       "      <th>25%</th>\n",
       "      <td>1983.750000</td>\n",
       "      <td>0.995000</td>\n",
       "      <td>9.941006e+06</td>\n",
       "      <td>-500592.000000</td>\n",
       "      <td>20.675000</td>\n",
       "      <td>2.240000</td>\n",
       "      <td>256.750000</td>\n",
       "      <td>23.97500</td>\n",
       "      <td>1.829768e+08</td>\n",
       "      <td>15.995000</td>\n",
       "      <td>2.000000</td>\n",
       "      <td>7.630082e+08</td>\n",
       "    </tr>\n",
       "    <tr>\n",
       "      <th>50%</th>\n",
       "      <td>2012.500000</td>\n",
       "      <td>1.335000</td>\n",
       "      <td>1.387048e+07</td>\n",
       "      <td>-414772.000000</td>\n",
       "      <td>25.950000</td>\n",
       "      <td>2.600000</td>\n",
       "      <td>428.000000</td>\n",
       "      <td>31.75000</td>\n",
       "      <td>4.049070e+08</td>\n",
       "      <td>17.255000</td>\n",
       "      <td>2.000000</td>\n",
       "      <td>1.272217e+09</td>\n",
       "    </tr>\n",
       "    <tr>\n",
       "      <th>75%</th>\n",
       "      <td>2021.250000</td>\n",
       "      <td>2.010000</td>\n",
       "      <td>1.565104e+07</td>\n",
       "      <td>-25972.500000</td>\n",
       "      <td>28.800000</td>\n",
       "      <td>4.752500</td>\n",
       "      <td>469.500000</td>\n",
       "      <td>35.65000</td>\n",
       "      <td>4.980096e+08</td>\n",
       "      <td>17.702500</td>\n",
       "      <td>2.000000</td>\n",
       "      <td>1.396256e+09</td>\n",
       "    </tr>\n",
       "    <tr>\n",
       "      <th>max</th>\n",
       "      <td>2050.000000</td>\n",
       "      <td>2.330000</td>\n",
       "      <td>1.853059e+07</td>\n",
       "      <td>421208.000000</td>\n",
       "      <td>38.100000</td>\n",
       "      <td>5.900000</td>\n",
       "      <td>551.000000</td>\n",
       "      <td>53.50000</td>\n",
       "      <td>8.766130e+08</td>\n",
       "      <td>17.750000</td>\n",
       "      <td>2.000000</td>\n",
       "      <td>1.639176e+09</td>\n",
       "    </tr>\n",
       "  </tbody>\n",
       "</table>\n",
       "</div>"
      ],
      "text/plain": [
       "              Year  Yearly % \\nChange  Yearly\\nChange  Migrants (net)  \\\n",
       "count  24.000000    24.000000          2.400000e+01    23.000000        \n",
       "mean   2005.000000  1.412917           1.286815e+07   -252570.869565    \n",
       "std    27.489128    0.666897           4.239948e+06    286175.441586    \n",
       "min    1955.000000  0.230000           3.711367e+06   -532687.000000    \n",
       "25%    1983.750000  0.995000           9.941006e+06   -500592.000000    \n",
       "50%    2012.500000  1.335000           1.387048e+07   -414772.000000    \n",
       "75%    2021.250000  2.010000           1.565104e+07   -25972.500000     \n",
       "max    2050.000000  2.330000           1.853059e+07    421208.000000    \n",
       "\n",
       "       Median Age  Fertility Rate  Density (P/Km²)  Urban\\nPop %  \\\n",
       "count  24.000000   24.000000       24.000000        24.00000       \n",
       "mean   25.962500   3.479583        374.583333       31.53750       \n",
       "std    5.752188    1.447566        136.433745       10.10806       \n",
       "min    19.300000   2.240000        138.000000       17.60000       \n",
       "25%    20.675000   2.240000        256.750000       23.97500       \n",
       "50%    25.950000   2.600000        428.000000       31.75000       \n",
       "75%    28.800000   4.752500        469.500000       35.65000       \n",
       "max    38.100000   5.900000        551.000000       53.50000       \n",
       "\n",
       "       Urban Population  Country's Share of\\nWorld Pop  India\\nGlobal Rank  \\\n",
       "count  2.400000e+01      24.000000                      24.000000            \n",
       "mean   3.881687e+08      16.776250                      1.791667             \n",
       "std    2.378749e+08      1.098227                       0.414851             \n",
       "min    7.195850e+07      14.780000                      1.000000             \n",
       "25%    1.829768e+08      15.995000                      2.000000             \n",
       "50%    4.049070e+08      17.255000                      2.000000             \n",
       "75%    4.980096e+08      17.702500                      2.000000             \n",
       "max    8.766130e+08      17.750000                      2.000000             \n",
       "\n",
       "         Population  \n",
       "count  2.400000e+01  \n",
       "mean   1.113504e+09  \n",
       "std    4.058605e+08  \n",
       "min    4.098806e+08  \n",
       "25%    7.630082e+08  \n",
       "50%    1.272217e+09  \n",
       "75%    1.396256e+09  \n",
       "max    1.639176e+09  "
      ]
     },
     "execution_count": 5,
     "metadata": {},
     "output_type": "execute_result"
    }
   ],
   "source": [
    "df.describe()"
   ]
  },
  {
   "cell_type": "code",
   "execution_count": 6,
   "metadata": {},
   "outputs": [
    {
     "name": "stdout",
     "output_type": "stream",
     "text": [
      "<class 'pandas.core.frame.DataFrame'>\n",
      "RangeIndex: 24 entries, 0 to 23\n",
      "Data columns (total 13 columns):\n",
      " #   Column                        Non-Null Count  Dtype  \n",
      "---  ------                        --------------  -----  \n",
      " 0   Year                          24 non-null     int64  \n",
      " 1   Yearly % \n",
      "Change              24 non-null     float64\n",
      " 2   Yearly\n",
      "Change                 24 non-null     int64  \n",
      " 3   Migrants (net)                23 non-null     float64\n",
      " 4   Median Age                    24 non-null     float64\n",
      " 5   Fertility Rate                24 non-null     float64\n",
      " 6   Density (P/Km²)               24 non-null     int64  \n",
      " 7   Urban\n",
      "Pop %                   24 non-null     float64\n",
      " 8   Urban Population              24 non-null     int64  \n",
      " 9   Country's Share of\n",
      "World Pop  24 non-null     float64\n",
      " 10  World Population              24 non-null     object \n",
      " 11  India\n",
      "Global Rank             24 non-null     int64  \n",
      " 12  Population                    24 non-null     int64  \n",
      "dtypes: float64(6), int64(6), object(1)\n",
      "memory usage: 2.6+ KB\n"
     ]
    }
   ],
   "source": [
    "df.info()"
   ]
  },
  {
   "cell_type": "markdown",
   "metadata": {},
   "source": [
    "### Checking Null values for each Column"
   ]
  },
  {
   "cell_type": "code",
   "execution_count": 10,
   "metadata": {},
   "outputs": [
    {
     "data": {
      "text/plain": [
       "Year                             0\n",
       "Yearly % \\nChange                0\n",
       "Yearly\\nChange                   0\n",
       "Migrants (net)                   1\n",
       "Median Age                       0\n",
       "Fertility Rate                   0\n",
       "Density (P/Km²)                  0\n",
       "Urban\\nPop %                     0\n",
       "Urban Population                 0\n",
       "Country's Share of\\nWorld Pop    0\n",
       "World Population                 0\n",
       "India\\nGlobal Rank               0\n",
       "Population                       0\n",
       "dtype: int64"
      ]
     },
     "execution_count": 10,
     "metadata": {},
     "output_type": "execute_result"
    }
   ],
   "source": [
    "df.isnull().sum()"
   ]
  },
  {
   "cell_type": "code",
   "execution_count": null,
   "metadata": {},
   "outputs": [],
   "source": [
    "df.rename(columns = {'Yearly % \\nChange':'Year%'}, inplace = True)\n",
    "df.rename(columns = {'Median Age':'Median_Age'}, inplace = True)\n",
    "df.rename(columns = {'Fertility Rate':'Fertility_Rate'}, inplace = True)\n",
    "df.rename(columns = {'Density (P/Km²)':'Density'}, inplace = True)\n",
    "df.rename(columns = {'Urban\\nPop %':'Urban'}, inplace = True)\n",
    "df.rename(columns = {'Urban Population':'Urban_Population'}, inplace = True)\n",
    "df.rename(columns = {\"Country's Share of\\nWorld Pop\":'Country_Share'}, inplace = True)\n",
    "df.rename(columns = {'World Population':'World_Population'}, inplace = True)"
   ]
  },
  {
   "cell_type": "markdown",
   "metadata": {},
   "source": [
    "# HeatMap for Null Values"
   ]
  },
  {
   "cell_type": "code",
   "execution_count": 13,
   "metadata": {},
   "outputs": [
    {
     "data": {
      "text/plain": [
       "<matplotlib.axes._subplots.AxesSubplot at 0x7fee5577ad00>"
      ]
     },
     "execution_count": 13,
     "metadata": {},
     "output_type": "execute_result"
    },
    {
     "data": {
      "image/png": "[encoded data removed]",
      "text/plain": [
       "<Figure size 432x288 with 2 Axes>"
      ]
     },
     "metadata": {
      "needs_background": "light"
     },
     "output_type": "display_data"
    }
   ],
   "source": [
    "sns.heatmap(df.isnull(), cmap=\"YlGnBu\")"
   ]
  },
  {
   "cell_type": "markdown",
   "metadata": {},
   "source": [
    "# EDA "
   ]
  },
  {
   "cell_type": "markdown",
   "metadata": {},
   "source": [
    "# Population (Continuous) Target Variable"
   ]
  },
  {
   "cell_type": "code",
   "execution_count": 45,
   "metadata": {},
   "outputs": [
    {
     "data": {
      "text/plain": [
       "0"
      ]
     },
     "execution_count": 45,
     "metadata": {},
     "output_type": "execute_result"
    }
   ],
   "source": [
    "df['Population'].isnull().sum()"
   ]
  },
  {
   "cell_type": "code",
   "execution_count": 54,
   "metadata": {},
   "outputs": [
    {
     "data": {
      "text/plain": [
       "698952844     1\n",
       "1234281170    1\n",
       "1639176033    1\n",
       "1553723810    1\n",
       "784360008     1\n",
       "1445011620    1\n",
       "555189792     1\n",
       "873277798     1\n",
       "1147609927    1\n",
       "1352642280    1\n",
       "409880595     1\n",
       "499123324     1\n",
       "1056575549    1\n",
       "1380004385    1\n",
       "623102897     1\n",
       "1338676785    1\n",
       "1503642322    1\n",
       "1324517249    1\n",
       "450547679     1\n",
       "1310152403    1\n",
       "1592691513    1\n",
       "1366417754    1\n",
       "963922588     1\n",
       "1620619200    1\n",
       "Name: Population, dtype: int64"
      ]
     },
     "execution_count": 54,
     "metadata": {},
     "output_type": "execute_result"
    }
   ],
   "source": [
    "df.Population.value_counts()"
   ]
  },
  {
   "cell_type": "code",
   "execution_count": 51,
   "metadata": {},
   "outputs": [
    {
     "data": {
      "text/plain": [
       "Text(0.5, 1.0, 'Histogram for population')"
      ]
     },
     "execution_count": 51,
     "metadata": {},
     "output_type": "execute_result"
    },
    {
     "data": {
      "image/png": "[encoded data removed]",
      "text/plain": [
       "<Figure size 432x288 with 1 Axes>"
      ]
     },
     "metadata": {
      "needs_background": "light"
     },
     "output_type": "display_data"
    }
   ],
   "source": [
    "plt.hist(df['Population'], color = 'Black')\n",
    "plt.title(\"Histogram for population\")"
   ]
  },
  {
   "cell_type": "code",
   "execution_count": 53,
   "metadata": {},
   "outputs": [
    {
     "data": {
      "text/plain": [
       "Text(0.5, 1.0, 'Distribution plot for Population')"
      ]
     },
     "execution_count": 53,
     "metadata": {},
     "output_type": "execute_result"
    },
    {
     "data": {
      "image/png": "[encoded data removed]",
      "text/plain": [
       "<Figure size 432x288 with 1 Axes>"
      ]
     },
     "metadata": {
      "needs_background": "light"
     },
     "output_type": "display_data"
    }
   ],
   "source": [
    "sns.distplot(df.Population)\n",
    "plt.title(\"Distribution plot for Population\")"
   ]
  },
  {
   "cell_type": "code",
   "execution_count": 54,
   "metadata": {},
   "outputs": [
    {
     "data": {
      "text/plain": [
       "Text(0.5, 1.0, 'Distribution plot for Population')"
      ]
     },
     "execution_count": 54,
     "metadata": {},
     "output_type": "execute_result"
    },
    {
     "data": {
      "image/png": "[encoded data removed]",
      "text/plain": [
       "<Figure size 432x288 with 1 Axes>"
      ]
     },
     "metadata": {
      "needs_background": "light"
     },
     "output_type": "display_data"
    }
   ],
   "source": [
    "sns.boxplot(df.Population)\n",
    "plt.title(\"Distribution plot for Population\")"
   ]
  },
  {
   "cell_type": "markdown",
   "metadata": {},
   "source": [
    "## Year (Continuous)"
   ]
  },
  {
   "cell_type": "code",
   "execution_count": 14,
   "metadata": {},
   "outputs": [
    {
     "data": {
      "text/plain": [
       "0"
      ]
     },
     "execution_count": 14,
     "metadata": {},
     "output_type": "execute_result"
    }
   ],
   "source": [
    "df['Year'].isnull().sum()"
   ]
  },
  {
   "cell_type": "code",
   "execution_count": 15,
   "metadata": {},
   "outputs": [
    {
     "data": {
      "text/plain": [
       "2015    1\n",
       "2045    1\n",
       "2017    1\n",
       "2050    1\n",
       "2019    1\n",
       "2020    1\n",
       "1990    1\n",
       "1960    1\n",
       "2025    1\n",
       "1955    1\n",
       "1995    1\n",
       "1965    1\n",
       "2030    1\n",
       "2018    1\n",
       "2000    1\n",
       "1985    1\n",
       "2035    1\n",
       "2005    1\n",
       "1975    1\n",
       "2040    1\n",
       "1970    1\n",
       "2010    1\n",
       "1980    1\n",
       "2016    1\n",
       "Name: Year, dtype: int64"
      ]
     },
     "execution_count": 15,
     "metadata": {},
     "output_type": "execute_result"
    }
   ],
   "source": [
    "df.Year.value_counts()"
   ]
  },
  {
   "cell_type": "code",
   "execution_count": 57,
   "metadata": {},
   "outputs": [
    {
     "data": {
      "text/plain": [
       "Text(0.5, 1.0, 'Histogram for Year')"
      ]
     },
     "execution_count": 57,
     "metadata": {},
     "output_type": "execute_result"
    },
    {
     "data": {
      "image/png": "[encoded data removed]",
      "text/plain": [
       "<Figure size 432x288 with 1 Axes>"
      ]
     },
     "metadata": {
      "needs_background": "light"
     },
     "output_type": "display_data"
    }
   ],
   "source": [
    "plt.hist(df['Year'], color = 'Black')\n",
    "plt.title(\"Histogram for Year\")"
   ]
  },
  {
   "cell_type": "code",
   "execution_count": 58,
   "metadata": {},
   "outputs": [
    {
     "data": {
      "text/plain": [
       "Text(0.5, 1.0, 'Scatter plot for Year')"
      ]
     },
     "execution_count": 58,
     "metadata": {},
     "output_type": "execute_result"
    },
    {
     "data": {
      "image/png": "[encoded data removed]",
      "text/plain": [
       "<Figure size 432x288 with 1 Axes>"
      ]
     },
     "metadata": {
      "needs_background": "light"
     },
     "output_type": "display_data"
    }
   ],
   "source": [
    "plt.scatter(df.Year,df.Population)\n",
    "plt.title(\"Scatter plot for Year\")"
   ]
  },
  {
   "cell_type": "code",
   "execution_count": 59,
   "metadata": {},
   "outputs": [
    {
     "data": {
      "text/plain": [
       "Text(0.5, 1.0, 'Distribution plot for Year')"
      ]
     },
     "execution_count": 59,
     "metadata": {},
     "output_type": "execute_result"
    },
    {
     "data": {
      "image/png": "[encoded data removed]",
      "text/plain": [
       "<Figure size 432x288 with 1 Axes>"
      ]
     },
     "metadata": {
      "needs_background": "light"
     },
     "output_type": "display_data"
    }
   ],
   "source": [
    "sns.distplot(df.Year)\n",
    "plt.title(\"Distribution plot for Year\")"
   ]
  },
  {
   "cell_type": "code",
   "execution_count": 60,
   "metadata": {},
   "outputs": [
    {
     "data": {
      "text/plain": [
       "Text(0.5, 1.0, 'Box plot for Year')"
      ]
     },
     "execution_count": 60,
     "metadata": {},
     "output_type": "execute_result"
    },
    {
     "data": {
      "image/png": "[encoded data removed]",
      "text/plain": [
       "<Figure size 432x288 with 1 Axes>"
      ]
     },
     "metadata": {
      "needs_background": "light"
     },
     "output_type": "display_data"
    }
   ],
   "source": [
    "sns.boxplot(df.Year)\n",
    "plt.title(\"Box plot for Year\")"
   ]
  },
  {
   "cell_type": "code",
   "execution_count": 30,
   "metadata": {},
   "outputs": [
    {
     "name": "stdout",
     "output_type": "stream",
     "text": [
      "Pearsons correlation: 0.993\n"
     ]
    }
   ],
   "source": [
    "corr,_ = pearsonr(df.Year,df.Population)\n",
    "print('Pearsons correlation: %.3f' %corr)"
   ]
  },
  {
   "cell_type": "code",
   "execution_count": 31,
   "metadata": {},
   "outputs": [
    {
     "data": {
      "text/plain": [
       "(0.9926346372884732, 1.1523293501324437e-21)"
      ]
     },
     "execution_count": 31,
     "metadata": {},
     "output_type": "execute_result"
    }
   ],
   "source": [
    "scipy.stats.pearsonr(df.Year,df.Population)"
   ]
  },
  {
   "cell_type": "markdown",
   "metadata": {},
   "source": [
    "### As Year has Correlation > 0.5 so we reject Null hypothesis So it is a GOOD Predictor"
   ]
  },
  {
   "cell_type": "markdown",
   "metadata": {},
   "source": [
    "# Yearly % \\nChange (Continuous)"
   ]
  },
  {
   "cell_type": "code",
   "execution_count": 62,
   "metadata": {},
   "outputs": [
    {
     "data": {
      "text/plain": [
       "0"
      ]
     },
     "execution_count": 62,
     "metadata": {},
     "output_type": "execute_result"
    }
   ],
   "source": [
    "df['Year%'].isnull().sum()"
   ]
  },
  {
   "cell_type": "code",
   "execution_count": 63,
   "metadata": {},
   "outputs": [
    {
     "data": {
      "text/plain": [
       "1.72    1\n",
       "2.15    1\n",
       "0.80    1\n",
       "0.35    1\n",
       "1.07    1\n",
       "1.99    1\n",
       "1.10    1\n",
       "1.67    1\n",
       "1.91    1\n",
       "1.47    1\n",
       "0.50    1\n",
       "1.20    1\n",
       "2.17    1\n",
       "1.02    1\n",
       "0.92    1\n",
       "0.66    1\n",
       "2.32    1\n",
       "2.07    1\n",
       "1.85    1\n",
       "2.33    2\n",
       "1.04    2\n",
       "Name: Year%, dtype: int64"
      ]
     },
     "execution_count": 63,
     "metadata": {},
     "output_type": "execute_result"
    }
   ],
   "source": [
    "df['Year%'].value_counts().sort_values()"
   ]
  },
  {
   "cell_type": "code",
   "execution_count": 64,
   "metadata": {},
   "outputs": [
    {
     "data": {
      "text/plain": [
       "Text(0.5, 1.0, 'Histogram for Year%')"
      ]
     },
     "execution_count": 64,
     "metadata": {},
     "output_type": "execute_result"
    },
    {
     "data": {
      "image/png": "[encoded data removed]",
      "text/plain": [
       "<Figure size 432x288 with 1 Axes>"
      ]
     },
     "metadata": {
      "needs_background": "light"
     },
     "output_type": "display_data"
    }
   ],
   "source": [
    "plt.hist(df['Year%'], color = 'Black')\n",
    "plt.title(\"Histogram for Year%\")"
   ]
  },
  {
   "cell_type": "code",
   "execution_count": 65,
   "metadata": {},
   "outputs": [
    {
     "data": {
      "text/plain": [
       "Text(0.5, 1.0, 'Scatter plot for Year')"
      ]
     },
     "execution_count": 65,
     "metadata": {},
     "output_type": "execute_result"
    },
    {
     "data": {
      "image/png": "[encoded data removed]",
      "text/plain": [
       "<Figure size 432x288 with 1 Axes>"
      ]
     },
     "metadata": {
      "needs_background": "light"
     },
     "output_type": "display_data"
    }
   ],
   "source": [
    "plt.scatter(df['Year%'],df.Population)\n",
    "plt.title(\"Scatter plot for Year\")"
   ]
  },
  {
   "cell_type": "code",
   "execution_count": 66,
   "metadata": {},
   "outputs": [
    {
     "data": {
      "text/plain": [
       "Text(0.5, 1.0, 'Distribution plot for Year')"
      ]
     },
     "execution_count": 66,
     "metadata": {},
     "output_type": "execute_result"
    },
    {
     "data": {
      "image/png": "[encoded data removed]",
      "text/plain": [
       "<Figure size 432x288 with 1 Axes>"
      ]
     },
     "metadata": {
      "needs_background": "light"
     },
     "output_type": "display_data"
    }
   ],
   "source": [
    "sns.distplot(df['Year%'])\n",
    "plt.title(\"Distribution plot for Year\")"
   ]
  },
  {
   "cell_type": "code",
   "execution_count": 67,
   "metadata": {},
   "outputs": [
    {
     "data": {
      "text/plain": [
       "Text(0.5, 1.0, 'Box plot for Year')"
      ]
     },
     "execution_count": 67,
     "metadata": {},
     "output_type": "execute_result"
    },
    {
     "data": {
      "image/png": "[encoded data removed]",
      "text/plain": [
       "<Figure size 432x288 with 1 Axes>"
      ]
     },
     "metadata": {
      "needs_background": "light"
     },
     "output_type": "display_data"
    }
   ],
   "source": [
    "sns.boxplot(df['Year%'])\n",
    "plt.title(\"Box plot for Year\")"
   ]
  },
  {
   "cell_type": "code",
   "execution_count": 45,
   "metadata": {},
   "outputs": [
    {
     "name": "stdout",
     "output_type": "stream",
     "text": [
      "Pearsons correlation: -0.895\n"
     ]
    }
   ],
   "source": [
    "corr,_ = pearsonr(df['Year%'],df.Population)\n",
    "print('Pearsons correlation: %.3f' %corr)"
   ]
  },
  {
   "cell_type": "code",
   "execution_count": 46,
   "metadata": {},
   "outputs": [
    {
     "data": {
      "text/plain": [
       "(-0.8949231865316978, 3.628237004775945e-09)"
      ]
     },
     "execution_count": 46,
     "metadata": {},
     "output_type": "execute_result"
    }
   ],
   "source": [
    "scipy.stats.pearsonr(df['Year%'],df.Population)"
   ]
  },
  {
   "cell_type": "markdown",
   "metadata": {},
   "source": [
    "### As 'Yearly % \\nChange' has correlation < 0.5 so we reject Null hypothesis So it is a GOOD Predictor"
   ]
  },
  {
   "cell_type": "markdown",
   "metadata": {},
   "source": [
    "# Yearly\\nChange (Continuous)"
   ]
  },
  {
   "cell_type": "code",
   "execution_count": 47,
   "metadata": {},
   "outputs": [
    {
     "data": {
      "text/plain": [
       "0"
      ]
     },
     "execution_count": 47,
     "metadata": {},
     "output_type": "execute_result"
    }
   ],
   "source": [
    "df['Yearly\\nChange'].isnull().sum()"
   ]
  },
  {
   "cell_type": "code",
   "execution_count": 52,
   "metadata": {},
   "outputs": [
    {
     "data": {
      "text/plain": [
       "18128958    1\n",
       "11213294    1\n",
       "17081433    1\n",
       "9715129     1\n",
       "13970396    1\n",
       "15169989    1\n",
       "13775474    1\n",
       "15174247    1\n",
       "14159536    1\n",
       "18206876    1\n",
       "14364846    1\n",
       "13001447    1\n",
       "10016298    1\n",
       "17334249    1\n",
       "17783558    1\n",
       "3711367     1\n",
       "13965495    1\n",
       "7793541     1\n",
       "6711079     1\n",
       "8133417     1\n",
       "5585537     1\n",
       "13582621    1\n",
       "11726140    1\n",
       "18530592    1\n",
       "Name: Yearly\\nChange, dtype: int64"
      ]
     },
     "execution_count": 52,
     "metadata": {},
     "output_type": "execute_result"
    }
   ],
   "source": [
    "df['Yearly\\nChange'].value_counts().sort_values()"
   ]
  },
  {
   "cell_type": "code",
   "execution_count": 68,
   "metadata": {},
   "outputs": [
    {
     "data": {
      "text/plain": [
       "Text(0.5, 1.0, 'Histogram for Yearly\\nChange')"
      ]
     },
     "execution_count": 68,
     "metadata": {},
     "output_type": "execute_result"
    },
    {
     "data": {
      "image/png": "[encoded data removed]",
      "text/plain": [
       "<Figure size 432x288 with 1 Axes>"
      ]
     },
     "metadata": {
      "needs_background": "light"
     },
     "output_type": "display_data"
    }
   ],
   "source": [
    "plt.hist(df['Yearly\\nChange'], color = 'Black')\n",
    "plt.title(\"Histogram for Yearly\\nChange\")"
   ]
  },
  {
   "cell_type": "code",
   "execution_count": 69,
   "metadata": {},
   "outputs": [
    {
     "data": {
      "text/plain": [
       "Text(0.5, 1.0, 'Scatter plot for Yearly\\nChange')"
      ]
     },
     "execution_count": 69,
     "metadata": {},
     "output_type": "execute_result"
    },
    {
     "data": {
      "image/png": "[encoded data removed]",
      "text/plain": [
       "<Figure size 432x288 with 1 Axes>"
      ]
     },
     "metadata": {
      "needs_background": "light"
     },
     "output_type": "display_data"
    }
   ],
   "source": [
    "plt.scatter(df['Yearly\\nChange'],df.Population)\n",
    "plt.title(\"Scatter plot for Yearly\\nChange\")"
   ]
  },
  {
   "cell_type": "code",
   "execution_count": 70,
   "metadata": {},
   "outputs": [
    {
     "data": {
      "text/plain": [
       "Text(0.5, 1.0, 'Distribution Plot for Yearly\\nChange')"
      ]
     },
     "execution_count": 70,
     "metadata": {},
     "output_type": "execute_result"
    },
    {
     "data": {
      "image/png": "[encoded data removed]",
      "text/plain": [
       "<Figure size 432x288 with 1 Axes>"
      ]
     },
     "metadata": {
      "needs_background": "light"
     },
     "output_type": "display_data"
    }
   ],
   "source": [
    "sns.distplot(df['Yearly\\nChange'])\n",
    "plt.title(\"Distribution Plot for Yearly\\nChange\")"
   ]
  },
  {
   "cell_type": "code",
   "execution_count": 71,
   "metadata": {},
   "outputs": [
    {
     "data": {
      "text/plain": [
       "Text(0.5, 1.0, 'Box plot for Yearly\\nChange')"
      ]
     },
     "execution_count": 71,
     "metadata": {},
     "output_type": "execute_result"
    },
    {
     "data": {
      "image/png": "[encoded data removed]",
      "text/plain": [
       "<Figure size 432x288 with 1 Axes>"
      ]
     },
     "metadata": {
      "needs_background": "light"
     },
     "output_type": "display_data"
    }
   ],
   "source": [
    "sns.boxplot(df['Yearly\\nChange'])\n",
    "plt.title(\"Box plot for Yearly\\nChange\")"
   ]
  },
  {
   "cell_type": "code",
   "execution_count": 61,
   "metadata": {},
   "outputs": [
    {
     "name": "stdout",
     "output_type": "stream",
     "text": [
      "Pearsons correlation: -0.118\n"
     ]
    }
   ],
   "source": [
    "corr,_ = pearsonr(df['Yearly\\nChange'],df.Population)\n",
    "print('Pearsons correlation: %.3f' %corr)"
   ]
  },
  {
   "cell_type": "code",
   "execution_count": 62,
   "metadata": {},
   "outputs": [
    {
     "data": {
      "text/plain": [
       "(-0.11816992150421071, 0.5823601353372267)"
      ]
     },
     "execution_count": 62,
     "metadata": {},
     "output_type": "execute_result"
    }
   ],
   "source": [
    "scipy.stats.pearsonr(df['Yearly\\nChange'],df.Population)"
   ]
  },
  {
   "cell_type": "markdown",
   "metadata": {},
   "source": [
    "### As 'Yearly\\nChange' has a correlation < 0.5 so we Accept Null hypothesis So it is a BAD Predictor"
   ]
  },
  {
   "cell_type": "markdown",
   "metadata": {},
   "source": [
    "# Migrants (net) (Continuous)"
   ]
  },
  {
   "cell_type": "code",
   "execution_count": 63,
   "metadata": {},
   "outputs": [
    {
     "data": {
      "text/plain": [
       "1"
      ]
     },
     "execution_count": 63,
     "metadata": {},
     "output_type": "execute_result"
    }
   ],
   "source": [
    "df['Migrants (net)'].isnull().sum()"
   ]
  },
  {
   "cell_type": "code",
   "execution_count": 64,
   "metadata": {},
   "outputs": [
    {
     "data": {
      "text/plain": [
       "-470015.0    1\n",
       "-17078.0     1\n",
       "-440124.0    1\n",
       " 115942.0    1\n",
       "-30805.0     1\n",
       "-21140.0     1\n",
       "-415736.0    1\n",
       " 222247.0    1\n",
       "-68569.0     1\n",
       " 9030.0      1\n",
       "-136514.0    1\n",
       "-414772.0    1\n",
       " 421208.0    1\n",
       "-415732.0    1\n",
       "-464081.0    1\n",
       "-531169.0    1\n",
       "-110590.0    1\n",
       "-377797.0    1\n",
       "-532687.0    5\n",
       "Name: Migrants (net), dtype: int64"
      ]
     },
     "execution_count": 64,
     "metadata": {},
     "output_type": "execute_result"
    }
   ],
   "source": [
    "df['Migrants (net)'].value_counts().sort_values()"
   ]
  },
  {
   "cell_type": "code",
   "execution_count": 72,
   "metadata": {},
   "outputs": [],
   "source": [
    "df['Migrants (net)'] = df['Migrants (net)'].fillna(df['Migrants (net)'].median())"
   ]
  },
  {
   "cell_type": "code",
   "execution_count": 66,
   "metadata": {},
   "outputs": [
    {
     "data": {
      "text/plain": [
       "0"
      ]
     },
     "execution_count": 66,
     "metadata": {},
     "output_type": "execute_result"
    }
   ],
   "source": [
    "df['Migrants (net)'].isnull().sum()"
   ]
  },
  {
   "cell_type": "code",
   "execution_count": 67,
   "metadata": {},
   "outputs": [
    {
     "data": {
      "text/plain": [
       "-470015.0    1\n",
       "-17078.0     1\n",
       "-440124.0    1\n",
       " 115942.0    1\n",
       "-30805.0     1\n",
       "-21140.0     1\n",
       "-415736.0    1\n",
       " 222247.0    1\n",
       "-68569.0     1\n",
       " 9030.0      1\n",
       "-136514.0    1\n",
       " 421208.0    1\n",
       "-415732.0    1\n",
       "-464081.0    1\n",
       "-531169.0    1\n",
       "-110590.0    1\n",
       "-377797.0    1\n",
       "-414772.0    2\n",
       "-532687.0    5\n",
       "Name: Migrants (net), dtype: int64"
      ]
     },
     "execution_count": 67,
     "metadata": {},
     "output_type": "execute_result"
    }
   ],
   "source": [
    "df['Migrants (net)'].value_counts().sort_values()"
   ]
  },
  {
   "cell_type": "code",
   "execution_count": 73,
   "metadata": {},
   "outputs": [
    {
     "data": {
      "text/plain": [
       "Text(0.5, 1.0, 'Histogram for Migrants (net)')"
      ]
     },
     "execution_count": 73,
     "metadata": {},
     "output_type": "execute_result"
    },
    {
     "data": {
      "image/png": "[encoded data removed]",
      "text/plain": [
       "<Figure size 432x288 with 1 Axes>"
      ]
     },
     "metadata": {
      "needs_background": "light"
     },
     "output_type": "display_data"
    }
   ],
   "source": [
    "plt.hist(df['Migrants (net)'], color = 'Black')\n",
    "plt.title(\"Histogram for Migrants (net)\")"
   ]
  },
  {
   "cell_type": "code",
   "execution_count": 74,
   "metadata": {},
   "outputs": [
    {
     "data": {
      "text/plain": [
       "Text(0.5, 1.0, 'Scatter Plot for Migrants (net)')"
      ]
     },
     "execution_count": 74,
     "metadata": {},
     "output_type": "execute_result"
    },
    {
     "data": {
      "image/png": "[encoded data removed]",
      "text/plain": [
       "<Figure size 432x288 with 1 Axes>"
      ]
     },
     "metadata": {
      "needs_background": "light"
     },
     "output_type": "display_data"
    }
   ],
   "source": [
    "plt.scatter(df['Migrants (net)'],df.Population)\n",
    "plt.title(\"Scatter Plot for Migrants (net)\")"
   ]
  },
  {
   "cell_type": "code",
   "execution_count": 75,
   "metadata": {},
   "outputs": [
    {
     "data": {
      "text/plain": [
       "Text(0.5, 1.0, 'Distribution plot for Migrants (net)')"
      ]
     },
     "execution_count": 75,
     "metadata": {},
     "output_type": "execute_result"
    },
    {
     "data": {
      "image/png": "[encoded data removed]",
      "text/plain": [
       "<Figure size 432x288 with 1 Axes>"
      ]
     },
     "metadata": {
      "needs_background": "light"
     },
     "output_type": "display_data"
    }
   ],
   "source": [
    "sns.distplot(df['Migrants (net)'])\n",
    "plt.title(\"Distribution plot for Migrants (net)\")"
   ]
  },
  {
   "cell_type": "code",
   "execution_count": 76,
   "metadata": {},
   "outputs": [
    {
     "data": {
      "text/plain": [
       "Text(0.5, 1.0, 'Box plot for Migrants (net)')"
      ]
     },
     "execution_count": 76,
     "metadata": {},
     "output_type": "execute_result"
    },
    {
     "data": {
      "image/png": "[encoded data removed]",
      "text/plain": [
       "<Figure size 432x288 with 1 Axes>"
      ]
     },
     "metadata": {
      "needs_background": "light"
     },
     "output_type": "display_data"
    }
   ],
   "source": [
    "sns.boxplot(df['Migrants (net)'])\n",
    "plt.title(\"Box plot for Migrants (net)\")"
   ]
  },
  {
   "cell_type": "code",
   "execution_count": 72,
   "metadata": {},
   "outputs": [
    {
     "name": "stdout",
     "output_type": "stream",
     "text": [
      "Pearsons correlation: -0.826\n"
     ]
    }
   ],
   "source": [
    "corr,_ = pearsonr(df['Migrants (net)'],df.Population)\n",
    "print('Pearsons correlation: %.3f' %corr)"
   ]
  },
  {
   "cell_type": "code",
   "execution_count": 73,
   "metadata": {},
   "outputs": [
    {
     "data": {
      "text/plain": [
       "(-0.8258361443754704, 6.720893511205112e-07)"
      ]
     },
     "execution_count": 73,
     "metadata": {},
     "output_type": "execute_result"
    }
   ],
   "source": [
    "scipy.stats.pearsonr(df['Migrants (net)'],df.Population)"
   ]
  },
  {
   "cell_type": "markdown",
   "metadata": {},
   "source": [
    "### As 'Migrants (net)' has a correlation < 0.5 so we Accept Null hypothesis So it is a BAD Predictor"
   ]
  },
  {
   "cell_type": "markdown",
   "metadata": {},
   "source": [
    "# Median Age (Continuous)"
   ]
  },
  {
   "cell_type": "code",
   "execution_count": 74,
   "metadata": {},
   "outputs": [
    {
     "data": {
      "text/plain": [
       "0"
      ]
     },
     "execution_count": 74,
     "metadata": {},
     "output_type": "execute_result"
    }
   ],
   "source": [
    "df['Median_Age'].isnull().sum()"
   ]
  },
  {
   "cell_type": "code",
   "execution_count": 77,
   "metadata": {},
   "outputs": [
    {
     "data": {
      "text/plain": [
       "31.7    1\n",
       "28.4    1\n",
       "33.3    1\n",
       "23.8    1\n",
       "25.1    1\n",
       "20.7    1\n",
       "21.1    1\n",
       "22.7    1\n",
       "19.7    1\n",
       "35.0    1\n",
       "19.3    1\n",
       "26.8    1\n",
       "19.6    1\n",
       "30.0    1\n",
       "36.6    1\n",
       "21.8    1\n",
       "20.6    1\n",
       "20.2    2\n",
       "27.1    4\n",
       "Name: Median_Age, dtype: int64"
      ]
     },
     "execution_count": 77,
     "metadata": {},
     "output_type": "execute_result"
    }
   ],
   "source": [
    "df['Median_Age'].value_counts().sort_values()"
   ]
  },
  {
   "cell_type": "code",
   "execution_count": 79,
   "metadata": {},
   "outputs": [
    {
     "data": {
      "text/plain": [
       "Text(0.5, 1.0, 'Histogram for Median_Age')"
      ]
     },
     "execution_count": 79,
     "metadata": {},
     "output_type": "execute_result"
    },
    {
     "data": {
      "image/png": "[encoded data removed]",
      "text/plain": [
       "<Figure size 432x288 with 1 Axes>"
      ]
     },
     "metadata": {
      "needs_background": "light"
     },
     "output_type": "display_data"
    }
   ],
   "source": [
    "plt.hist(df['Median_Age'], color = 'Black')\n",
    "plt.title(\"Histogram for Median_Age\")"
   ]
  },
  {
   "cell_type": "code",
   "execution_count": 81,
   "metadata": {},
   "outputs": [
    {
     "data": {
      "text/plain": [
       "Text(0.5, 1.0, 'Scatter plot for Median_Age')"
      ]
     },
     "execution_count": 81,
     "metadata": {},
     "output_type": "execute_result"
    },
    {
     "data": {
      "image/png": "[encoded data removed]",
      "text/plain": [
       "<Figure size 432x288 with 1 Axes>"
      ]
     },
     "metadata": {
      "needs_background": "light"
     },
     "output_type": "display_data"
    }
   ],
   "source": [
    "plt.scatter(df['Median_Age'],df.Population)\n",
    "plt.title(\"Scatter plot for Median_Age\")"
   ]
  },
  {
   "cell_type": "code",
   "execution_count": 82,
   "metadata": {},
   "outputs": [
    {
     "data": {
      "text/plain": [
       "Text(0.5, 1.0, 'Distribution plot for Median_Age')"
      ]
     },
     "execution_count": 82,
     "metadata": {},
     "output_type": "execute_result"
    },
    {
     "data": {
      "image/png": "[encoded data removed]",
      "text/plain": [
       "<Figure size 432x288 with 1 Axes>"
      ]
     },
     "metadata": {
      "needs_background": "light"
     },
     "output_type": "display_data"
    }
   ],
   "source": [
    "sns.distplot(df['Median_Age'])\n",
    "plt.title(\"Distribution plot for Median_Age\")"
   ]
  },
  {
   "cell_type": "code",
   "execution_count": 83,
   "metadata": {},
   "outputs": [
    {
     "data": {
      "text/plain": [
       "Text(0.5, 1.0, 'Box plot for Median_Age')"
      ]
     },
     "execution_count": 83,
     "metadata": {},
     "output_type": "execute_result"
    },
    {
     "data": {
      "image/png": "[encoded data removed]",
      "text/plain": [
       "<Figure size 432x288 with 1 Axes>"
      ]
     },
     "metadata": {
      "needs_background": "light"
     },
     "output_type": "display_data"
    }
   ],
   "source": [
    "sns.boxplot(df['Median_Age'])\n",
    "plt.title(\"Box plot for Median_Age\")"
   ]
  },
  {
   "cell_type": "code",
   "execution_count": 80,
   "metadata": {},
   "outputs": [
    {
     "name": "stdout",
     "output_type": "stream",
     "text": [
      "Pearsons correlation: 0.912\n"
     ]
    }
   ],
   "source": [
    "corr,_ = pearsonr(df['Median Age'],df.Population)\n",
    "print('Pearsons correlation: %.3f' %corr)"
   ]
  },
  {
   "cell_type": "code",
   "execution_count": 81,
   "metadata": {},
   "outputs": [
    {
     "data": {
      "text/plain": [
       "(0.9117719182649223, 5.751454303711166e-10)"
      ]
     },
     "execution_count": 81,
     "metadata": {},
     "output_type": "execute_result"
    }
   ],
   "source": [
    "scipy.stats.pearsonr(df['Median Age'],df.Population)"
   ]
  },
  {
   "cell_type": "markdown",
   "metadata": {},
   "source": [
    "### As 'Median Age' has a correlation > 0.5 so we reject Null hypothesis So it is a Good Predictor"
   ]
  },
  {
   "cell_type": "markdown",
   "metadata": {},
   "source": [
    "# Fertility Rate (Continuous)"
   ]
  },
  {
   "cell_type": "code",
   "execution_count": 82,
   "metadata": {},
   "outputs": [
    {
     "data": {
      "text/plain": [
       "0"
      ]
     },
     "execution_count": 82,
     "metadata": {},
     "output_type": "execute_result"
    }
   ],
   "source": [
    "df['Fertility_Rate'].isnull().sum()"
   ]
  },
  {
   "cell_type": "code",
   "execution_count": 83,
   "metadata": {},
   "outputs": [
    {
     "data": {
      "text/plain": [
       "4.97    1\n",
       "2.80    1\n",
       "5.72    1\n",
       "3.48    1\n",
       "4.68    1\n",
       "3.83    1\n",
       "2.40    1\n",
       "4.27    1\n",
       "3.14    1\n",
       "5.89    1\n",
       "5.41    1\n",
       "5.90    2\n",
       "2.36    4\n",
       "2.24    7\n",
       "Name: Fertility Rate, dtype: int64"
      ]
     },
     "execution_count": 83,
     "metadata": {},
     "output_type": "execute_result"
    }
   ],
   "source": [
    "df['Fertility_Rate'].value_counts().sort_values()"
   ]
  },
  {
   "cell_type": "code",
   "execution_count": 84,
   "metadata": {},
   "outputs": [
    {
     "data": {
      "text/plain": [
       "Text(0.5, 1.0, 'Histogram for Fertility_Rate')"
      ]
     },
     "execution_count": 84,
     "metadata": {},
     "output_type": "execute_result"
    },
    {
     "data": {
      "image/png": "[encoded data removed]",
      "text/plain": [
       "<Figure size 432x288 with 1 Axes>"
      ]
     },
     "metadata": {
      "needs_background": "light"
     },
     "output_type": "display_data"
    }
   ],
   "source": [
    "plt.hist(df['Fertility_Rate'], color = 'Black')\n",
    "plt.title(\"Histogram for Fertility_Rate\")"
   ]
  },
  {
   "cell_type": "code",
   "execution_count": 85,
   "metadata": {},
   "outputs": [
    {
     "data": {
      "text/plain": [
       "Text(0.5, 1.0, 'Scatter plot for Fertility Rate')"
      ]
     },
     "execution_count": 85,
     "metadata": {},
     "output_type": "execute_result"
    },
    {
     "data": {
      "image/png": "[encoded data removed]",
      "text/plain": [
       "<Figure size 432x288 with 1 Axes>"
      ]
     },
     "metadata": {
      "needs_background": "light"
     },
     "output_type": "display_data"
    }
   ],
   "source": [
    "plt.scatter(df['Fertility_Rate'],df.Population)\n",
    "plt.title(\"Scatter plot for Fertility Rate\")"
   ]
  },
  {
   "cell_type": "code",
   "execution_count": 86,
   "metadata": {},
   "outputs": [
    {
     "data": {
      "text/plain": [
       "Text(0.5, 1.0, 'Distribution for Fertility Rate')"
      ]
     },
     "execution_count": 86,
     "metadata": {},
     "output_type": "execute_result"
    },
    {
     "data": {
      "image/png": "[encoded data removed]",
      "text/plain": [
       "<Figure size 432x288 with 1 Axes>"
      ]
     },
     "metadata": {
      "needs_background": "light"
     },
     "output_type": "display_data"
    }
   ],
   "source": [
    "sns.distplot(df['Fertility_Rate'])\n",
    "plt.title(\"Distribution for Fertility Rate\")"
   ]
  },
  {
   "cell_type": "code",
   "execution_count": 87,
   "metadata": {},
   "outputs": [
    {
     "data": {
      "text/plain": [
       "Text(0.5, 1.0, 'Box Plot for Fertility Rate')"
      ]
     },
     "execution_count": 87,
     "metadata": {},
     "output_type": "execute_result"
    },
    {
     "data": {
      "image/png": "[encoded data removed]",
      "text/plain": [
       "<Figure size 432x288 with 1 Axes>"
      ]
     },
     "metadata": {
      "needs_background": "light"
     },
     "output_type": "display_data"
    }
   ],
   "source": [
    "sns.boxplot(df['Fertility_Rate'])\n",
    "plt.title(\"Box Plot for Fertility Rate\")"
   ]
  },
  {
   "cell_type": "code",
   "execution_count": 88,
   "metadata": {},
   "outputs": [
    {
     "name": "stdout",
     "output_type": "stream",
     "text": [
      "Pearsons correlation: -0.979\n"
     ]
    }
   ],
   "source": [
    "corr,_ = pearsonr(df['Fertility Rate'],df.Population)\n",
    "print('Pearsons correlation: %.3f' %corr)"
   ]
  },
  {
   "cell_type": "code",
   "execution_count": 89,
   "metadata": {},
   "outputs": [
    {
     "data": {
      "text/plain": [
       "(-0.9791819764259315, 9.961730924671182e-17)"
      ]
     },
     "execution_count": 89,
     "metadata": {},
     "output_type": "execute_result"
    }
   ],
   "source": [
    "scipy.stats.pearsonr(df['Fertility Rate'],df.Population)"
   ]
  },
  {
   "cell_type": "markdown",
   "metadata": {},
   "source": [
    "### As 'Fertility Rate' has a correlation > 0.5 so we Reject Null hypothesis So it is a GOOD Predictor"
   ]
  },
  {
   "cell_type": "markdown",
   "metadata": {},
   "source": [
    "# Density (P/Km²) (Continuous)"
   ]
  },
  {
   "cell_type": "code",
   "execution_count": 91,
   "metadata": {},
   "outputs": [
    {
     "data": {
      "text/plain": [
       "0"
      ]
     },
     "execution_count": 91,
     "metadata": {},
     "output_type": "execute_result"
    }
   ],
   "source": [
    "df['Density'].isnull().sum()"
   ]
  },
  {
   "cell_type": "code",
   "execution_count": 92,
   "metadata": {},
   "outputs": [
    {
     "data": {
      "text/plain": [
       "415    1\n",
       "168    1\n",
       "294    1\n",
       "506    1\n",
       "441    1\n",
       "536    1\n",
       "235    1\n",
       "210    1\n",
       "464    1\n",
       "138    1\n",
       "355    1\n",
       "460    1\n",
       "523    1\n",
       "187    1\n",
       "264    1\n",
       "455    1\n",
       "551    1\n",
       "486    1\n",
       "324    1\n",
       "386    1\n",
       "450    1\n",
       "152    1\n",
       "445    1\n",
       "545    1\n",
       "Name: Density (P/Km²), dtype: int64"
      ]
     },
     "execution_count": 92,
     "metadata": {},
     "output_type": "execute_result"
    }
   ],
   "source": [
    "df['Density'].value_counts().sort_values()"
   ]
  },
  {
   "cell_type": "code",
   "execution_count": 88,
   "metadata": {},
   "outputs": [
    {
     "data": {
      "text/plain": [
       "Text(0.5, 1.0, 'Histogram for Density')"
      ]
     },
     "execution_count": 88,
     "metadata": {},
     "output_type": "execute_result"
    },
    {
     "data": {
      "image/png": "[encoded data removed]",
      "text/plain": [
       "<Figure size 432x288 with 1 Axes>"
      ]
     },
     "metadata": {
      "needs_background": "light"
     },
     "output_type": "display_data"
    }
   ],
   "source": [
    "plt.hist(df['Density'], color = 'Black')\n",
    "plt.title(\"Histogram for Density\")"
   ]
  },
  {
   "cell_type": "code",
   "execution_count": 89,
   "metadata": {},
   "outputs": [
    {
     "data": {
      "text/plain": [
       "Text(0.5, 1.0, 'Scatter plot for Density')"
      ]
     },
     "execution_count": 89,
     "metadata": {},
     "output_type": "execute_result"
    },
    {
     "data": {
      "image/png": "[encoded data removed]",
      "text/plain": [
       "<Figure size 432x288 with 1 Axes>"
      ]
     },
     "metadata": {
      "needs_background": "light"
     },
     "output_type": "display_data"
    }
   ],
   "source": [
    "plt.scatter(df['Density'],df.Population)\n",
    "plt.title(\"Scatter plot for Density\")"
   ]
  },
  {
   "cell_type": "code",
   "execution_count": 90,
   "metadata": {},
   "outputs": [
    {
     "data": {
      "text/plain": [
       "Text(0.5, 1.0, 'Distribution plot for Density')"
      ]
     },
     "execution_count": 90,
     "metadata": {},
     "output_type": "execute_result"
    },
    {
     "data": {
      "image/png": "[encoded data removed]",
      "text/plain": [
       "<Figure size 432x288 with 1 Axes>"
      ]
     },
     "metadata": {
      "needs_background": "light"
     },
     "output_type": "display_data"
    }
   ],
   "source": [
    "sns.distplot(df['Density'])\n",
    "plt.title(\"Distribution plot for Density\")"
   ]
  },
  {
   "cell_type": "code",
   "execution_count": 91,
   "metadata": {},
   "outputs": [
    {
     "data": {
      "text/plain": [
       "Text(0.5, 1.0, 'Box Plot for Density')"
      ]
     },
     "execution_count": 91,
     "metadata": {},
     "output_type": "execute_result"
    },
    {
     "data": {
      "image/png": "[encoded data removed]",
      "text/plain": [
       "<Figure size 432x288 with 1 Axes>"
      ]
     },
     "metadata": {
      "needs_background": "light"
     },
     "output_type": "display_data"
    }
   ],
   "source": [
    "sns.boxplot(df['Density'])\n",
    "plt.title(\"Box Plot for Density\")"
   ]
  },
  {
   "cell_type": "code",
   "execution_count": 98,
   "metadata": {},
   "outputs": [
    {
     "name": "stdout",
     "output_type": "stream",
     "text": [
      "Pearsons correlation: 1.000\n"
     ]
    }
   ],
   "source": [
    "corr,_ = pearsonr(df['Density'],df.Population)\n",
    "print('Pearsons correlation: %.3f' %corr)"
   ]
  },
  {
   "cell_type": "code",
   "execution_count": 99,
   "metadata": {},
   "outputs": [
    {
     "data": {
      "text/plain": [
       "(0.9999980575544164, 5.116333085047382e-61)"
      ]
     },
     "execution_count": 99,
     "metadata": {},
     "output_type": "execute_result"
    }
   ],
   "source": [
    "scipy.stats.pearsonr(df['Density'],df.Population)"
   ]
  },
  {
   "cell_type": "markdown",
   "metadata": {},
   "source": [
    "###  As 'Density (P/Km²)' has a correlation > 0.5 so we Reject Null hypothesis So it is a GOOD Predictor"
   ]
  },
  {
   "cell_type": "markdown",
   "metadata": {},
   "source": [
    "# Urban\\nPop % (Continuous)"
   ]
  },
  {
   "cell_type": "code",
   "execution_count": 92,
   "metadata": {},
   "outputs": [
    {
     "data": {
      "text/plain": [
       "0"
      ]
     },
     "execution_count": 92,
     "metadata": {},
     "output_type": "execute_result"
    }
   ],
   "source": [
    "df['Urban'].isnull().sum()"
   ]
  },
  {
   "cell_type": "code",
   "execution_count": 101,
   "metadata": {},
   "outputs": [
    {
     "data": {
      "text/plain": [
       "30.8    1\n",
       "37.6    1\n",
       "46.7    1\n",
       "17.9    1\n",
       "18.7    1\n",
       "21.3    1\n",
       "33.6    1\n",
       "33.2    1\n",
       "19.7    1\n",
       "17.6    1\n",
       "32.7    1\n",
       "50.1    1\n",
       "40.4    1\n",
       "23.0    1\n",
       "29.1    1\n",
       "25.5    1\n",
       "34.1    1\n",
       "26.5    1\n",
       "34.5    1\n",
       "35.0    1\n",
       "43.5    1\n",
       "27.6    1\n",
       "24.3    1\n",
       "53.5    1\n",
       "Name: Urban\\nPop %, dtype: int64"
      ]
     },
     "execution_count": 101,
     "metadata": {},
     "output_type": "execute_result"
    }
   ],
   "source": [
    "df['Urban'].value_counts().sort_values() "
   ]
  },
  {
   "cell_type": "code",
   "execution_count": 93,
   "metadata": {},
   "outputs": [
    {
     "data": {
      "text/plain": [
       "Text(0.5, 1.0, 'Histogram for Urban')"
      ]
     },
     "execution_count": 93,
     "metadata": {},
     "output_type": "execute_result"
    },
    {
     "data": {
      "image/png": "[encoded data removed]",
      "text/plain": [
       "<Figure size 432x288 with 1 Axes>"
      ]
     },
     "metadata": {
      "needs_background": "light"
     },
     "output_type": "display_data"
    }
   ],
   "source": [
    "plt.hist(df['Urban'], color = 'Black')\n",
    "plt.title(\"Histogram for Urban\")"
   ]
  },
  {
   "cell_type": "code",
   "execution_count": 94,
   "metadata": {},
   "outputs": [
    {
     "data": {
      "text/plain": [
       "Text(0.5, 1.0, 'Scatter plot for Urban')"
      ]
     },
     "execution_count": 94,
     "metadata": {},
     "output_type": "execute_result"
    },
    {
     "data": {
      "image/png": "[encoded data removed]",
      "text/plain": [
       "<Figure size 432x288 with 1 Axes>"
      ]
     },
     "metadata": {
      "needs_background": "light"
     },
     "output_type": "display_data"
    }
   ],
   "source": [
    "plt.scatter(df['Urban'],df.Population)\n",
    "plt.title(\"Scatter plot for Urban\")"
   ]
  },
  {
   "cell_type": "code",
   "execution_count": 95,
   "metadata": {},
   "outputs": [
    {
     "data": {
      "text/plain": [
       "Text(0.5, 1.0, 'Distribution plot for Urban')"
      ]
     },
     "execution_count": 95,
     "metadata": {},
     "output_type": "execute_result"
    },
    {
     "data": {
      "image/png": "[encoded data removed]",
      "text/plain": [
       "<Figure size 432x288 with 1 Axes>"
      ]
     },
     "metadata": {
      "needs_background": "light"
     },
     "output_type": "display_data"
    }
   ],
   "source": [
    "sns.distplot(df['Urban'])\n",
    "plt.title(\"Distribution plot for Urban\")"
   ]
  },
  {
   "cell_type": "code",
   "execution_count": 96,
   "metadata": {},
   "outputs": [
    {
     "data": {
      "text/plain": [
       "Text(0.5, 1.0, 'Box plot for Urban')"
      ]
     },
     "execution_count": 96,
     "metadata": {},
     "output_type": "execute_result"
    },
    {
     "data": {
      "image/png": "[encoded data removed]",
      "text/plain": [
       "<Figure size 432x288 with 1 Axes>"
      ]
     },
     "metadata": {
      "needs_background": "light"
     },
     "output_type": "display_data"
    }
   ],
   "source": [
    "sns.boxplot(df['Urban'])\n",
    "plt.title(\"Box plot for Urban\")"
   ]
  },
  {
   "cell_type": "code",
   "execution_count": 7,
   "metadata": {},
   "outputs": [
    {
     "name": "stdout",
     "output_type": "stream",
     "text": [
      "35.65\n",
      "23.975\n"
     ]
    }
   ],
   "source": [
    "Q3_Urban = df['Urban\\nPop %'].quantile(0.75)\n",
    "print(Q3_Urban)\n",
    "Q1_Urban = df['Urban\\nPop %'].quantile(0.25)\n",
    "print(Q1_Urban)"
   ]
  },
  {
   "cell_type": "code",
   "execution_count": 8,
   "metadata": {},
   "outputs": [
    {
     "data": {
      "text/plain": [
       "11.674999999999997"
      ]
     },
     "execution_count": 8,
     "metadata": {},
     "output_type": "execute_result"
    }
   ],
   "source": [
    "IQR_Urban = Q3_Urban - Q1_Urban\n",
    "IQR_Urban"
   ]
  },
  {
   "cell_type": "code",
   "execution_count": 9,
   "metadata": {},
   "outputs": [
    {
     "name": "stdout",
     "output_type": "stream",
     "text": [
      "53.162499999999994\n",
      "6.462500000000006\n"
     ]
    }
   ],
   "source": [
    "UL_Urban = Q3_Urban + (1.5*IQR_Urban)\n",
    "print(UL_Urban)\n",
    "LL_Urban = Q1_Urban - (1.5*IQR_Urban)\n",
    "print(LL_Urban)"
   ]
  },
  {
   "cell_type": "code",
   "execution_count": 13,
   "metadata": {},
   "outputs": [
    {
     "data": {
      "text/plain": [
       "0"
      ]
     },
     "execution_count": 13,
     "metadata": {},
     "output_type": "execute_result"
    }
   ],
   "source": [
    "df['Urban\\nPop %'][(df['Urban\\nPop %']>UL_Urban)].value_counts().sum()"
   ]
  },
  {
   "cell_type": "code",
   "execution_count": 10,
   "metadata": {},
   "outputs": [
    {
     "data": {
      "text/plain": [
       "0"
      ]
     },
     "execution_count": 10,
     "metadata": {},
     "output_type": "execute_result"
    }
   ],
   "source": [
    "df['Urban\\nPop %'][(df['Urban\\nPop %']<LL_Urban)].value_counts().sum()"
   ]
  },
  {
   "cell_type": "code",
   "execution_count": 11,
   "metadata": {},
   "outputs": [
    {
     "data": {
      "text/html": [
       "<div>\n",
       "<style scoped>\n",
       "    .dataframe tbody tr th:only-of-type {\n",
       "        vertical-align: middle;\n",
       "    }\n",
       "\n",
       "    .dataframe tbody tr th {\n",
       "        vertical-align: top;\n",
       "    }\n",
       "\n",
       "    .dataframe thead th {\n",
       "        text-align: right;\n",
       "    }\n",
       "</style>\n",
       "<table border=\"1\" class=\"dataframe\">\n",
       "  <thead>\n",
       "    <tr style=\"text-align: right;\">\n",
       "      <th></th>\n",
       "      <th>Year</th>\n",
       "      <th>Yearly % \\nChange</th>\n",
       "      <th>Yearly\\nChange</th>\n",
       "      <th>Migrants (net)</th>\n",
       "      <th>Median Age</th>\n",
       "      <th>Fertility Rate</th>\n",
       "      <th>Density (P/Km²)</th>\n",
       "      <th>Urban\\nPop %</th>\n",
       "      <th>Urban Population</th>\n",
       "      <th>Country's Share of\\nWorld Pop</th>\n",
       "      <th>World Population</th>\n",
       "      <th>India\\nGlobal Rank</th>\n",
       "      <th>Population</th>\n",
       "    </tr>\n",
       "  </thead>\n",
       "  <tbody>\n",
       "    <tr>\n",
       "      <th>0</th>\n",
       "      <td>2050</td>\n",
       "      <td>0.23</td>\n",
       "      <td>3711367</td>\n",
       "      <td>NaN</td>\n",
       "      <td>38.1</td>\n",
       "      <td>2.24</td>\n",
       "      <td>551</td>\n",
       "      <td>53.5</td>\n",
       "      <td>876613025</td>\n",
       "      <td>16.84</td>\n",
       "      <td>9735033990</td>\n",
       "      <td>1</td>\n",
       "      <td>1639176033</td>\n",
       "    </tr>\n",
       "  </tbody>\n",
       "</table>\n",
       "</div>"
      ],
      "text/plain": [
       "   Year  Yearly % \\nChange  Yearly\\nChange  Migrants (net)  Median Age  \\\n",
       "0  2050  0.23               3711367        NaN              38.1         \n",
       "\n",
       "   Fertility Rate  Density (P/Km²)  Urban\\nPop %  Urban Population  \\\n",
       "0  2.24            551              53.5          876613025          \n",
       "\n",
       "   Country's Share of\\nWorld Pop World Population  India\\nGlobal Rank  \\\n",
       "0  16.84                          9735033990       1                    \n",
       "\n",
       "   Population  \n",
       "0  1639176033  "
      ]
     },
     "execution_count": 11,
     "metadata": {},
     "output_type": "execute_result"
    }
   ],
   "source": [
    "df[df['Urban\\nPop %']> UL_Urban]"
   ]
  },
  {
   "cell_type": "code",
   "execution_count": 12,
   "metadata": {},
   "outputs": [],
   "source": [
    "df = df.drop([0])"
   ]
  },
  {
   "cell_type": "code",
   "execution_count": 118,
   "metadata": {},
   "outputs": [
    {
     "name": "stdout",
     "output_type": "stream",
     "text": [
      "<class 'pandas.core.frame.DataFrame'>\n",
      "Int64Index: 23 entries, 1 to 23\n",
      "Data columns (total 13 columns):\n",
      " #   Column                        Non-Null Count  Dtype  \n",
      "---  ------                        --------------  -----  \n",
      " 0   Year                          23 non-null     int64  \n",
      " 1   Yearly % \n",
      "Change              23 non-null     float64\n",
      " 2   Yearly\n",
      "Change                 23 non-null     int64  \n",
      " 3   Migrants (net)                23 non-null     float64\n",
      " 4   Median Age                    23 non-null     float64\n",
      " 5   Fertility Rate                23 non-null     float64\n",
      " 6   Density (P/Km²)               23 non-null     int64  \n",
      " 7   Urban\n",
      "Pop %                   23 non-null     float64\n",
      " 8   Urban Population              23 non-null     int64  \n",
      " 9   Country's Share of\n",
      "World Pop  23 non-null     float64\n",
      " 10  World Population              23 non-null     object \n",
      " 11  India\n",
      "Global Rank             23 non-null     int64  \n",
      " 12  Population                    23 non-null     int64  \n",
      "dtypes: float64(6), int64(6), object(1)\n",
      "memory usage: 2.5+ KB\n"
     ]
    }
   ],
   "source": [
    "df.info()"
   ]
  },
  {
   "cell_type": "code",
   "execution_count": 10,
   "metadata": {},
   "outputs": [
    {
     "data": {
      "text/plain": [
       "<matplotlib.axes._subplots.AxesSubplot at 0x7ff6a36bcc70>"
      ]
     },
     "execution_count": 10,
     "metadata": {},
     "output_type": "execute_result"
    },
    {
     "data": {
      "image/png": "[encoded data removed]",
      "text/plain": [
       "<Figure size 432x288 with 1 Axes>"
      ]
     },
     "metadata": {
      "needs_background": "light"
     },
     "output_type": "display_data"
    }
   ],
   "source": [
    "sns.boxplot(df['Urban], color = 'brown')"
   ]
  },
  {
   "cell_type": "code",
   "execution_count": 120,
   "metadata": {},
   "outputs": [
    {
     "name": "stdout",
     "output_type": "stream",
     "text": [
      "Pearsons correlation: 0.955\n"
     ]
    }
   ],
   "source": [
    "corr,_ = pearsonr(df['Urban\\nPop %'],df.Population)\n",
    "print('Pearsons correlation: %.3f' %corr)"
   ]
  },
  {
   "cell_type": "code",
   "execution_count": 121,
   "metadata": {},
   "outputs": [
    {
     "data": {
      "text/plain": [
       "(0.955012849123751, 1.473496762199543e-12)"
      ]
     },
     "execution_count": 121,
     "metadata": {},
     "output_type": "execute_result"
    }
   ],
   "source": [
    "scipy.stats.pearsonr(df['Urban\\nPop %'],df.Population)"
   ]
  },
  {
   "cell_type": "markdown",
   "metadata": {},
   "source": [
    "### As 'Urban\\nPop %' has a correlation > 0.5 so we Reject Null hypothesis So it is a GOOD Predictor"
   ]
  },
  {
   "cell_type": "markdown",
   "metadata": {},
   "source": [
    "# Urban Population (Continuous)"
   ]
  },
  {
   "cell_type": "code",
   "execution_count": 123,
   "metadata": {},
   "outputs": [
    {
     "data": {
      "text/plain": [
       "0"
      ]
     },
     "execution_count": 123,
     "metadata": {},
     "output_type": "execute_result"
    }
   ],
   "source": [
    "df['Urban Population'].isnull().sum()"
   ]
  },
  {
   "cell_type": "code",
   "execution_count": 124,
   "metadata": {},
   "outputs": [
    {
     "data": {
      "text/plain": [
       "93493844     1\n",
       "160941941    1\n",
       "291350282    1\n",
       "109388950    1\n",
       "222296728    1\n",
       "811749463    1\n",
       "190321782    1\n",
       "449963381    1\n",
       "460779764    1\n",
       "429069459    1\n",
       "607341981    1\n",
       "439391699    1\n",
       "744380367    1\n",
       "334479406    1\n",
       "542742539    1\n",
       "380744554    1\n",
       "255558824    1\n",
       "471828295    1\n",
       "675456367    1\n",
       "71958495     1\n",
       "132533810    1\n",
       "483098640    1\n",
       "80565723     1\n",
       "Name: Urban Population, dtype: int64"
      ]
     },
     "execution_count": 124,
     "metadata": {},
     "output_type": "execute_result"
    }
   ],
   "source": [
    "df['Urban Population'].value_counts().sort_values()"
   ]
  },
  {
   "cell_type": "code",
   "execution_count": 97,
   "metadata": {},
   "outputs": [
    {
     "data": {
      "text/plain": [
       "Text(0.5, 1.0, 'Histogram for Urban Population')"
      ]
     },
     "execution_count": 97,
     "metadata": {},
     "output_type": "execute_result"
    },
    {
     "data": {
      "image/png": "[encoded data removed]",
      "text/plain": [
       "<Figure size 432x288 with 1 Axes>"
      ]
     },
     "metadata": {
      "needs_background": "light"
     },
     "output_type": "display_data"
    }
   ],
   "source": [
    "plt.hist(df['Urban_Population'], color = 'Black')\n",
    "plt.title(\"Histogram for Urban Population\")"
   ]
  },
  {
   "cell_type": "code",
   "execution_count": 98,
   "metadata": {},
   "outputs": [
    {
     "data": {
      "text/plain": [
       "Text(0.5, 1.0, 'Scatter Plot for Urban Population')"
      ]
     },
     "execution_count": 98,
     "metadata": {},
     "output_type": "execute_result"
    },
    {
     "data": {
      "image/png": "[encoded data removed]",
      "text/plain": [
       "<Figure size 432x288 with 1 Axes>"
      ]
     },
     "metadata": {
      "needs_background": "light"
     },
     "output_type": "display_data"
    }
   ],
   "source": [
    "plt.scatter(df['Urban_Population'],df.Population)\n",
    "plt.title(\"Scatter Plot for Urban Population\")"
   ]
  },
  {
   "cell_type": "code",
   "execution_count": 99,
   "metadata": {},
   "outputs": [
    {
     "data": {
      "text/plain": [
       "Text(0.5, 1.0, 'Distribution Plot for Urban Population')"
      ]
     },
     "execution_count": 99,
     "metadata": {},
     "output_type": "execute_result"
    },
    {
     "data": {
      "image/png": "[encoded data removed]",
      "text/plain": [
       "<Figure size 432x288 with 1 Axes>"
      ]
     },
     "metadata": {
      "needs_background": "light"
     },
     "output_type": "display_data"
    }
   ],
   "source": [
    "sns.distplot(df['Urban_Population'])\n",
    "plt.title(\"Distribution Plot for Urban Population\")"
   ]
  },
  {
   "cell_type": "code",
   "execution_count": 100,
   "metadata": {},
   "outputs": [
    {
     "data": {
      "text/plain": [
       "Text(0.5, 1.0, 'Box Plot for Urban Population')"
      ]
     },
     "execution_count": 100,
     "metadata": {},
     "output_type": "execute_result"
    },
    {
     "data": {
      "image/png": "[encoded data removed]",
      "text/plain": [
       "<Figure size 432x288 with 1 Axes>"
      ]
     },
     "metadata": {
      "needs_background": "light"
     },
     "output_type": "display_data"
    }
   ],
   "source": [
    "sns.boxplot(df['Urban_Population'])\n",
    "plt.title(\"Box Plot for Urban Population\")"
   ]
  },
  {
   "cell_type": "code",
   "execution_count": 146,
   "metadata": {},
   "outputs": [
    {
     "name": "stdout",
     "output_type": "stream",
     "text": [
      "Pearsons correlation: 0.961\n"
     ]
    }
   ],
   "source": [
    "corr,_ = pearsonr(df['Urban Population'],df.Population)\n",
    "print('Pearsons correlation: %.3f' %corr)"
   ]
  },
  {
   "cell_type": "code",
   "execution_count": 147,
   "metadata": {},
   "outputs": [
    {
     "data": {
      "text/plain": [
       "(0.960935066988385, 3.435914836279112e-13)"
      ]
     },
     "execution_count": 147,
     "metadata": {},
     "output_type": "execute_result"
    }
   ],
   "source": [
    "scipy.stats.pearsonr(df['Urban Population'],df.Population)"
   ]
  },
  {
   "cell_type": "markdown",
   "metadata": {},
   "source": [
    "### As 'Urban Population' has a correlation > 0.5 so we Reject Null hypothesis So it is a GOOD Predictor"
   ]
  },
  {
   "cell_type": "markdown",
   "metadata": {},
   "source": [
    "# Country's Share of\\nWorld Pop (Continuous)"
   ]
  },
  {
   "cell_type": "code",
   "execution_count": 148,
   "metadata": {},
   "outputs": [
    {
     "data": {
      "text/plain": [
       "0"
      ]
     },
     "execution_count": 148,
     "metadata": {},
     "output_type": "execute_result"
    }
   ],
   "source": [
    "df[\"Country_Share\"].isnull().sum()"
   ]
  },
  {
   "cell_type": "code",
   "execution_count": 149,
   "metadata": {},
   "outputs": [
    {
     "data": {
      "text/plain": [
       "16.78    1\n",
       "17.71    1\n",
       "16.10    1\n",
       "14.95    1\n",
       "17.54    1\n",
       "17.66    1\n",
       "17.09    1\n",
       "16.39    1\n",
       "15.27    1\n",
       "14.85    1\n",
       "17.20    1\n",
       "17.48    1\n",
       "17.70    1\n",
       "15.68    1\n",
       "17.73    1\n",
       "15.00    1\n",
       "17.31    1\n",
       "14.78    1\n",
       "17.59    1\n",
       "17.74    2\n",
       "17.75    2\n",
       "Name: Country's Share of\\nWorld Pop, dtype: int64"
      ]
     },
     "execution_count": 149,
     "metadata": {},
     "output_type": "execute_result"
    }
   ],
   "source": [
    "df[\"Country_Share\"].value_counts().sort_values()"
   ]
  },
  {
   "cell_type": "code",
   "execution_count": 101,
   "metadata": {},
   "outputs": [
    {
     "data": {
      "text/plain": [
       "Text(0.5, 1.0, 'Histogram for Country Share')"
      ]
     },
     "execution_count": 101,
     "metadata": {},
     "output_type": "execute_result"
    },
    {
     "data": {
      "image/png": "[encoded data removed]",
      "text/plain": [
       "<Figure size 432x288 with 1 Axes>"
      ]
     },
     "metadata": {
      "needs_background": "light"
     },
     "output_type": "display_data"
    }
   ],
   "source": [
    "plt.hist(df[\"Country_Share\"], color = 'Black')\n",
    "plt.title(\"Histogram for Country Share\")"
   ]
  },
  {
   "cell_type": "code",
   "execution_count": 102,
   "metadata": {},
   "outputs": [
    {
     "data": {
      "text/plain": [
       "Text(0.5, 1.0, 'Scatter plot for Country Share')"
      ]
     },
     "execution_count": 102,
     "metadata": {},
     "output_type": "execute_result"
    },
    {
     "data": {
      "image/png": "[encoded data removed]",
      "text/plain": [
       "<Figure size 432x288 with 1 Axes>"
      ]
     },
     "metadata": {
      "needs_background": "light"
     },
     "output_type": "display_data"
    }
   ],
   "source": [
    "plt.scatter(df[\"Country_Share\"],df.Population)\n",
    "plt.title(\"Scatter plot for Country Share\")"
   ]
  },
  {
   "cell_type": "code",
   "execution_count": 103,
   "metadata": {},
   "outputs": [
    {
     "data": {
      "text/plain": [
       "Text(0.5, 1.0, 'Distribution plot for Country Share')"
      ]
     },
     "execution_count": 103,
     "metadata": {},
     "output_type": "execute_result"
    },
    {
     "data": {
      "image/png": "[encoded data removed]",
      "text/plain": [
       "<Figure size 432x288 with 1 Axes>"
      ]
     },
     "metadata": {
      "needs_background": "light"
     },
     "output_type": "display_data"
    }
   ],
   "source": [
    "sns.distplot(df[\"Country_Share\"])\n",
    "plt.title(\"Distribution plot for Country Share\")"
   ]
  },
  {
   "cell_type": "code",
   "execution_count": 104,
   "metadata": {},
   "outputs": [
    {
     "data": {
      "text/plain": [
       "Text(0.5, 1.0, 'Box plot for Country Share')"
      ]
     },
     "execution_count": 104,
     "metadata": {},
     "output_type": "execute_result"
    },
    {
     "data": {
      "image/png": "[encoded data removed]",
      "text/plain": [
       "<Figure size 432x288 with 1 Axes>"
      ]
     },
     "metadata": {
      "needs_background": "light"
     },
     "output_type": "display_data"
    }
   ],
   "source": [
    "sns.boxplot(df[\"Country_Share\"])\n",
    "plt.title(\"Box plot for Country Share\")"
   ]
  },
  {
   "cell_type": "code",
   "execution_count": 154,
   "metadata": {},
   "outputs": [
    {
     "name": "stdout",
     "output_type": "stream",
     "text": [
      "Pearsons correlation: 0.921\n"
     ]
    }
   ],
   "source": [
    "corr,_ = pearsonr(df[\"Country's Share of\\nWorld Pop\"],df.Population)\n",
    "print('Pearsons correlation: %.3f' %corr)"
   ]
  },
  {
   "cell_type": "code",
   "execution_count": 155,
   "metadata": {},
   "outputs": [
    {
     "data": {
      "text/plain": [
       "(0.9214994897969809, 4.38786873921326e-10)"
      ]
     },
     "execution_count": 155,
     "metadata": {},
     "output_type": "execute_result"
    }
   ],
   "source": [
    "scipy.stats.pearsonr(df[\"Country's Share of\\nWorld Pop\"],df.Population)"
   ]
  },
  {
   "cell_type": "markdown",
   "metadata": {},
   "source": [
    "### As 'Country's Share of\\nWorld Pop' has a correlation > 0.5 so we Reject Null hypothesis So it is a GOOD Predictor"
   ]
  },
  {
   "cell_type": "markdown",
   "metadata": {},
   "source": [
    "# World Population (Continuous)"
   ]
  },
  {
   "cell_type": "code",
   "execution_count": 157,
   "metadata": {},
   "outputs": [
    {
     "data": {
      "text/plain": [
       "0"
      ]
     },
     "execution_count": 157,
     "metadata": {},
     "output_type": "execute_result"
    }
   ],
   "source": [
    "df[\"World_Population\"].isnull().sum()"
   ]
  },
  {
   "cell_type": "code",
   "execution_count": 158,
   "metadata": {},
   "outputs": [
    {
     "data": {
      "text/plain": [
       "7713468100        1\n",
       "3034949748        1\n",
       "8184437460        1\n",
       "5327231061        1\n",
       "4870921740        1\n",
       "6143493823        1\n",
       "7794798739        1\n",
       "8548487400        1\n",
       "4079480606        1\n",
       "4458003514        1\n",
       "5744212979        1\n",
       "3339583597        1\n",
       "6541907027        1\n",
       "7547858925        1\n",
       "2,77,30,19,936    1\n",
       "7379797139        1\n",
       "7631091040        1\n",
       "3700437046        1\n",
       "9198847240        1\n",
       "7464022049        1\n",
       "6956823603        1\n",
       "9481803274        1\n",
       "8887524213        1\n",
       "Name: World Population, dtype: int64"
      ]
     },
     "execution_count": 158,
     "metadata": {},
     "output_type": "execute_result"
    }
   ],
   "source": [
    "df[\"World_Population\"].value_counts().sort_values()"
   ]
  },
  {
   "cell_type": "code",
   "execution_count": 105,
   "metadata": {},
   "outputs": [
    {
     "data": {
      "text/plain": [
       "Text(0.5, 1.0, 'Histogram for World Population')"
      ]
     },
     "execution_count": 105,
     "metadata": {},
     "output_type": "execute_result"
    },
    {
     "data": {
      "image/png": "[encoded data removed]",
      "text/plain": [
       "<Figure size 432x288 with 1 Axes>"
      ]
     },
     "metadata": {
      "needs_background": "light"
     },
     "output_type": "display_data"
    }
   ],
   "source": [
    "plt.hist(df[\"World_Population\"], color = 'violet')\n",
    "plt.title(\"Histogram for World Population\")"
   ]
  },
  {
   "cell_type": "code",
   "execution_count": 106,
   "metadata": {},
   "outputs": [
    {
     "data": {
      "text/plain": [
       "Text(0.5, 1.0, 'Scatter plot for World Population')"
      ]
     },
     "execution_count": 106,
     "metadata": {},
     "output_type": "execute_result"
    },
    {
     "data": {
      "image/png": "[encoded data removed]",
      "text/plain": [
       "<Figure size 432x288 with 1 Axes>"
      ]
     },
     "metadata": {
      "needs_background": "light"
     },
     "output_type": "display_data"
    }
   ],
   "source": [
    "plt.scatter(df[\"World_Population\"],df.Population)\n",
    "plt.title(\"Scatter plot for World Population\")"
   ]
  },
  {
   "cell_type": "code",
   "execution_count": 32,
   "metadata": {},
   "outputs": [],
   "source": [
    "df['World_Population']=df['World_Population'].str.replace(',','')"
   ]
  },
  {
   "cell_type": "code",
   "execution_count": 38,
   "metadata": {},
   "outputs": [
    {
     "data": {
      "text/plain": [
       "1     9481803274\n",
       "2     9198847240\n",
       "3     8887524213\n",
       "4     8548487400\n",
       "5     8184437460\n",
       "6     7794798739\n",
       "7     7713468100\n",
       "8     7631091040\n",
       "9     7547858925\n",
       "10    7464022049\n",
       "11    7379797139\n",
       "12    6956823603\n",
       "13    6541907027\n",
       "14    6143493823\n",
       "15    5744212979\n",
       "16    5327231061\n",
       "17    4870921740\n",
       "18    4458003514\n",
       "19    4079480606\n",
       "20    3700437046\n",
       "21    3339583597\n",
       "22    3034949748\n",
       "23    2773019936\n",
       "Name: World_Population, dtype: int64"
      ]
     },
     "execution_count": 38,
     "metadata": {},
     "output_type": "execute_result"
    }
   ],
   "source": [
    "df.World_Population"
   ]
  },
  {
   "cell_type": "code",
   "execution_count": 109,
   "metadata": {},
   "outputs": [
    {
     "data": {
      "text/plain": [
       "Text(0.5, 1.0, 'Distribution for World Population')"
      ]
     },
     "execution_count": 109,
     "metadata": {},
     "output_type": "execute_result"
    },
    {
     "data": {
      "image/png": "[encoded data removed]",
      "text/plain": [
       "<Figure size 432x288 with 1 Axes>"
      ]
     },
     "metadata": {
      "needs_background": "light"
     },
     "output_type": "display_data"
    }
   ],
   "source": [
    "sns.distplot(df[\"World_Population\"])\n",
    "plt.title(\"Distribution for World Population\")"
   ]
  },
  {
   "cell_type": "code",
   "execution_count": 34,
   "metadata": {},
   "outputs": [],
   "source": [
    "df['World_Population'] = df['World_Population'].astype('int')"
   ]
  },
  {
   "cell_type": "code",
   "execution_count": 110,
   "metadata": {},
   "outputs": [
    {
     "data": {
      "text/plain": [
       "Text(0.5, 1.0, 'Box plot for World Population')"
      ]
     },
     "execution_count": 110,
     "metadata": {},
     "output_type": "execute_result"
    },
    {
     "data": {
      "image/png": "[encoded data removed]",
      "text/plain": [
       "<Figure size 432x288 with 1 Axes>"
      ]
     },
     "metadata": {
      "needs_background": "light"
     },
     "output_type": "display_data"
    }
   ],
   "source": [
    "sns.boxplot(df['World_Population'])\n",
    "plt.title(\"Box plot for World Population\")"
   ]
  },
  {
   "cell_type": "code",
   "execution_count": 27,
   "metadata": {},
   "outputs": [
    {
     "name": "stdout",
     "output_type": "stream",
     "text": [
      "Pearsons correlation: 0.997\n"
     ]
    }
   ],
   "source": [
    "corr,_ = pearsonr(df[\"World Population\"],df.Population)\n",
    "print('Pearsons correlation: %.3f' %corr)"
   ]
  },
  {
   "cell_type": "code",
   "execution_count": 28,
   "metadata": {},
   "outputs": [
    {
     "data": {
      "text/plain": [
       "(0.9971637524423023, 3.248341270860521e-26)"
      ]
     },
     "execution_count": 28,
     "metadata": {},
     "output_type": "execute_result"
    }
   ],
   "source": [
    "scipy.stats.pearsonr(df[\"World Population\"],df.Population)"
   ]
  },
  {
   "cell_type": "markdown",
   "metadata": {},
   "source": [
    "### As 'World Population' has a correlation > 0.5 so we Reject Null hypothesis So it is a GOOD Predictor"
   ]
  },
  {
   "cell_type": "markdown",
   "metadata": {},
   "source": [
    "# India\\nGlobal Rank (Categorical)"
   ]
  },
  {
   "cell_type": "code",
   "execution_count": 29,
   "metadata": {},
   "outputs": [
    {
     "data": {
      "text/plain": [
       "0"
      ]
     },
     "execution_count": 29,
     "metadata": {},
     "output_type": "execute_result"
    }
   ],
   "source": [
    "df['India\\nGlobal Rank'].isnull().sum()"
   ]
  },
  {
   "cell_type": "code",
   "execution_count": 30,
   "metadata": {},
   "outputs": [
    {
     "data": {
      "text/plain": [
       "1     5\n",
       "2    19\n",
       "Name: India\\nGlobal Rank, dtype: int64"
      ]
     },
     "execution_count": 30,
     "metadata": {},
     "output_type": "execute_result"
    }
   ],
   "source": [
    "df[\"India\\nGlobal Rank\"].value_counts().sort_values()"
   ]
  },
  {
   "cell_type": "code",
   "execution_count": 31,
   "metadata": {},
   "outputs": [
    {
     "data": {
      "text/plain": [
       "<matplotlib.axes._subplots.AxesSubplot at 0x7feff0f84370>"
      ]
     },
     "execution_count": 31,
     "metadata": {},
     "output_type": "execute_result"
    },
    {
     "data": {
      "image/png": "[encoded data removed]",
      "text/plain": [
       "<Figure size 432x288 with 1 Axes>"
      ]
     },
     "metadata": {
      "needs_background": "light"
     },
     "output_type": "display_data"
    }
   ],
   "source": [
    "sns.countplot(df['India\\nGlobal Rank'])"
   ]
  },
  {
   "cell_type": "code",
   "execution_count": 35,
   "metadata": {},
   "outputs": [
    {
     "data": {
      "text/plain": [
       "Text(0.5, 1.0, 'Box Plot for India and Population')"
      ]
     },
     "execution_count": 35,
     "metadata": {},
     "output_type": "execute_result"
    },
    {
     "data": {
      "image/png": "[encoded data removed]",
      "text/plain": [
       "<Figure size 432x288 with 1 Axes>"
      ]
     },
     "metadata": {
      "needs_background": "light"
     },
     "output_type": "display_data"
    }
   ],
   "source": [
    "sns.boxplot(x= 'India\\nGlobal Rank',y=\"Population\", data=df)\n",
    "plt.title(\"Box Plot for India and Population\")"
   ]
  },
  {
   "cell_type": "code",
   "execution_count": null,
   "metadata": {},
   "outputs": [],
   "source": [
    "df.rename(columns = {'India\\nGlobal Rank':'India'}, inplace = True)"
   ]
  },
  {
   "cell_type": "code",
   "execution_count": 44,
   "metadata": {},
   "outputs": [
    {
     "name": "stdout",
     "output_type": "stream",
     "text": [
      "            df        sum_sq       mean_sq          F    PR(>F)\n",
      "India      1.0  1.386068e+18  1.386068e+18  12.692116  0.001741\n",
      "Residual  22.0  2.402554e+18  1.092070e+17        NaN       NaN\n"
     ]
    }
   ],
   "source": [
    "mod = ols('Population ~ India', data=df).fit()\n",
    "aov_table = sm.stats.anova_lm(mod)\n",
    "print(aov_table)"
   ]
  },
  {
   "cell_type": "markdown",
   "metadata": {},
   "source": [
    "### As 'India' has p value < 0.05 so we reject Null hypothesis So it is a GOOD Predictor\n"
   ]
  },
  {
   "cell_type": "code",
   "execution_count": 16,
   "metadata": {},
   "outputs": [],
   "source": [
    "df.rename(columns = {'Yearly % \\nChange':'Year%'}, inplace=True)"
   ]
  },
  {
   "cell_type": "code",
   "execution_count": 11,
   "metadata": {},
   "outputs": [],
   "source": [
    "df.rename(columns = {'Yearly % \\nChange':'Year%'}, inplace = True)\n",
    "df.rename(columns = {'Median Age':'Median_Age'}, inplace = True)\n",
    "df.rename(columns = {'Fertility Rate':'Fertility_Rate'}, inplace = True)\n",
    "df.rename(columns = {'Density (P/Km²)':'Density'}, inplace = True)\n",
    "df.rename(columns = {'Urban\\nPop %':'Urban'}, inplace = True)\n",
    "df.rename(columns = {'Urban Population':'Urban_Population'}, inplace = True)\n",
    "df.rename(columns = {\"Country's Share of\\nWorld Pop\":'Country_Share'}, inplace = True)\n",
    "df.rename(columns = {'World Population':'World_Population'}, inplace = True)"
   ]
  },
  {
   "cell_type": "code",
   "execution_count": 13,
   "metadata": {},
   "outputs": [],
   "source": [
    "df.rename(columns = {'Year%':'Yearly'}, inplace = True)"
   ]
  },
  {
   "cell_type": "code",
   "execution_count": 24,
   "metadata": {},
   "outputs": [
    {
     "name": "stdout",
     "output_type": "stream",
     "text": [
      "<class 'pandas.core.frame.DataFrame'>\n",
      "Int64Index: 23 entries, 1 to 23\n",
      "Data columns (total 13 columns):\n",
      " #   Column             Non-Null Count  Dtype  \n",
      "---  ------             --------------  -----  \n",
      " 0   Year               23 non-null     int64  \n",
      " 1   Year%              23 non-null     float64\n",
      " 2   Yearly\n",
      "Change      23 non-null     int64  \n",
      " 3   Migrants (net)     23 non-null     float64\n",
      " 4   Median_Age         23 non-null     float64\n",
      " 5   Fertility_Rate     23 non-null     float64\n",
      " 6   Density            23 non-null     int64  \n",
      " 7   Urban              23 non-null     float64\n",
      " 8   Urban_Population   23 non-null     int64  \n",
      " 9   Country_Share      23 non-null     float64\n",
      " 10  World_Population   23 non-null     object \n",
      " 11  India\n",
      "Global Rank  23 non-null     int64  \n",
      " 12  Population         23 non-null     int64  \n",
      "dtypes: float64(6), int64(6), object(1)\n",
      "memory usage: 2.5+ KB\n"
     ]
    }
   ],
   "source": [
    "df.info()"
   ]
  },
  {
   "cell_type": "markdown",
   "metadata": {},
   "source": [
    "# Model Buliding"
   ]
  },
  {
   "cell_type": "code",
   "execution_count": 3,
   "metadata": {},
   "outputs": [],
   "source": [
    "x = df.iloc[:,:12]"
   ]
  },
  {
   "cell_type": "code",
   "execution_count": 4,
   "metadata": {},
   "outputs": [],
   "source": [
    "y = df.Population"
   ]
  },
  {
   "cell_type": "code",
   "execution_count": 5,
   "metadata": {},
   "outputs": [],
   "source": [
    "from sklearn.model_selection import train_test_split\n",
    "xtrain, xtest, ytrain, ytest = train_test_split(x,y, test_size=0.20, random_state=0)"
   ]
  },
  {
   "cell_type": "code",
   "execution_count": 14,
   "metadata": {},
   "outputs": [
    {
     "name": "stdout",
     "output_type": "stream",
     "text": [
      "                            OLS Regression Results                            \n",
      "==============================================================================\n",
      "Dep. Variable:             Population   R-squared:                       1.000\n",
      "Model:                            OLS   Adj. R-squared:                    nan\n",
      "Method:                 Least Squares   F-statistic:                       nan\n",
      "Date:                Mon, 15 Aug 2022   Prob (F-statistic):                nan\n",
      "Time:                        15:09:38   Log-Likelihood:                 149.07\n",
      "No. Observations:                  24   AIC:                            -250.1\n",
      "Df Residuals:                       0   BIC:                            -221.9\n",
      "Df Model:                          23                                         \n",
      "Covariance Type:            nonrobust                                         \n",
      "==================================================================================================\n",
      "                                     coef    std err          t      P>|t|      [0.025      0.975]\n",
      "--------------------------------------------------------------------------------------------------\n",
      "Intercept                      -2.012e+04        inf         -0        nan         nan         nan\n",
      "World_Population[T.3034949748]  -7.51e+05        inf         -0        nan         nan         nan\n",
      "World_Population[T.3339583597]  3.453e+05        inf          0        nan         nan         nan\n",
      "World_Population[T.3700437046] -7.647e+04        inf         -0        nan         nan         nan\n",
      "World_Population[T.4079480606] -7.092e+05        inf         -0        nan         nan         nan\n",
      "World_Population[T.4458003514]  4.426e+05        inf          0        nan         nan         nan\n",
      "World_Population[T.4870921740] -4.231e+05        inf         -0        nan         nan         nan\n",
      "World_Population[T.5327231061] -7.865e+05        inf         -0        nan         nan         nan\n",
      "World_Population[T.5744212979]  5.707e+05        inf          0        nan         nan         nan\n",
      "World_Population[T.6143493823]  1.075e+06        inf          0        nan         nan         nan\n",
      "World_Population[T.6541907027] -5.593e+04        inf         -0        nan         nan         nan\n",
      "World_Population[T.6956823603]   4.01e+05        inf          0        nan         nan         nan\n",
      "World_Population[T.7379797139] -1.063e+06        inf         -0        nan         nan         nan\n",
      "World_Population[T.7464022049]  1.369e+06        inf          0        nan         nan         nan\n",
      "World_Population[T.7547858925]  6.943e+05        inf          0        nan         nan         nan\n",
      "World_Population[T.7631091040] -1.985e+05        inf         -0        nan         nan         nan\n",
      "World_Population[T.7713468100] -1.249e+06        inf         -0        nan         nan         nan\n",
      "World_Population[T.7794798739]  5.026e+05        inf          0        nan         nan         nan\n",
      "World_Population[T.8184437460]  2.743e+05        inf          0        nan         nan         nan\n",
      "World_Population[T.8548487400] -4.372e+05        inf         -0        nan         nan         nan\n",
      "World_Population[T.8887524213]  -9.08e+05        inf         -0        nan         nan         nan\n",
      "World_Population[T.9198847240] -6.723e+05        inf         -0        nan         nan         nan\n",
      "World_Population[T.9481803274]  2.916e+05        inf          0        nan         nan         nan\n",
      "World_Population[T.9735033990]  7.438e+05        inf          0        nan         nan         nan\n",
      "Yearly                         -2.946e+05        inf         -0        nan         nan         nan\n",
      "Median_Age                     -1.313e+05        inf         -0        nan         nan         nan\n",
      "Fertility_Rate                 -9.576e+05        inf         -0        nan         nan         nan\n",
      "Density                         2.951e+06        inf          0        nan         nan         nan\n",
      "Urban                           2.436e+05        inf          0        nan         nan         nan\n",
      "Urban_Population                  -0.0023        inf         -0        nan         nan         nan\n",
      "Country_Share                   4.975e+05        inf          0        nan         nan         nan\n",
      "==============================================================================\n",
      "Omnibus:                        7.087   Durbin-Watson:                   2.032\n",
      "Prob(Omnibus):                  0.029   Jarque-Bera (JB):                4.916\n",
      "Skew:                          -0.899   Prob(JB):                       0.0856\n",
      "Kurtosis:                       4.299   Cond. No.                     3.06e+09\n",
      "==============================================================================\n",
      "\n",
      "Notes:\n",
      "[1] Standard Errors assume that the covariance matrix of the errors is correctly specified.\n",
      "[2] The input rank is higher than the number of observations.\n",
      "[3] The condition number is large, 3.06e+09. This might indicate that there are\n",
      "strong multicollinearity or other numerical problems.\n"
     ]
    }
   ],
   "source": [
    "model1_1=smf.ols(formula='Population ~ Yearly + Median_Age + Fertility_Rate + Density + Urban + Urban_Population + Country_Share + World_Population'\n",
    "               ,data=df).fit()\n",
    "print(model1_1.summary())"
   ]
  },
  {
   "cell_type": "code",
   "execution_count": null,
   "metadata": {},
   "outputs": [],
   "source": []
  },
  {
   "cell_type": "code",
   "execution_count": 42,
   "metadata": {},
   "outputs": [],
   "source": [
    "from sklearn.preprocessing import StandardScaler\n",
    "from sklearn.linear_model import SGDRegressor\n",
    "from sklearn.metrics import mean_squared_error"
   ]
  },
  {
   "cell_type": "code",
   "execution_count": 43,
   "metadata": {},
   "outputs": [],
   "source": [
    "sc_X = StandardScaler()"
   ]
  },
  {
   "cell_type": "code",
   "execution_count": 44,
   "metadata": {},
   "outputs": [],
   "source": [
    "xtrain = sc_X.fit_transform(xtrain)"
   ]
  },
  {
   "cell_type": "code",
   "execution_count": 45,
   "metadata": {},
   "outputs": [],
   "source": [
    "xtest = sc_X.transform(xtest)"
   ]
  },
  {
   "cell_type": "code",
   "execution_count": 46,
   "metadata": {},
   "outputs": [],
   "source": [
    "sgdr = SGDRegressor()"
   ]
  },
  {
   "cell_type": "code",
   "execution_count": 47,
   "metadata": {},
   "outputs": [
    {
     "name": "stdout",
     "output_type": "stream",
     "text": [
      "R-Squared :  0.9993973519182715\n"
     ]
    }
   ],
   "source": [
    "sgdr.fit(xtrain, ytrain)\n",
    "score = sgdr.score(xtrain, ytrain)\n",
    "print(\"R-Squared : \", score)"
   ]
  },
  {
   "cell_type": "code",
   "execution_count": 48,
   "metadata": {},
   "outputs": [],
   "source": [
    "y_pred = sgdr.predict(xtest)"
   ]
  },
  {
   "cell_type": "code",
   "execution_count": 49,
   "metadata": {},
   "outputs": [
    {
     "name": "stdout",
     "output_type": "stream",
     "text": [
      "RMSE :  7959645.254717458\n"
     ]
    }
   ],
   "source": [
    "mse = mean_squared_error(ytest, y_pred)\n",
    "print(\"RMSE : \", np.sqrt(mse))"
   ]
  }
 ],
 "metadata": {
  "kernelspec": {
   "display_name": "Python 3 (ipykernel)",
   "language": "python",
   "name": "python3"
  },
  "language_info": {
   "codemirror_mode": {
    "name": "ipython",
    "version": 3
   },
   "file_extension": ".py",
   "mimetype": "text/x-python",
   "name": "python",
   "nbconvert_exporter": "python",
   "pygments_lexer": "ipython3",
   "version": "3.9.7"
  }
 },
 "nbformat": 4,
 "nbformat_minor": 4
}
