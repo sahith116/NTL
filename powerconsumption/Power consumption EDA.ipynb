{
 "cells": [
  {
   "cell_type": "code",
   "execution_count": 1,
   "metadata": {},
   "outputs": [],
   "source": [
    "import pandas as pd\n",
    "import numpy as np \n",
    "import matplotlib.pyplot as plt\n",
    "%matplotlib inline\n",
    "import seaborn as sns\n",
    "sns.set()\n",
    "#Graphics ---> SVG \n",
    "%config inlineBackend.figure_format = \"svg\"\n",
    "#Disable Warnings\n",
    "import warnings\n",
    "warnings.filterwarnings('ignore')\n",
    "# Increase the default plot size and set the color schemes\n",
    "plt.rcParams['figure.figsize']= 8,5\n",
    "plt.rcParams['image.cmap']= 'viridis'"
   ]
  },
  {
   "cell_type": "code",
   "execution_count": 2,
   "metadata": {},
   "outputs": [
    {
     "data": {
      "text/html": [
       "<div>\n",
       "<style scoped>\n",
       "    .dataframe tbody tr th:only-of-type {\n",
       "        vertical-align: middle;\n",
       "    }\n",
       "\n",
       "    .dataframe tbody tr th {\n",
       "        vertical-align: top;\n",
       "    }\n",
       "\n",
       "    .dataframe thead th {\n",
       "        text-align: right;\n",
       "    }\n",
       "</style>\n",
       "<table border=\"1\" class=\"dataframe\">\n",
       "  <thead>\n",
       "    <tr style=\"text-align: right;\">\n",
       "      <th></th>\n",
       "      <th>States</th>\n",
       "      <th>Regions</th>\n",
       "      <th>latitude</th>\n",
       "      <th>longitude</th>\n",
       "      <th>Dates</th>\n",
       "      <th>MW usage</th>\n",
       "    </tr>\n",
       "  </thead>\n",
       "  <tbody>\n",
       "    <tr>\n",
       "      <td>0</td>\n",
       "      <td>Punjab</td>\n",
       "      <td>NR</td>\n",
       "      <td>31.519974</td>\n",
       "      <td>75.980003</td>\n",
       "      <td>2019-02-01</td>\n",
       "      <td>119.9</td>\n",
       "    </tr>\n",
       "    <tr>\n",
       "      <td>1</td>\n",
       "      <td>Haryana</td>\n",
       "      <td>NR</td>\n",
       "      <td>28.450006</td>\n",
       "      <td>77.019991</td>\n",
       "      <td>2019-02-01</td>\n",
       "      <td>130.3</td>\n",
       "    </tr>\n",
       "    <tr>\n",
       "      <td>2</td>\n",
       "      <td>Rajasthan</td>\n",
       "      <td>NR</td>\n",
       "      <td>26.449999</td>\n",
       "      <td>74.639981</td>\n",
       "      <td>2019-02-01</td>\n",
       "      <td>234.1</td>\n",
       "    </tr>\n",
       "    <tr>\n",
       "      <td>3</td>\n",
       "      <td>Delhi</td>\n",
       "      <td>NR</td>\n",
       "      <td>28.669993</td>\n",
       "      <td>77.230004</td>\n",
       "      <td>2019-02-01</td>\n",
       "      <td>85.8</td>\n",
       "    </tr>\n",
       "    <tr>\n",
       "      <td>4</td>\n",
       "      <td>UP</td>\n",
       "      <td>NR</td>\n",
       "      <td>27.599981</td>\n",
       "      <td>78.050006</td>\n",
       "      <td>2019-02-01</td>\n",
       "      <td>313.9</td>\n",
       "    </tr>\n",
       "  </tbody>\n",
       "</table>\n",
       "</div>"
      ],
      "text/plain": [
       "      States Regions   latitude  longitude      Dates  MW usage\n",
       "0     Punjab      NR  31.519974  75.980003 2019-02-01     119.9\n",
       "1    Haryana      NR  28.450006  77.019991 2019-02-01     130.3\n",
       "2  Rajasthan      NR  26.449999  74.639981 2019-02-01     234.1\n",
       "3      Delhi      NR  28.669993  77.230004 2019-02-01      85.8\n",
       "4         UP      NR  27.599981  78.050006 2019-02-01     313.9"
      ]
     },
     "execution_count": 2,
     "metadata": {},
     "output_type": "execute_result"
    }
   ],
   "source": [
    "consump = pd.read_csv(\"datasets_695144_1228449_long_data_.csv\", parse_dates=[\"Dates\"])\n",
    "consump.head()"
   ]
  },
  {
   "cell_type": "code",
   "execution_count": 3,
   "metadata": {},
   "outputs": [
    {
     "name": "stdout",
     "output_type": "stream",
     "text": [
      "<class 'pandas.core.frame.DataFrame'>\n",
      "RangeIndex: 16599 entries, 0 to 16598\n",
      "Data columns (total 6 columns):\n",
      "States       16599 non-null object\n",
      "Regions      16599 non-null object\n",
      "latitude     16599 non-null float64\n",
      "longitude    16599 non-null float64\n",
      "Dates        16599 non-null datetime64[ns]\n",
      "MW usage     16599 non-null float64\n",
      "dtypes: datetime64[ns](1), float64(3), object(2)\n",
      "memory usage: 778.2+ KB\n"
     ]
    }
   ],
   "source": [
    "consump.info()"
   ]
  },
  {
   "cell_type": "code",
   "execution_count": 4,
   "metadata": {},
   "outputs": [
    {
     "data": {
      "text/html": [
       "<div>\n",
       "<style scoped>\n",
       "    .dataframe tbody tr th:only-of-type {\n",
       "        vertical-align: middle;\n",
       "    }\n",
       "\n",
       "    .dataframe tbody tr th {\n",
       "        vertical-align: top;\n",
       "    }\n",
       "\n",
       "    .dataframe thead th {\n",
       "        text-align: right;\n",
       "    }\n",
       "</style>\n",
       "<table border=\"1\" class=\"dataframe\">\n",
       "  <thead>\n",
       "    <tr style=\"text-align: right;\">\n",
       "      <th></th>\n",
       "      <th>States</th>\n",
       "      <th>Regions</th>\n",
       "      <th>latitude</th>\n",
       "      <th>longitude</th>\n",
       "      <th>Dates</th>\n",
       "      <th>MW usage</th>\n",
       "    </tr>\n",
       "  </thead>\n",
       "  <tbody>\n",
       "    <tr>\n",
       "      <td>0</td>\n",
       "      <td>Punjab</td>\n",
       "      <td>NR</td>\n",
       "      <td>31.519974</td>\n",
       "      <td>75.980003</td>\n",
       "      <td>2019-02-01</td>\n",
       "      <td>119.9</td>\n",
       "    </tr>\n",
       "    <tr>\n",
       "      <td>1</td>\n",
       "      <td>Haryana</td>\n",
       "      <td>NR</td>\n",
       "      <td>28.450006</td>\n",
       "      <td>77.019991</td>\n",
       "      <td>2019-02-01</td>\n",
       "      <td>130.3</td>\n",
       "    </tr>\n",
       "    <tr>\n",
       "      <td>2</td>\n",
       "      <td>Rajasthan</td>\n",
       "      <td>NR</td>\n",
       "      <td>26.449999</td>\n",
       "      <td>74.639981</td>\n",
       "      <td>2019-02-01</td>\n",
       "      <td>234.1</td>\n",
       "    </tr>\n",
       "    <tr>\n",
       "      <td>3</td>\n",
       "      <td>Delhi</td>\n",
       "      <td>NR</td>\n",
       "      <td>28.669993</td>\n",
       "      <td>77.230004</td>\n",
       "      <td>2019-02-01</td>\n",
       "      <td>85.8</td>\n",
       "    </tr>\n",
       "    <tr>\n",
       "      <td>4</td>\n",
       "      <td>UP</td>\n",
       "      <td>NR</td>\n",
       "      <td>27.599981</td>\n",
       "      <td>78.050006</td>\n",
       "      <td>2019-02-01</td>\n",
       "      <td>313.9</td>\n",
       "    </tr>\n",
       "  </tbody>\n",
       "</table>\n",
       "</div>"
      ],
      "text/plain": [
       "      States Regions   latitude  longitude      Dates  MW usage\n",
       "0     Punjab      NR  31.519974  75.980003 2019-02-01     119.9\n",
       "1    Haryana      NR  28.450006  77.019991 2019-02-01     130.3\n",
       "2  Rajasthan      NR  26.449999  74.639981 2019-02-01     234.1\n",
       "3      Delhi      NR  28.669993  77.230004 2019-02-01      85.8\n",
       "4         UP      NR  27.599981  78.050006 2019-02-01     313.9"
      ]
     },
     "execution_count": 4,
     "metadata": {},
     "output_type": "execute_result"
    }
   ],
   "source": [
    "consump['States']= consump['States'].astype('category')\n",
    "consump.head()"
   ]
  },
  {
   "cell_type": "code",
   "execution_count": 5,
   "metadata": {},
   "outputs": [
    {
     "data": {
      "text/plain": [
       "<matplotlib.axes._subplots.AxesSubplot at 0x2cc1ffc2550>"
      ]
     },
     "execution_count": 5,
     "metadata": {},
     "output_type": "execute_result"
    },
    {
     "data": {
      "image/png": "[encoded data removed]",
      "text/plain": [
       "<Figure size 720x1080 with 1 Axes>"
      ]
     },
     "metadata": {},
     "output_type": "display_data"
    }
   ],
   "source": [
    "plt.rcParams['figure.figsize']= 10,15\n",
    "plt.rcParams['image.cmap']= 'viridis'\n",
    "sns.pointplot( consump['MW usage'],consump.States,data=consump)"
   ]
  },
  {
   "cell_type": "code",
   "execution_count": 6,
   "metadata": {},
   "outputs": [
    {
     "data": {
      "text/plain": [
       "522.1"
      ]
     },
     "execution_count": 6,
     "metadata": {},
     "output_type": "execute_result"
    }
   ],
   "source": [
    "consump['MW usage'].max()"
   ]
  },
  {
   "cell_type": "code",
   "execution_count": 7,
   "metadata": {},
   "outputs": [
    {
     "data": {
      "text/plain": [
       "0.3"
      ]
     },
     "execution_count": 7,
     "metadata": {},
     "output_type": "execute_result"
    }
   ],
   "source": [
    "consump['MW usage'].min()"
   ]
  },
  {
   "cell_type": "code",
   "execution_count": 8,
   "metadata": {},
   "outputs": [],
   "source": [
    "\n",
    "MWrange =[] \n",
    "for x in consump['MW usage']:\n",
    "    if x<=1 :\n",
    "        MWrange.append(\"0-1\")\n",
    "    elif 1<x<5:\n",
    "        MWrange.append(\"1-5\")\n",
    "    elif 5<x<10:\n",
    "        MWrange.append(\"5-10\")\n",
    "    elif 10<x<50:\n",
    "        MWrange.append(\"10-50\")\n",
    "    elif 50<x<100:\n",
    "        MWrange.append(\"50-100\")\n",
    "    elif 100<x<200:\n",
    "        MWrange.append(\"100-200\")\n",
    "    elif 200<x<300:\n",
    "        MWrange.append(\"200-300\")\n",
    "    elif 300<x<400:\n",
    "        MWrange.append(\"300-400\")\n",
    "    else:\n",
    "        MWrange.append(\"400-500\")\n",
    "consump[\"MWRange\"]= MWrange\n"
   ]
  },
  {
   "cell_type": "code",
   "execution_count": 9,
   "metadata": {},
   "outputs": [
    {
     "data": {
      "text/html": [
       "<div>\n",
       "<style scoped>\n",
       "    .dataframe tbody tr th:only-of-type {\n",
       "        vertical-align: middle;\n",
       "    }\n",
       "\n",
       "    .dataframe tbody tr th {\n",
       "        vertical-align: top;\n",
       "    }\n",
       "\n",
       "    .dataframe thead th {\n",
       "        text-align: right;\n",
       "    }\n",
       "</style>\n",
       "<table border=\"1\" class=\"dataframe\">\n",
       "  <thead>\n",
       "    <tr style=\"text-align: right;\">\n",
       "      <th></th>\n",
       "      <th>States</th>\n",
       "      <th>Regions</th>\n",
       "      <th>latitude</th>\n",
       "      <th>longitude</th>\n",
       "      <th>Dates</th>\n",
       "      <th>MW usage</th>\n",
       "      <th>MWRange</th>\n",
       "    </tr>\n",
       "  </thead>\n",
       "  <tbody>\n",
       "    <tr>\n",
       "      <td>0</td>\n",
       "      <td>Punjab</td>\n",
       "      <td>NR</td>\n",
       "      <td>31.519974</td>\n",
       "      <td>75.980003</td>\n",
       "      <td>2019-02-01</td>\n",
       "      <td>119.9</td>\n",
       "      <td>100-200</td>\n",
       "    </tr>\n",
       "    <tr>\n",
       "      <td>1</td>\n",
       "      <td>Haryana</td>\n",
       "      <td>NR</td>\n",
       "      <td>28.450006</td>\n",
       "      <td>77.019991</td>\n",
       "      <td>2019-02-01</td>\n",
       "      <td>130.3</td>\n",
       "      <td>100-200</td>\n",
       "    </tr>\n",
       "    <tr>\n",
       "      <td>2</td>\n",
       "      <td>Rajasthan</td>\n",
       "      <td>NR</td>\n",
       "      <td>26.449999</td>\n",
       "      <td>74.639981</td>\n",
       "      <td>2019-02-01</td>\n",
       "      <td>234.1</td>\n",
       "      <td>200-300</td>\n",
       "    </tr>\n",
       "    <tr>\n",
       "      <td>3</td>\n",
       "      <td>Delhi</td>\n",
       "      <td>NR</td>\n",
       "      <td>28.669993</td>\n",
       "      <td>77.230004</td>\n",
       "      <td>2019-02-01</td>\n",
       "      <td>85.8</td>\n",
       "      <td>50-100</td>\n",
       "    </tr>\n",
       "    <tr>\n",
       "      <td>4</td>\n",
       "      <td>UP</td>\n",
       "      <td>NR</td>\n",
       "      <td>27.599981</td>\n",
       "      <td>78.050006</td>\n",
       "      <td>2019-02-01</td>\n",
       "      <td>313.9</td>\n",
       "      <td>300-400</td>\n",
       "    </tr>\n",
       "  </tbody>\n",
       "</table>\n",
       "</div>"
      ],
      "text/plain": [
       "      States Regions   latitude  longitude      Dates  MW usage  MWRange\n",
       "0     Punjab      NR  31.519974  75.980003 2019-02-01     119.9  100-200\n",
       "1    Haryana      NR  28.450006  77.019991 2019-02-01     130.3  100-200\n",
       "2  Rajasthan      NR  26.449999  74.639981 2019-02-01     234.1  200-300\n",
       "3      Delhi      NR  28.669993  77.230004 2019-02-01      85.8   50-100\n",
       "4         UP      NR  27.599981  78.050006 2019-02-01     313.9  300-400"
      ]
     },
     "execution_count": 9,
     "metadata": {},
     "output_type": "execute_result"
    }
   ],
   "source": [
    "consump.head()"
   ]
  },
  {
   "cell_type": "code",
   "execution_count": 10,
   "metadata": {},
   "outputs": [],
   "source": [
    "consump.MWRange = consump['MWRange'].astype(\"category\")"
   ]
  },
  {
   "cell_type": "code",
   "execution_count": 11,
   "metadata": {},
   "outputs": [
    {
     "data": {
      "text/html": [
       "<div>\n",
       "<style scoped>\n",
       "    .dataframe tbody tr th:only-of-type {\n",
       "        vertical-align: middle;\n",
       "    }\n",
       "\n",
       "    .dataframe tbody tr th {\n",
       "        vertical-align: top;\n",
       "    }\n",
       "\n",
       "    .dataframe thead th {\n",
       "        text-align: right;\n",
       "    }\n",
       "</style>\n",
       "<table border=\"1\" class=\"dataframe\">\n",
       "  <thead>\n",
       "    <tr style=\"text-align: right;\">\n",
       "      <th></th>\n",
       "      <th>States</th>\n",
       "      <th>Regions</th>\n",
       "      <th>latitude</th>\n",
       "      <th>longitude</th>\n",
       "      <th>Dates</th>\n",
       "      <th>MW usage</th>\n",
       "      <th>MWRange</th>\n",
       "    </tr>\n",
       "  </thead>\n",
       "  <tbody>\n",
       "    <tr>\n",
       "      <td>0</td>\n",
       "      <td>Punjab</td>\n",
       "      <td>NR</td>\n",
       "      <td>31.519974</td>\n",
       "      <td>75.980003</td>\n",
       "      <td>2019-02-01</td>\n",
       "      <td>119.9</td>\n",
       "      <td>100-200</td>\n",
       "    </tr>\n",
       "    <tr>\n",
       "      <td>1</td>\n",
       "      <td>Haryana</td>\n",
       "      <td>NR</td>\n",
       "      <td>28.450006</td>\n",
       "      <td>77.019991</td>\n",
       "      <td>2019-02-01</td>\n",
       "      <td>130.3</td>\n",
       "      <td>100-200</td>\n",
       "    </tr>\n",
       "    <tr>\n",
       "      <td>2</td>\n",
       "      <td>Rajasthan</td>\n",
       "      <td>NR</td>\n",
       "      <td>26.449999</td>\n",
       "      <td>74.639981</td>\n",
       "      <td>2019-02-01</td>\n",
       "      <td>234.1</td>\n",
       "      <td>200-300</td>\n",
       "    </tr>\n",
       "    <tr>\n",
       "      <td>3</td>\n",
       "      <td>Delhi</td>\n",
       "      <td>NR</td>\n",
       "      <td>28.669993</td>\n",
       "      <td>77.230004</td>\n",
       "      <td>2019-02-01</td>\n",
       "      <td>85.8</td>\n",
       "      <td>50-100</td>\n",
       "    </tr>\n",
       "    <tr>\n",
       "      <td>4</td>\n",
       "      <td>UP</td>\n",
       "      <td>NR</td>\n",
       "      <td>27.599981</td>\n",
       "      <td>78.050006</td>\n",
       "      <td>2019-02-01</td>\n",
       "      <td>313.9</td>\n",
       "      <td>300-400</td>\n",
       "    </tr>\n",
       "  </tbody>\n",
       "</table>\n",
       "</div>"
      ],
      "text/plain": [
       "      States Regions   latitude  longitude      Dates  MW usage  MWRange\n",
       "0     Punjab      NR  31.519974  75.980003 2019-02-01     119.9  100-200\n",
       "1    Haryana      NR  28.450006  77.019991 2019-02-01     130.3  100-200\n",
       "2  Rajasthan      NR  26.449999  74.639981 2019-02-01     234.1  200-300\n",
       "3      Delhi      NR  28.669993  77.230004 2019-02-01      85.8   50-100\n",
       "4         UP      NR  27.599981  78.050006 2019-02-01     313.9  300-400"
      ]
     },
     "execution_count": 11,
     "metadata": {},
     "output_type": "execute_result"
    }
   ],
   "source": [
    "consump.head()"
   ]
  },
  {
   "cell_type": "code",
   "execution_count": 12,
   "metadata": {},
   "outputs": [
    {
     "name": "stdout",
     "output_type": "stream",
     "text": [
      "<class 'pandas.core.frame.DataFrame'>\n",
      "RangeIndex: 16599 entries, 0 to 16598\n",
      "Data columns (total 7 columns):\n",
      "States       16599 non-null category\n",
      "Regions      16599 non-null object\n",
      "latitude     16599 non-null float64\n",
      "longitude    16599 non-null float64\n",
      "Dates        16599 non-null datetime64[ns]\n",
      "MW usage     16599 non-null float64\n",
      "MWRange      16599 non-null category\n",
      "dtypes: category(2), datetime64[ns](1), float64(3), object(1)\n",
      "memory usage: 682.8+ KB\n"
     ]
    }
   ],
   "source": [
    "consump.info()"
   ]
  },
  {
   "cell_type": "code",
   "execution_count": 13,
   "metadata": {},
   "outputs": [
    {
     "data": {
      "image/png": "[encoded data removed]",
      "text/plain": [
       "<Figure size 540x540 with 12 Axes>"
      ]
     },
     "metadata": {},
     "output_type": "display_data"
    }
   ],
   "source": [
    "%config inlineBackend.figure_format = \"png\"\n",
    "sns.pairplot(consump[['latitude','longitude','MW usage']]);"
   ]
  },
  {
   "cell_type": "code",
   "execution_count": 14,
   "metadata": {},
   "outputs": [
    {
     "data": {
      "text/plain": [
       "[Punjab, Haryana, Rajasthan, Delhi, UP, ..., Manipur, Meghalaya, Mizoram, Nagaland, Tripura]\n",
       "Length: 33\n",
       "Categories (33, object): [Punjab, Haryana, Rajasthan, Delhi, ..., Meghalaya, Mizoram, Nagaland, Tripura]"
      ]
     },
     "execution_count": 14,
     "metadata": {},
     "output_type": "execute_result"
    }
   ],
   "source": [
    "consump.States.unique()"
   ]
  },
  {
   "cell_type": "code",
   "execution_count": 35,
   "metadata": {},
   "outputs": [
    {
     "data": {
      "text/plain": [
       "<pandas.core.groupby.generic.DataFrameGroupBy object at 0x000002CC759B6390>"
      ]
     },
     "execution_count": 35,
     "metadata": {},
     "output_type": "execute_result"
    }
   ],
   "source": [
    "S = consump.groupby(\"States\")\n",
    "S"
   ]
  },
  {
   "cell_type": "code",
   "execution_count": 33,
   "metadata": {},
   "outputs": [
    {
     "data": {
      "text/plain": [
       "<matplotlib.axes._subplots.AxesSubplot at 0x2cc75900390>"
      ]
     },
     "execution_count": 33,
     "metadata": {},
     "output_type": "execute_result"
    },
    {
     "data": {
      "image/png": "[encoded data removed]",
      "text/plain": [
       "<Figure size 720x1080 with 1 Axes>"
      ]
     },
     "metadata": {},
     "output_type": "display_data"
    }
   ],
   "source": [
    "St =consump.groupby(['States'])['MW usage'].mean()\n",
    "St.plot.barh()"
   ]
  },
  {
   "cell_type": "code",
   "execution_count": 17,
   "metadata": {},
   "outputs": [],
   "source": [
    "State_codes = {'Punjab':'0','Haryana':'1','Rajasthan':'2','Delhi':'3','UP':'4','Uttarakhand':'5','HP':'6','jammu & kashmir':'7','Chandigarh':'8','Chhattisgarh':'9','Gujarat':'10','Madhya Pradesh':'11','Maharashtra':'12','Goa':'13','Dadra nagar haveli':'14','Andhra Pradesh':'15','Telangana':'16','Karnataka':'17','Kerala':'18','Tamil Nadu':'19','Pondy':'20','Bihar':'21',\n",
    "'Jharkhand':'22','Odisha':'23','West Bengal':'24','Sikkim':'25','Arunachal Pradesh':'26','Assam':'27','Manipur':'28','Meghalaya':'29','Mizoram':'30','Nagaland':'31','Tripura':'32'}"
   ]
  },
  {
   "cell_type": "code",
   "execution_count": 18,
   "metadata": {},
   "outputs": [],
   "source": [
    "StateCode = [State_codes[item] for item in consump.States]"
   ]
  },
  {
   "cell_type": "code",
   "execution_count": 19,
   "metadata": {},
   "outputs": [
    {
     "data": {
      "text/html": [
       "<div>\n",
       "<style scoped>\n",
       "    .dataframe tbody tr th:only-of-type {\n",
       "        vertical-align: middle;\n",
       "    }\n",
       "\n",
       "    .dataframe tbody tr th {\n",
       "        vertical-align: top;\n",
       "    }\n",
       "\n",
       "    .dataframe thead th {\n",
       "        text-align: right;\n",
       "    }\n",
       "</style>\n",
       "<table border=\"1\" class=\"dataframe\">\n",
       "  <thead>\n",
       "    <tr style=\"text-align: right;\">\n",
       "      <th></th>\n",
       "      <th>States</th>\n",
       "      <th>Regions</th>\n",
       "      <th>latitude</th>\n",
       "      <th>longitude</th>\n",
       "      <th>Dates</th>\n",
       "      <th>MW usage</th>\n",
       "      <th>MWRange</th>\n",
       "      <th>State_code</th>\n",
       "    </tr>\n",
       "  </thead>\n",
       "  <tbody>\n",
       "    <tr>\n",
       "      <td>0</td>\n",
       "      <td>Punjab</td>\n",
       "      <td>NR</td>\n",
       "      <td>31.519974</td>\n",
       "      <td>75.980003</td>\n",
       "      <td>2019-02-01</td>\n",
       "      <td>119.9</td>\n",
       "      <td>100-200</td>\n",
       "      <td>0</td>\n",
       "    </tr>\n",
       "    <tr>\n",
       "      <td>1</td>\n",
       "      <td>Haryana</td>\n",
       "      <td>NR</td>\n",
       "      <td>28.450006</td>\n",
       "      <td>77.019991</td>\n",
       "      <td>2019-02-01</td>\n",
       "      <td>130.3</td>\n",
       "      <td>100-200</td>\n",
       "      <td>1</td>\n",
       "    </tr>\n",
       "    <tr>\n",
       "      <td>2</td>\n",
       "      <td>Rajasthan</td>\n",
       "      <td>NR</td>\n",
       "      <td>26.449999</td>\n",
       "      <td>74.639981</td>\n",
       "      <td>2019-02-01</td>\n",
       "      <td>234.1</td>\n",
       "      <td>200-300</td>\n",
       "      <td>2</td>\n",
       "    </tr>\n",
       "    <tr>\n",
       "      <td>3</td>\n",
       "      <td>Delhi</td>\n",
       "      <td>NR</td>\n",
       "      <td>28.669993</td>\n",
       "      <td>77.230004</td>\n",
       "      <td>2019-02-01</td>\n",
       "      <td>85.8</td>\n",
       "      <td>50-100</td>\n",
       "      <td>3</td>\n",
       "    </tr>\n",
       "    <tr>\n",
       "      <td>4</td>\n",
       "      <td>UP</td>\n",
       "      <td>NR</td>\n",
       "      <td>27.599981</td>\n",
       "      <td>78.050006</td>\n",
       "      <td>2019-02-01</td>\n",
       "      <td>313.9</td>\n",
       "      <td>300-400</td>\n",
       "      <td>4</td>\n",
       "    </tr>\n",
       "  </tbody>\n",
       "</table>\n",
       "</div>"
      ],
      "text/plain": [
       "      States Regions   latitude  longitude      Dates  MW usage  MWRange  \\\n",
       "0     Punjab      NR  31.519974  75.980003 2019-02-01     119.9  100-200   \n",
       "1    Haryana      NR  28.450006  77.019991 2019-02-01     130.3  100-200   \n",
       "2  Rajasthan      NR  26.449999  74.639981 2019-02-01     234.1  200-300   \n",
       "3      Delhi      NR  28.669993  77.230004 2019-02-01      85.8   50-100   \n",
       "4         UP      NR  27.599981  78.050006 2019-02-01     313.9  300-400   \n",
       "\n",
       "  State_code  \n",
       "0          0  \n",
       "1          1  \n",
       "2          2  \n",
       "3          3  \n",
       "4          4  "
      ]
     },
     "execution_count": 19,
     "metadata": {},
     "output_type": "execute_result"
    }
   ],
   "source": [
    "consump['State_code']= StateCode\n",
    "consump.head()"
   ]
  },
  {
   "cell_type": "code",
   "execution_count": 20,
   "metadata": {},
   "outputs": [],
   "source": [
    "from sklearn.model_selection import train_test_split"
   ]
  },
  {
   "cell_type": "code",
   "execution_count": 21,
   "metadata": {},
   "outputs": [
    {
     "data": {
      "text/html": [
       "<div>\n",
       "<style scoped>\n",
       "    .dataframe tbody tr th:only-of-type {\n",
       "        vertical-align: middle;\n",
       "    }\n",
       "\n",
       "    .dataframe tbody tr th {\n",
       "        vertical-align: top;\n",
       "    }\n",
       "\n",
       "    .dataframe thead th {\n",
       "        text-align: right;\n",
       "    }\n",
       "</style>\n",
       "<table border=\"1\" class=\"dataframe\">\n",
       "  <thead>\n",
       "    <tr style=\"text-align: right;\">\n",
       "      <th></th>\n",
       "      <th>latitude</th>\n",
       "      <th>longitude</th>\n",
       "      <th>Dates</th>\n",
       "      <th>MW usage</th>\n",
       "      <th>State_code</th>\n",
       "    </tr>\n",
       "  </thead>\n",
       "  <tbody>\n",
       "    <tr>\n",
       "      <td>0</td>\n",
       "      <td>31.519974</td>\n",
       "      <td>75.980003</td>\n",
       "      <td>2019-02-01</td>\n",
       "      <td>119.9</td>\n",
       "      <td>0</td>\n",
       "    </tr>\n",
       "    <tr>\n",
       "      <td>1</td>\n",
       "      <td>28.450006</td>\n",
       "      <td>77.019991</td>\n",
       "      <td>2019-02-01</td>\n",
       "      <td>130.3</td>\n",
       "      <td>1</td>\n",
       "    </tr>\n",
       "    <tr>\n",
       "      <td>2</td>\n",
       "      <td>26.449999</td>\n",
       "      <td>74.639981</td>\n",
       "      <td>2019-02-01</td>\n",
       "      <td>234.1</td>\n",
       "      <td>2</td>\n",
       "    </tr>\n",
       "    <tr>\n",
       "      <td>3</td>\n",
       "      <td>28.669993</td>\n",
       "      <td>77.230004</td>\n",
       "      <td>2019-02-01</td>\n",
       "      <td>85.8</td>\n",
       "      <td>3</td>\n",
       "    </tr>\n",
       "    <tr>\n",
       "      <td>4</td>\n",
       "      <td>27.599981</td>\n",
       "      <td>78.050006</td>\n",
       "      <td>2019-02-01</td>\n",
       "      <td>313.9</td>\n",
       "      <td>4</td>\n",
       "    </tr>\n",
       "  </tbody>\n",
       "</table>\n",
       "</div>"
      ],
      "text/plain": [
       "    latitude  longitude      Dates  MW usage State_code\n",
       "0  31.519974  75.980003 2019-02-01     119.9          0\n",
       "1  28.450006  77.019991 2019-02-01     130.3          1\n",
       "2  26.449999  74.639981 2019-02-01     234.1          2\n",
       "3  28.669993  77.230004 2019-02-01      85.8          3\n",
       "4  27.599981  78.050006 2019-02-01     313.9          4"
      ]
     },
     "execution_count": 21,
     "metadata": {},
     "output_type": "execute_result"
    }
   ],
   "source": [
    "consump = consump.drop(['States','Regions','MWRange'], axis=1)\n",
    "consump.head()"
   ]
  },
  {
   "cell_type": "code",
   "execution_count": 22,
   "metadata": {},
   "outputs": [
    {
     "name": "stdout",
     "output_type": "stream",
     "text": [
      "<class 'pandas.core.frame.DataFrame'>\n",
      "RangeIndex: 16599 entries, 0 to 16598\n",
      "Data columns (total 5 columns):\n",
      "latitude      16599 non-null float64\n",
      "longitude     16599 non-null float64\n",
      "Dates         16599 non-null datetime64[ns]\n",
      "MW usage      16599 non-null float64\n",
      "State_code    16599 non-null object\n",
      "dtypes: datetime64[ns](1), float64(3), object(1)\n",
      "memory usage: 648.5+ KB\n"
     ]
    }
   ],
   "source": [
    "consump.info()"
   ]
  },
  {
   "cell_type": "code",
   "execution_count": 24,
   "metadata": {},
   "outputs": [],
   "source": [
    "consump.State_code = consump.State_code.astype(int)"
   ]
  },
  {
   "cell_type": "code",
   "execution_count": 25,
   "metadata": {},
   "outputs": [],
   "source": [
    "import datetime as dt\n",
    "consump['Dates'] = pd.to_datetime(consump.Dates)\n",
    "consump.Dates = consump['Dates'].map(dt.datetime.toordinal)"
   ]
  },
  {
   "cell_type": "code",
   "execution_count": 26,
   "metadata": {},
   "outputs": [],
   "source": [
    "from sklearn.model_selection import train_test_split"
   ]
  },
  {
   "cell_type": "code",
   "execution_count": 27,
   "metadata": {},
   "outputs": [],
   "source": [
    "x = consump.drop(['State_code'], axis=1)\n",
    "y = consump.State_code"
   ]
  },
  {
   "cell_type": "code",
   "execution_count": 28,
   "metadata": {},
   "outputs": [],
   "source": [
    "x_train, x_test, y_train, y_test = train_test_split(x,y, test_size=0.2, random_state = 2)"
   ]
  },
  {
   "cell_type": "code",
   "execution_count": 29,
   "metadata": {},
   "outputs": [],
   "source": [
    "from sklearn.ensemble import RandomForestClassifier\n",
    "model = RandomForestClassifier()"
   ]
  },
  {
   "cell_type": "code",
   "execution_count": 30,
   "metadata": {},
   "outputs": [
    {
     "data": {
      "text/plain": [
       "RandomForestClassifier(bootstrap=True, class_weight=None, criterion='gini',\n",
       "                       max_depth=None, max_features='auto', max_leaf_nodes=None,\n",
       "                       min_impurity_decrease=0.0, min_impurity_split=None,\n",
       "                       min_samples_leaf=1, min_samples_split=2,\n",
       "                       min_weight_fraction_leaf=0.0, n_estimators=10,\n",
       "                       n_jobs=None, oob_score=False, random_state=None,\n",
       "                       verbose=0, warm_start=False)"
      ]
     },
     "execution_count": 30,
     "metadata": {},
     "output_type": "execute_result"
    }
   ],
   "source": [
    "model.fit(x_train, y_train)"
   ]
  },
  {
   "cell_type": "code",
   "execution_count": 31,
   "metadata": {},
   "outputs": [
    {
     "data": {
      "text/html": [
       "<div>\n",
       "<style scoped>\n",
       "    .dataframe tbody tr th:only-of-type {\n",
       "        vertical-align: middle;\n",
       "    }\n",
       "\n",
       "    .dataframe tbody tr th {\n",
       "        vertical-align: top;\n",
       "    }\n",
       "\n",
       "    .dataframe thead th {\n",
       "        text-align: right;\n",
       "    }\n",
       "</style>\n",
       "<table border=\"1\" class=\"dataframe\">\n",
       "  <thead>\n",
       "    <tr style=\"text-align: right;\">\n",
       "      <th></th>\n",
       "      <th>latitude</th>\n",
       "      <th>longitude</th>\n",
       "      <th>Dates</th>\n",
       "      <th>MW usage</th>\n",
       "    </tr>\n",
       "  </thead>\n",
       "  <tbody>\n",
       "    <tr>\n",
       "      <td>2069</td>\n",
       "      <td>19.820430</td>\n",
       "      <td>85.900017</td>\n",
       "      <td>737243</td>\n",
       "      <td>75.1</td>\n",
       "    </tr>\n",
       "    <tr>\n",
       "      <td>7003</td>\n",
       "      <td>33.450000</td>\n",
       "      <td>76.240000</td>\n",
       "      <td>737098</td>\n",
       "      <td>45.9</td>\n",
       "    </tr>\n",
       "    <tr>\n",
       "      <td>10683</td>\n",
       "      <td>22.580390</td>\n",
       "      <td>88.329947</td>\n",
       "      <td>737388</td>\n",
       "      <td>128.7</td>\n",
       "    </tr>\n",
       "    <tr>\n",
       "      <td>16210</td>\n",
       "      <td>33.450000</td>\n",
       "      <td>76.240000</td>\n",
       "      <td>737525</td>\n",
       "      <td>45.9</td>\n",
       "    </tr>\n",
       "    <tr>\n",
       "      <td>3271</td>\n",
       "      <td>27.599981</td>\n",
       "      <td>78.050006</td>\n",
       "      <td>737163</td>\n",
       "      <td>407.9</td>\n",
       "    </tr>\n",
       "    <tr>\n",
       "      <td>...</td>\n",
       "      <td>...</td>\n",
       "      <td>...</td>\n",
       "      <td>...</td>\n",
       "      <td>...</td>\n",
       "    </tr>\n",
       "    <tr>\n",
       "      <td>14696</td>\n",
       "      <td>21.300391</td>\n",
       "      <td>76.130019</td>\n",
       "      <td>737539</td>\n",
       "      <td>230.6</td>\n",
       "    </tr>\n",
       "    <tr>\n",
       "      <td>1099</td>\n",
       "      <td>22.258700</td>\n",
       "      <td>71.192400</td>\n",
       "      <td>737181</td>\n",
       "      <td>229.7</td>\n",
       "    </tr>\n",
       "    <tr>\n",
       "      <td>11798</td>\n",
       "      <td>12.570381</td>\n",
       "      <td>76.919997</td>\n",
       "      <td>737423</td>\n",
       "      <td>191.6</td>\n",
       "    </tr>\n",
       "    <tr>\n",
       "      <td>6637</td>\n",
       "      <td>27.599981</td>\n",
       "      <td>78.050006</td>\n",
       "      <td>737262</td>\n",
       "      <td>267.7</td>\n",
       "    </tr>\n",
       "    <tr>\n",
       "      <td>2575</td>\n",
       "      <td>28.450006</td>\n",
       "      <td>77.019991</td>\n",
       "      <td>737141</td>\n",
       "      <td>114.2</td>\n",
       "    </tr>\n",
       "  </tbody>\n",
       "</table>\n",
       "<p>13279 rows × 4 columns</p>\n",
       "</div>"
      ],
      "text/plain": [
       "        latitude  longitude   Dates  MW usage\n",
       "2069   19.820430  85.900017  737243      75.1\n",
       "7003   33.450000  76.240000  737098      45.9\n",
       "10683  22.580390  88.329947  737388     128.7\n",
       "16210  33.450000  76.240000  737525      45.9\n",
       "3271   27.599981  78.050006  737163     407.9\n",
       "...          ...        ...     ...       ...\n",
       "14696  21.300391  76.130019  737539     230.6\n",
       "1099   22.258700  71.192400  737181     229.7\n",
       "11798  12.570381  76.919997  737423     191.6\n",
       "6637   27.599981  78.050006  737262     267.7\n",
       "2575   28.450006  77.019991  737141     114.2\n",
       "\n",
       "[13279 rows x 4 columns]"
      ]
     },
     "execution_count": 31,
     "metadata": {},
     "output_type": "execute_result"
    }
   ],
   "source": [
    "x_train"
   ]
  },
  {
   "cell_type": "code",
   "execution_count": 32,
   "metadata": {},
   "outputs": [
    {
     "data": {
      "text/plain": [
       "array([ 3,  0, 21, ..., 12, 22, 23])"
      ]
     },
     "execution_count": 32,
     "metadata": {},
     "output_type": "execute_result"
    }
   ],
   "source": [
    "model.predict(x_test)"
   ]
  },
  {
   "cell_type": "code",
   "execution_count": 33,
   "metadata": {},
   "outputs": [
    {
     "data": {
      "text/plain": [
       "1.0"
      ]
     },
     "execution_count": 33,
     "metadata": {},
     "output_type": "execute_result"
    }
   ],
   "source": [
    "model.score(x_test, y_test)"
   ]
  },
  {
   "cell_type": "code",
   "execution_count": 34,
   "metadata": {},
   "outputs": [
    {
     "data": {
      "text/html": [
       "<div>\n",
       "<style scoped>\n",
       "    .dataframe tbody tr th:only-of-type {\n",
       "        vertical-align: middle;\n",
       "    }\n",
       "\n",
       "    .dataframe tbody tr th {\n",
       "        vertical-align: top;\n",
       "    }\n",
       "\n",
       "    .dataframe thead th {\n",
       "        text-align: right;\n",
       "    }\n",
       "</style>\n",
       "<table border=\"1\" class=\"dataframe\">\n",
       "  <thead>\n",
       "    <tr style=\"text-align: right;\">\n",
       "      <th></th>\n",
       "      <th>latitude</th>\n",
       "      <th>longitude</th>\n",
       "      <th>Dates</th>\n",
       "      <th>MW usage</th>\n",
       "    </tr>\n",
       "  </thead>\n",
       "  <tbody>\n",
       "    <tr>\n",
       "      <td>13137</td>\n",
       "      <td>28.669993</td>\n",
       "      <td>77.230004</td>\n",
       "      <td>737478</td>\n",
       "      <td>106.7</td>\n",
       "    </tr>\n",
       "    <tr>\n",
       "      <td>7755</td>\n",
       "      <td>31.519974</td>\n",
       "      <td>75.980003</td>\n",
       "      <td>737297</td>\n",
       "      <td>114.0</td>\n",
       "    </tr>\n",
       "    <tr>\n",
       "      <td>945</td>\n",
       "      <td>25.785414</td>\n",
       "      <td>87.479973</td>\n",
       "      <td>737089</td>\n",
       "      <td>65.3</td>\n",
       "    </tr>\n",
       "    <tr>\n",
       "      <td>8907</td>\n",
       "      <td>23.710399</td>\n",
       "      <td>92.720015</td>\n",
       "      <td>737332</td>\n",
       "      <td>1.7</td>\n",
       "    </tr>\n",
       "    <tr>\n",
       "      <td>13227</td>\n",
       "      <td>26.749981</td>\n",
       "      <td>94.216667</td>\n",
       "      <td>737480</td>\n",
       "      <td>24.5</td>\n",
       "    </tr>\n",
       "    <tr>\n",
       "      <td>...</td>\n",
       "      <td>...</td>\n",
       "      <td>...</td>\n",
       "      <td>...</td>\n",
       "      <td>...</td>\n",
       "    </tr>\n",
       "    <tr>\n",
       "      <td>301</td>\n",
       "      <td>27.599981</td>\n",
       "      <td>78.050006</td>\n",
       "      <td>737364</td>\n",
       "      <td>281.4</td>\n",
       "    </tr>\n",
       "    <tr>\n",
       "      <td>9273</td>\n",
       "      <td>31.519974</td>\n",
       "      <td>75.980003</td>\n",
       "      <td>737345</td>\n",
       "      <td>153.8</td>\n",
       "    </tr>\n",
       "    <tr>\n",
       "      <td>5952</td>\n",
       "      <td>19.250232</td>\n",
       "      <td>73.160175</td>\n",
       "      <td>737217</td>\n",
       "      <td>424.0</td>\n",
       "    </tr>\n",
       "    <tr>\n",
       "      <td>8107</td>\n",
       "      <td>23.800393</td>\n",
       "      <td>86.419986</td>\n",
       "      <td>737188</td>\n",
       "      <td>23.7</td>\n",
       "    </tr>\n",
       "    <tr>\n",
       "      <td>10550</td>\n",
       "      <td>19.820430</td>\n",
       "      <td>85.900017</td>\n",
       "      <td>737384</td>\n",
       "      <td>84.3</td>\n",
       "    </tr>\n",
       "  </tbody>\n",
       "</table>\n",
       "<p>3320 rows × 4 columns</p>\n",
       "</div>"
      ],
      "text/plain": [
       "        latitude  longitude   Dates  MW usage\n",
       "13137  28.669993  77.230004  737478     106.7\n",
       "7755   31.519974  75.980003  737297     114.0\n",
       "945    25.785414  87.479973  737089      65.3\n",
       "8907   23.710399  92.720015  737332       1.7\n",
       "13227  26.749981  94.216667  737480      24.5\n",
       "...          ...        ...     ...       ...\n",
       "301    27.599981  78.050006  737364     281.4\n",
       "9273   31.519974  75.980003  737345     153.8\n",
       "5952   19.250232  73.160175  737217     424.0\n",
       "8107   23.800393  86.419986  737188      23.7\n",
       "10550  19.820430  85.900017  737384      84.3\n",
       "\n",
       "[3320 rows x 4 columns]"
      ]
     },
     "execution_count": 34,
     "metadata": {},
     "output_type": "execute_result"
    }
   ],
   "source": [
    "x_test"
   ]
  },
  {
   "cell_type": "code",
   "execution_count": null,
   "metadata": {},
   "outputs": [],
   "source": []
  }
 ],
 "metadata": {
  "kernelspec": {
   "display_name": "Python 3",
   "language": "python",
   "name": "python3"
  },
  "language_info": {
   "codemirror_mode": {
    "name": "ipython",
    "version": 3
   },
   "file_extension": ".py",
   "mimetype": "text/x-python",
   "name": "python",
   "nbconvert_exporter": "python",
   "pygments_lexer": "ipython3",
   "version": "3.7.3"
  },
  "toc": {
   "base_numbering": 1,
   "nav_menu": {},
   "number_sections": false,
   "sideBar": false,
   "skip_h1_title": false,
   "title_cell": "Table of Contents",
   "title_sidebar": "Contents",
   "toc_cell": false,
   "toc_position": {},
   "toc_section_display": false,
   "toc_window_display": false
  }
 },
 "nbformat": 4,
 "nbformat_minor": 4
}
