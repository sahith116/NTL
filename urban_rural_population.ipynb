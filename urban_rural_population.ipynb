{
 "cells": [
  {
   "cell_type": "code",
   "execution_count": null,
   "id": "0c7f064c",
   "metadata": {},
   "outputs": [],
   "source": [
    "import pandas as pd\n",
    "import numpy as np\n",
    "import matplotlib.pyplot as plt\n"
   ]
  },
  {
   "cell_type": "code",
   "execution_count": null,
   "id": "1ebd1725",
   "metadata": {},
   "outputs": [],
   "source": [
    "df=pd.read_csv('population.csv')"
   ]
  },
  {
   "cell_type": "code",
   "execution_count": null,
   "id": "fb959d68",
   "metadata": {},
   "outputs": [],
   "source": [
    "df.head()"
   ]
  },
  {
   "cell_type": "code",
   "execution_count": null,
   "id": "52b76bc3",
   "metadata": {},
   "outputs": [],
   "source": [
    "df.info()"
   ]
  },
  {
   "cell_type": "code",
   "execution_count": null,
   "id": "4735dd5b",
   "metadata": {},
   "outputs": [],
   "source": [
    "df.describe"
   ]
  },
  {
   "cell_type": "code",
   "execution_count": null,
   "id": "8e034155",
   "metadata": {},
   "outputs": [],
   "source": [
    "x=df[\"Year\"]\n",
    "y=df[\"Population\"]"
   ]
  },
  {
   "cell_type": "code",
   "execution_count": null,
   "id": "9c0122ad",
   "metadata": {},
   "outputs": [],
   "source": [
    "plt.style.use('fivethirtyeight')\n",
    "plt.scatter(x,y)\n",
    "plt.xlabel('Year')\n",
    "plt.ylabel('Population')\n",
    "plt.title('Year vs Population')\n",
    "\n",
    "plt.show()"
   ]
  },
  {
   "cell_type": "code",
   "execution_count": null,
   "id": "f07d9460",
   "metadata": {},
   "outputs": [],
   "source": [
    "plt.hist(x)\n",
    "plt.title('Histogram of years')\n",
    "plt.show()"
   ]
  },
  {
   "cell_type": "code",
   "execution_count": null,
   "id": "b64181e9",
   "metadata": {},
   "outputs": [],
   "source": [
    "from sklearn.model_selection import train_test_split\n",
    "x_train, x_test, y_train, y_test=train_test_split(df[['Year']], df[['Population']], test_size =0.2,random_state=0)"
   ]
  },
  {
   "cell_type": "code",
   "execution_count": null,
   "id": "a2ff4804",
   "metadata": {},
   "outputs": [],
   "source": [
    "x_train"
   ]
  },
  {
   "cell_type": "code",
   "execution_count": null,
   "id": "3b2d09b1",
   "metadata": {},
   "outputs": [],
   "source": [
    "y_train"
   ]
  },
  {
   "cell_type": "code",
   "execution_count": null,
   "id": "eb71d00e",
   "metadata": {},
   "outputs": [],
   "source": [
    "from sklearn.linear_model import LinearRegression"
   ]
  },
  {
   "cell_type": "code",
   "execution_count": null,
   "id": "63cb58c3",
   "metadata": {},
   "outputs": [],
   "source": [
    "model=LinearRegression()\n",
    "model.fit(x_train, y_train)"
   ]
  },
  {
   "cell_type": "code",
   "execution_count": null,
   "id": "04b86e9e",
   "metadata": {},
   "outputs": [],
   "source": [
    "reg=model.predict(x_test)\n",
    "reg"
   ]
  },
  {
   "cell_type": "code",
   "execution_count": null,
   "id": "8f37193d",
   "metadata": {},
   "outputs": [],
   "source": [
    "x_test"
   ]
  },
  {
   "cell_type": "code",
   "execution_count": null,
   "id": "66fb1acd",
   "metadata": {},
   "outputs": [],
   "source": [
    "y_test"
   ]
  },
  {
   "cell_type": "code",
   "execution_count": null,
   "id": "15457656",
   "metadata": {},
   "outputs": [],
   "source": [
    "model.coef_"
   ]
  },
  {
   "cell_type": "code",
   "execution_count": null,
   "id": "b49a446b",
   "metadata": {},
   "outputs": [],
   "source": [
    "model.intercept_"
   ]
  },
  {
   "cell_type": "code",
   "execution_count": null,
   "id": "8ff82290",
   "metadata": {},
   "outputs": [],
   "source": [
    "plt.plot(reg)"
   ]
  },
  {
   "cell_type": "code",
   "execution_count": null,
   "id": "43a18e40",
   "metadata": {},
   "outputs": [],
   "source": [
    "plt.scatter(x_test, y_test)\n",
    "plt.plot(x_test,-2.7909787e+10+14473992.26*x_test, 'g')\n",
    "plt.show()"
   ]
  },
  {
   "cell_type": "code",
   "execution_count": null,
   "id": "7a438b41",
   "metadata": {},
   "outputs": [],
   "source": [
    "-2.7909787e+10+14473992.26*x_test"
   ]
  },
  {
   "cell_type": "code",
   "execution_count": null,
   "id": "a1abf1d1",
   "metadata": {},
   "outputs": [],
   "source": [
    "##population across rural and urban places \n",
    "##comparsion of literacy rate in rural and urban places"
   ]
  },
  {
   "cell_type": "code",
   "execution_count": null,
   "id": "d7df3b03",
   "metadata": {},
   "outputs": [],
   "source": [
    "# importing packages\n",
    "import pandas as pd\n",
    "import numpy as np\n",
    "from scipy.interpolate import UnivariateSpline\n",
    "from scipy.interpolate import interp1d\n",
    "##from scipy.interpolate import spline\n",
    "from numpy import array\n",
    "import matplotlib as mpl\n",
    "\n",
    "# for plots\n",
    "import matplotlib.pyplot as plt\n",
    "from matplotlib import cm\n",
    "from matplotlib.dates import date2num\n",
    "import cartopy.crs as ccrs\n",
    "##from mpl_toolkits.basemap import Basemap\n",
    "\n",
    "# for date and time processing\n",
    "import datetime\n",
    "\n",
    "# for statistical graphs\n",
    "import seaborn as sns"
   ]
  },
  {
   "cell_type": "code",
   "execution_count": null,
   "id": "f809968e",
   "metadata": {},
   "outputs": [],
   "source": [
    "from mpl_toolkits.basemap import Basemap"
   ]
  },
  {
   "cell_type": "code",
   "execution_count": null,
   "id": "669f5d2b",
   "metadata": {},
   "outputs": [],
   "source": [
    "cities = pd.read_csv (\"cities_r2.csv\")"
   ]
  },
  {
   "cell_type": "code",
   "execution_count": null,
   "id": "e3d5e9fa",
   "metadata": {},
   "outputs": [],
   "source": [
    "cities.head ()"
   ]
  },
  {
   "cell_type": "code",
   "execution_count": null,
   "id": "bea3569f",
   "metadata": {},
   "outputs": [],
   "source": [
    "cities.info ()"
   ]
  },
  {
   "cell_type": "code",
   "execution_count": null,
   "id": "ca849f02",
   "metadata": {},
   "outputs": [],
   "source": [
    "print (cities.describe(include=['O']))"
   ]
  },
  {
   "cell_type": "code",
   "execution_count": null,
   "id": "b7ea0ddc",
   "metadata": {},
   "outputs": [],
   "source": [
    "# from the below output, we can learn that there is two Aurangabad's. One is in Maharashtra \n",
    "# and one is in Bihar\n",
    "# most of the cities are selected from Uttar Pradesh"
   ]
  },
  {
   "cell_type": "code",
   "execution_count": null,
   "id": "670f44e9",
   "metadata": {},
   "outputs": [],
   "source": [
    "# A bar chart to show from which states, how many cities are taken for examination.\n",
    "fig = plt.figure(figsize=(20,20))\n",
    "states = cities.groupby('state_name')['name_of_city'].count().sort_values(ascending=True)\n",
    "states.plot(kind=\"barh\", fontsize = 20)\n",
    "plt.grid(b=True, which='both', color='Black',linestyle='-')\n",
    "plt.xlabel('No of cities taken for analysis', fontsize = 20)\n",
    "plt.show ()\n",
    "# we can see states like UP and WB are given high priority by taking more than 60 cities."
   ]
  },
  {
   "cell_type": "code",
   "execution_count": null,
   "id": "02a86e02",
   "metadata": {},
   "outputs": [],
   "source": [
    "# Extracting Co-ordinates details from the provided data\n",
    "cities['latitude'] = cities['location'].apply(lambda x: x.split(',')[0])\n",
    "cities['longitude'] = cities['location'].apply(lambda x: x.split(',')[1])\n",
    "cities.head(1)"
   ]
  },
  {
   "cell_type": "code",
   "execution_count": null,
   "id": "c6413c95",
   "metadata": {},
   "outputs": [],
   "source": [
    "# A table to show top 10 cities with most population\n",
    "print(\"The Top 10 Cities sorted according to the Total Population (Descending Order)\")\n",
    "top_pop_cities = cities.sort_values(by='population_total',ascending=False)\n",
    "top10_pop_cities=top_pop_cities.head(10)\n",
    "top10_pop_cities"
   ]
  },
  {
   "cell_type": "code",
   "execution_count": null,
   "id": "c36c6607",
   "metadata": {},
   "outputs": [],
   "source": [
    "# population of the respective city\n",
    "\n",
    "plt.subplots(figsize=(20, 15))\n",
    "map = Basemap(width=1200000,height=900000,projection='lcc',resolution='l',\n",
    "                    llcrnrlon=67,llcrnrlat=5,urcrnrlon=99,urcrnrlat=37,lat_0=28,lon_0=77)\n",
    "\n",
    "map.drawmapboundary ()\n",
    "map.drawcountries ()\n",
    "map.drawcoastlines ()\n",
    "\n",
    "lg=array(top10_pop_cities['longitude'])\n",
    "lt=array(top10_pop_cities['latitude'])\n",
    "pt=array(top10_pop_cities['population_total'])\n",
    "nc=array(top10_pop_cities['name_of_city'])\n",
    "\n",
    "x, y = map(lg, lt)\n",
    "population_sizes = top10_pop_cities[\"population_total\"].apply(lambda x: int(x / 5000))\n",
    "plt.scatter(x, y, s=population_sizes, marker=\"o\", c=population_sizes, cmap=cm.Dark2, alpha=0.7)\n",
    "\n",
    "\n",
    "for ncs, xpt, ypt in zip(nc, x, y):\n",
    "    plt.text(xpt+60000, ypt+30000, ncs, fontsize=10, fontweight='bold')\n",
    "\n",
    "plt.title('Top 10 Populated Cities in India',fontsize=20)"
   ]
  },
  {
   "cell_type": "code",
   "execution_count": null,
   "id": "1dc36f4b",
   "metadata": {},
   "outputs": [],
   "source": [
    "# A bar chart to show the population of the states\n",
    "fig = plt.figure(figsize=(20,20))\n",
    "states = cities.groupby('state_name')['population_total'].sum().sort_values(ascending=True)\n",
    "states.plot(kind=\"barh\", fontsize = 20)\n",
    "plt.grid(b=True, which='both', color='Black',linestyle='-')\n",
    "plt.xlabel('No of cities taken for analysis', fontsize = 20)\n",
    "plt.show ()\n",
    "# we can see states like Maharashtra and UP have huge urban population"
   ]
  },
  {
   "cell_type": "code",
   "execution_count": null,
   "id": "4e1deecd",
   "metadata": {},
   "outputs": [],
   "source": [
    "# Creating a function to plot the population data on real India map\n",
    "\n",
    "def plot_map(sizes, colorbarValue):    \n",
    "    \n",
    "    plt.figure(figsize=(19,20))\n",
    "    f, ax = plt.subplots(figsize=(19, 20))\n",
    "\n",
    "    # Setting up Basemap\n",
    "    map = Basemap(width=5000000, height=3500000, resolution='l', projection='aea', llcrnrlon=69,\n",
    "                  llcrnrlat=6, urcrnrlon=99, urcrnrlat=36, lon_0=78, lat_0=20, ax=ax)\n",
    "                  \n",
    "    # draw map boundaries\n",
    "    map.drawmapboundary()\n",
    "    map.drawcountries()\n",
    "    map.drawcoastlines()\n",
    "\n",
    "    # plotting cities on map using previously derived coordinates\n",
    "    x, y = map(array(cities[\"longitude\"]), array(cities[\"latitude\"]))\n",
    "    cs = map.scatter(x, y, s=sizes, marker=\"o\", c=sizes, cmap=cm.Dark2, alpha=0.5)\n",
    "\n",
    "    # adding colorbar\n",
    "    cbar = map.colorbar(cs, location='right',pad=\"5%\")\n",
    "    cbar.ax.set_yticklabels(colorbarValue)\n",
    "\n",
    "    plt.show()"
   ]
  },
  {
   "cell_type": "code",
   "execution_count": null,
   "id": "07f908ae",
   "metadata": {},
   "outputs": [],
   "source": [
    "# Using the function created in the previous cell, we are plotting the population data\n",
    "\n",
    "population_sizes = cities[\"population_total\"].apply(lambda x: int(x / 5000))\n",
    "colorbarValue = np.linspace(cities[\"population_total\"].min(), cities[\"population_total\"].max(), \n",
    "                            num=10)\n",
    "colorbarValue = colorbarValue.astype(int)\n",
    "\n",
    "plot_map(population_sizes, colorbarValue)"
   ]
  },
  {
   "cell_type": "code",
   "execution_count": null,
   "id": "47467597",
   "metadata": {},
   "outputs": [],
   "source": [
    "# A bar chart to show the male population of the states\n",
    "fig = plt.figure(figsize=(20,20))\n",
    "states = cities.groupby('state_name')['population_male'].sum().sort_values(ascending=True)\n",
    "states.plot(kind=\"barh\", fontsize = 20)\n",
    "plt.grid(b=True, which='both', color='Black',linestyle='-')\n",
    "plt.xlabel('No of cities taken for analysis', fontsize = 20)\n",
    "plt.show ()\n",
    "# we can see states like Maharashtra and UP have huge male population"
   ]
  },
  {
   "cell_type": "code",
   "execution_count": null,
   "id": "3376de53",
   "metadata": {},
   "outputs": [],
   "source": [
    "# Plotting the same on the map\n",
    "population_sizes = cities[\"population_male\"].apply(lambda x: int(x / 5000))\n",
    "colorbarValue = np.linspace(cities[\"population_male\"].min(), cities[\"population_male\"].max(), \n",
    "                            num=10)\n",
    "colorbarValue = colorbarValue.astype(int)\n",
    "\n",
    "plot_map(population_sizes, colorbarValue)"
   ]
  },
  {
   "cell_type": "code",
   "execution_count": null,
   "id": "482f69bb",
   "metadata": {},
   "outputs": [],
   "source": [
    "# A table to show top 10 cities with most male population\n",
    "print(\"The Top 10 Cities sorted according to the Total Male Population (Descending Order)\")\n",
    "top_male_cities = cities.sort_values(by='population_male',ascending=False)\n",
    "top10_male_pop_cities=top_male_cities.head(10)\n",
    "top10_male_pop_cities"
   ]
  },
  {
   "cell_type": "code",
   "execution_count": null,
   "id": "fb0df1e2",
   "metadata": {},
   "outputs": [],
   "source": [
    "# Plotting these top 10 male populous cities on India map. Circles are sized according to the \n",
    "# male population of the respective city\n",
    "\n",
    "plt.subplots(figsize=(20, 15))\n",
    "map = Basemap(width=1200000,height=900000,projection='lcc',resolution='l',\n",
    "                    llcrnrlon=67,llcrnrlat=5,urcrnrlon=99,urcrnrlat=37,lat_0=28,lon_0=77)\n",
    "\n",
    "map.drawmapboundary ()\n",
    "map.drawcountries ()\n",
    "map.drawcoastlines ()\n",
    "\n",
    "lg=array(top10_male_pop_cities['longitude'])\n",
    "lt=array(top10_male_pop_cities['latitude'])\n",
    "pt=array(top10_male_pop_cities['population_male'])\n",
    "nc=array(top10_male_pop_cities['name_of_city'])\n",
    "\n",
    "x, y = map(lg, lt)\n",
    "population_sizes_male = top10_male_pop_cities[\"population_male\"].apply(lambda x: int(x / 5000))\n",
    "plt.scatter(x, y, s=population_sizes_male, marker=\"o\", c=population_sizes_male, cmap=cm.Dark2, alpha=0.7)\n",
    "\n",
    "for ncs, xpt, ypt in zip(nc, x, y):\n",
    "    plt.text(xpt+60000, ypt+30000, ncs, fontsize=10, fontweight='bold')\n",
    "\n",
    "plt.title('Top 10 Male Populated Cities in India',fontsize=20)"
   ]
  },
  {
   "cell_type": "code",
   "execution_count": null,
   "id": "79efe100",
   "metadata": {},
   "outputs": [],
   "source": [
    "# A bar chart to show the female population of the states\n",
    "fig = plt.figure(figsize=(20,20))\n",
    "states = cities.groupby('state_name')['population_female'].sum().sort_values(ascending=True)\n",
    "states.plot(kind=\"barh\", fontsize = 20)\n",
    "plt.grid(b=True, which='both', color='Black',linestyle='-')\n",
    "plt.xlabel('No of cities taken for analysis', fontsize = 20)\n",
    "plt.show ()\n",
    "# we can see again states like Maharashtra and UP have huge female population"
   ]
  },
  {
   "cell_type": "code",
   "execution_count": null,
   "id": "a5b16c44",
   "metadata": {},
   "outputs": [],
   "source": [
    "# Plotting the same on the map\n",
    "population_sizes = cities[\"population_female\"].apply(lambda x: int(x / 5000))\n",
    "colorbarValue = np.linspace(cities[\"population_female\"].min(), cities[\"population_female\"].max(), \n",
    "                            num=10)\n",
    "colorbarValue = colorbarValue.astype(int)\n",
    "\n",
    "plot_map(population_sizes, colorbarValue)"
   ]
  },
  {
   "cell_type": "code",
   "execution_count": null,
   "id": "003b49bc",
   "metadata": {},
   "outputs": [],
   "source": [
    "# A table to show top 10 cities with most female population\n",
    "print(\"The Top 10 Cities sorted according to the Total Female Population (Descending Order)\")\n",
    "top_female_cities = cities.sort_values(by='population_female',ascending=False)\n",
    "top10_female_pop_cities=top_female_cities.head(10)\n",
    "top10_female_pop_cities"
   ]
  },
  {
   "cell_type": "code",
   "execution_count": null,
   "id": "a8b483dc",
   "metadata": {},
   "outputs": [],
   "source": [
    "# Plotting these top 10 female populous cities on India map. Circles are sized according to the \n",
    "# female population of the respective city\n",
    "\n",
    "plt.subplots(figsize=(20, 15))\n",
    "map = Basemap(width=1200000,height=900000,projection='lcc',resolution='l',\n",
    "                    llcrnrlon=67,llcrnrlat=5,urcrnrlon=99,urcrnrlat=37,lat_0=28,lon_0=77)\n",
    "\n",
    "map.drawmapboundary ()\n",
    "map.drawcountries ()\n",
    "map.drawcoastlines ()\n",
    "\n",
    "lg=array(top10_female_pop_cities['longitude'])\n",
    "lt=array(top10_female_pop_cities['latitude'])\n",
    "pt=array(top10_female_pop_cities['population_female'])\n",
    "nc=array(top10_female_pop_cities['name_of_city'])\n",
    "x, y = map(lg, lt)\n",
    "population_sizes_female = top10_female_pop_cities[\"population_female\"].apply(lambda x: int(x / 5000))\n",
    "plt.scatter(x, y, s=population_sizes_female, marker=\"o\", c=population_sizes_female, cmap=cm.Dark2, alpha=0.7)\n",
    "\n",
    "\n",
    "for ncs, xpt, ypt in zip(nc, x, y):\n",
    "    plt.text(xpt+60000, ypt+30000, ncs, fontsize=10, fontweight='bold')\n",
    "\n",
    "plt.title('Top 10 Female Populated Cities in India',fontsize=20)"
   ]
  },
  {
   "cell_type": "code",
   "execution_count": null,
   "id": "f3b6e282",
   "metadata": {},
   "outputs": [],
   "source": [
    "# A bar chart to show the kids population of the states\n",
    "fig = plt.figure(figsize=(20,20))\n",
    "states = cities.groupby('state_name')['0-6_population_total'].sum().sort_values(ascending=True)\n",
    "states.plot(kind=\"barh\", fontsize = 20)\n",
    "plt.grid(b=True, which='both', color='Black',linestyle='-')\n",
    "plt.xlabel('No of kids', fontsize = 20)\n",
    "plt.show ()\n",
    "# we can see again states like Maharashtra and UP have huge kids population living in cities"
   ]
  },
  {
   "cell_type": "code",
   "execution_count": null,
   "id": "67f32d0d",
   "metadata": {},
   "outputs": [],
   "source": [
    "# Plotting the same on the map\n",
    "population_sizes = cities[\"0-6_population_total\"].apply(lambda x: int(x / 5000))\n",
    "colorbarValue = np.linspace(cities[\"0-6_population_total\"].min(), cities[\"0-6_population_total\"].max(), \n",
    "                            num=10)\n",
    "colorbarValue = colorbarValue.astype(int)\n",
    "\n",
    "plot_map(population_sizes, colorbarValue)\n",
    "# Kids population is obviously smaller than the overall population and bigger cities like Delhi,\n",
    "# Mumbai, Banglore, Kolkata, Hyderabad, Chennai have vast number of kids living in cities"
   ]
  },
  {
   "cell_type": "code",
   "execution_count": null,
   "id": "a0db1c34",
   "metadata": {},
   "outputs": [],
   "source": [
    "# Lets find the top ten cities in which large number of kids live\n",
    "print(\"The Top 10 Cities sorted according to the Total Kids Population (Descending Order)\")\n",
    "top_kids_cities = cities.sort_values(by='0-6_population_total',ascending=False)\n",
    "top10_kids_pop_cities=top_kids_cities.head(10)\n",
    "top10_kids_pop_cities"
   ]
  },
  {
   "cell_type": "code",
   "execution_count": null,
   "id": "40efa3e0",
   "metadata": {},
   "outputs": [],
   "source": [
    "# Lets find the top ten cities in which large number of kids live\n",
    "\n",
    "plt.subplots(figsize=(20, 15))\n",
    "map = Basemap(width=1200000,height=900000,projection='lcc',resolution='l',\n",
    "                    llcrnrlon=67,llcrnrlat=5,urcrnrlon=99,urcrnrlat=37,lat_0=28,lon_0=77)\n",
    "\n",
    "map.drawmapboundary ()\n",
    "map.drawcountries ()\n",
    "map.drawcoastlines ()\n",
    "\n",
    "lg=array(top10_kids_pop_cities['longitude'])\n",
    "lt=array(top10_kids_pop_cities['latitude'])\n",
    "pt=array(top10_kids_pop_cities['0-6_population_total'])\n",
    "nc=array(top10_kids_pop_cities['name_of_city'])\n",
    "\n",
    "x, y = map(lg, lt)\n",
    "population_sizes_kids = top10_kids_pop_cities[\"0-6_population_total\"].apply(lambda x: int(x / 5000))\n",
    "plt.scatter(x, y, s=population_sizes_kids, marker=\"o\", c=population_sizes_kids, cmap=cm.Dark2, alpha=0.7)\n",
    "\n",
    "for ncs, xpt, ypt in zip(nc, x, y):\n",
    "    plt.text(xpt+60000, ypt+30000, ncs, fontsize=10, fontweight='bold')\n",
    "\n",
    "plt.title('Top 10 Kids Populated Cities in India',fontsize=20)\n",
    "# A bar chart to show the male kids population of the states\n",
    "fig = plt.figure(figsize=(20,20))\n",
    "states = cities.groupby('state_name')['0-6_population_male'].sum().sort_values(ascending=True)\n",
    "states.plot(kind=\"barh\", fontsize = 20)\n",
    "plt.grid(b=True, which='both', color='Black',linestyle='-')\n",
    "plt.xlabel('No of male kids', fontsize = 20)\n",
    "plt.show ()\n",
    "# we can see again states like Maharashtra and UP have huge male kids population living in cities"
   ]
  },
  {
   "cell_type": "code",
   "execution_count": null,
   "id": "9526fea5",
   "metadata": {},
   "outputs": [],
   "source": [
    "# A bar chart to show the male kids population of the states\n",
    "fig = plt.figure(figsize=(20,20))\n",
    "states = cities.groupby('state_name')['0-6_population_male'].sum().sort_values(ascending=True)\n",
    "states.plot(kind=\"barh\", fontsize = 20)\n",
    "plt.grid(b=True, which='both', color='Black',linestyle='-')\n",
    "plt.xlabel('No of male kids', fontsize = 20)\n",
    "plt.show ()\n",
    "# we can see again states like Maharashtra and UP have huge male kids population living in cities"
   ]
  },
  {
   "cell_type": "code",
   "execution_count": null,
   "id": "2c6c202b",
   "metadata": {},
   "outputs": [],
   "source": [
    "# Plotting the same on the map\n",
    "population_sizes = cities[\"0-6_population_male\"].apply(lambda x: int(x / 5000))\n",
    "colorbarValue = np.linspace(cities[\"0-6_population_male\"].min(), cities[\"0-6_population_male\"].max(), \n",
    "                            num=10)\n",
    "colorbarValue = colorbarValue.astype(int)\n",
    "\n",
    "plot_map(population_sizes, colorbarValue)\n",
    "# Kids population is obviously smaller than the overall population and bigger cities like Delhi,\n",
    "# Mumbai, Banglore, Kolkata, Hyderabad, Chennai have vast number of kids living in cities"
   ]
  },
  {
   "cell_type": "code",
   "execution_count": null,
   "id": "6d168f80",
   "metadata": {},
   "outputs": [],
   "source": [
    "# Lets find the top ten cities in which large number of male kids live\n",
    "print(\"The Top 10 Cities sorted according to the Total Male Kids Population (Descending Order)\")\n",
    "top10_male_kids_cities = cities.sort_values(by='0-6_population_male',ascending=False)\n",
    "top10_male_kids_pop_cities=top10_male_kids_cities.head(10)\n",
    "top10_male_kids_pop_cities"
   ]
  },
  {
   "cell_type": "code",
   "execution_count": null,
   "id": "c10da57d",
   "metadata": {},
   "outputs": [],
   "source": [
    "# Lets find the top ten cities in which large number of male kids live\n",
    "\n",
    "plt.subplots(figsize=(20, 15))\n",
    "map = Basemap(width=1200000,height=900000,projection='lcc',resolution='l',\n",
    "                    llcrnrlon=67,llcrnrlat=5,urcrnrlon=99,urcrnrlat=37,lat_0=28,lon_0=77)\n",
    "\n",
    "map.drawmapboundary ()\n",
    "map.drawcountries ()\n",
    "map.drawcoastlines ()\n",
    "\n",
    "lg=array(top10_male_kids_pop_cities['longitude'])\n",
    "lt=array(top10_male_kids_pop_cities['latitude'])\n",
    "pt=array(top10_male_kids_pop_cities['0-6_population_male'])\n",
    "nc=array(top10_male_kids_pop_cities['name_of_city'])\n",
    "x, y = map(lg, lt)\n",
    "population_sizes_male_kids = top10_male_kids_pop_cities[\"0-6_population_male\"].apply(lambda x: int(x / 5000))\n",
    "plt.scatter(x, y, s=population_sizes_male_kids, marker=\"o\", c=population_sizes_male_kids, cmap=cm.Dark2, alpha=0.7)\n",
    "\n",
    "\n",
    "for ncs, xpt, ypt in zip(nc, x, y):\n",
    "    plt.text(xpt+60000, ypt+30000, ncs, fontsize=10, fontweight='bold')\n",
    "\n",
    "plt.title('Top 10 Male Kids Populated Cities in India',fontsize=20)"
   ]
  },
  {
   "cell_type": "code",
   "execution_count": null,
   "id": "077b1804",
   "metadata": {},
   "outputs": [],
   "source": [
    "# A bar chart to show the female kids population of the states\n",
    "fig = plt.figure(figsize=(20,20))\n",
    "states = cities.groupby('state_name')['0-6_population_female'].sum().sort_values(ascending=True)\n",
    "states.plot(kind=\"barh\", fontsize = 20)\n",
    "plt.grid(b=True, which='both', color='Black',linestyle='-')\n",
    "plt.xlabel('No of female kids', fontsize = 20)\n",
    "plt.show ()\n",
    "# we can see again states like Maharashtra and UP have huge male kids population living in cities"
   ]
  },
  {
   "cell_type": "code",
   "execution_count": null,
   "id": "cb5e5c7e",
   "metadata": {},
   "outputs": [],
   "source": [
    "# Plotting the same on the map\n",
    "population_sizes = cities[\"0-6_population_female\"].apply(lambda x: int(x / 5000))\n",
    "colorbarValue = np.linspace(cities[\"0-6_population_female\"].min(), cities[\"0-6_population_female\"].max(), \n",
    "                            num=10)\n",
    "colorbarValue = colorbarValue.astype(int)\n",
    "\n",
    "plot_map(population_sizes, colorbarValue)\n",
    "# Kids population is obviously smaller than the overall population and bigger cities like Delhi,\n",
    "# Mumbai, Banglore, Kolkata, Hyderabad, Chennai have vast number of kids living in cities"
   ]
  },
  {
   "cell_type": "code",
   "execution_count": null,
   "id": "13763530",
   "metadata": {},
   "outputs": [],
   "source": [
    "# Lets find the top ten cities in which large number of female kids live\n",
    "print(\"The Top 10 Cities sorted according to the Total Female Kids Population (Descending Order)\")\n",
    "top10_female_kids_cities = cities.sort_values(by='0-6_population_female',ascending=False)\n",
    "top10_female_kids_pop_cities=top10_female_kids_cities.head(10)\n",
    "top10_female_kids_pop_cities"
   ]
  },
  {
   "cell_type": "code",
   "execution_count": null,
   "id": "c7617ac7",
   "metadata": {},
   "outputs": [],
   "source": [
    "# Lets find the top ten cities in which large number of female kids live\n",
    "\n",
    "plt.subplots(figsize=(20, 15))\n",
    "map = Basemap(width=1200000,height=900000,projection='lcc',resolution='l',\n",
    "                    llcrnrlon=67,llcrnrlat=5,urcrnrlon=99,urcrnrlat=37,lat_0=28,lon_0=77)\n",
    "\n",
    "map.drawmapboundary ()\n",
    "map.drawcountries ()\n",
    "map.drawcoastlines ()\n",
    "\n",
    "lg=array(top10_female_kids_pop_cities['longitude'])\n",
    "lt=array(top10_female_kids_pop_cities['latitude'])\n",
    "pt=array(top10_female_kids_pop_cities['0-6_population_female'])\n",
    "nc=array(top10_female_kids_pop_cities['name_of_city'])\n",
    "x, y = map(lg, lt)\n",
    "population_sizes_female_kids = top10_female_kids_pop_cities[\"0-6_population_female\"].apply(lambda x: int(x / 5000))\n",
    "plt.scatter(x, y, s=population_sizes_female_kids, marker=\"o\", c=population_sizes_female_kids, cmap=cm.Dark2, alpha=0.7)\n",
    "\n",
    "\n",
    "for ncs, xpt, ypt in zip(nc, x, y):\n",
    "    plt.text(xpt+60000, ypt+30000, ncs, fontsize=10, fontweight='bold')\n",
    "\n",
    "plt.title('Top 10 Female Kids Populated Cities in India',fontsize=20)"
   ]
  },
  {
   "cell_type": "code",
   "execution_count": null,
   "id": "12fa91eb",
   "metadata": {},
   "outputs": [],
   "source": [
    "# A bar chart to show the total literates of the states\n",
    "fig = plt.figure(figsize=(20,20))\n",
    "states = cities.groupby('state_name')['literates_total'].sum().sort_values(ascending=True)\n",
    "states.plot(kind=\"barh\", fontsize = 20)\n",
    "plt.grid(b=True, which='both', color='Black',linestyle='-')\n",
    "plt.xlabel('Total litracy rate of states', fontsize = 20)\n",
    "plt.show ()\n",
    "# we can see again states like Maharashtra and UP have huge litrate population living in cities"
   ]
  },
  {
   "cell_type": "code",
   "execution_count": null,
   "id": "52d67455",
   "metadata": {},
   "outputs": [],
   "source": [
    "# Plotting the same on the map\n",
    "population_sizes = cities[\"literates_total\"].apply(lambda x: int(x / 5000))\n",
    "colorbarValue = np.linspace(cities[\"literates_total\"].min(), cities[\"literates_total\"].max(), \n",
    "                            num=10)\n",
    "colorbarValue = colorbarValue.astype(int)\n",
    "\n",
    "plot_map(population_sizes, colorbarValue)\n",
    "# Major metro cities again shows higher litracy rates"
   ]
  },
  {
   "cell_type": "code",
   "execution_count": null,
   "id": "5324e31d",
   "metadata": {},
   "outputs": [],
   "source": [
    "# Lets find the top ten cities in which large number of literates live\n",
    "print(\"The Top 10 Cities sorted according to the Total litrate Population (Descending Order)\")\n",
    "top10_literate_cities = cities.sort_values(by='literates_total',ascending=False)\n",
    "top10_literate_cities=top10_literate_cities.head(10)\n",
    "top10_literate_cities"
   ]
  },
  {
   "cell_type": "code",
   "execution_count": null,
   "id": "019519b2",
   "metadata": {},
   "outputs": [],
   "source": [
    "# lets plot the top 10 literate cities on India map\n",
    "plt.subplots(figsize=(20, 15))\n",
    "map = Basemap(width=1200000,height=900000,projection='lcc',resolution='l',\n",
    "                    llcrnrlon=67,llcrnrlat=5,urcrnrlon=99,urcrnrlat=37,lat_0=28,lon_0=77)\n",
    "\n",
    "map.drawmapboundary ()\n",
    "map.drawcountries ()\n",
    "map.drawcoastlines ()\n",
    "\n",
    "lg=array(top10_female_kids_pop_cities['longitude'])\n",
    "lt=array(top10_female_kids_pop_cities['latitude'])\n",
    "pt=array(top10_female_kids_pop_cities['literates_total'])\n",
    "nc=array(top10_female_kids_pop_cities['name_of_city'])\n",
    "x, y = map(lg, lt)\n",
    "population_sizes_female_kids = top10_female_kids_pop_cities[\"literates_total\"].apply(lambda x: int(x / 5000))\n",
    "plt.scatter(x, y, s=population_sizes_female_kids, marker=\"o\", c=population_sizes_female_kids, cmap=cm.Dark2, alpha=0.7)\n",
    "\n",
    "\n",
    "for ncs, xpt, ypt in zip(nc, x, y):\n",
    "    plt.text(xpt+60000, ypt+30000, ncs, fontsize=10, fontweight='bold')\n",
    "\n",
    "plt.title('Top 10 most literate Cities in India',fontsize=20)"
   ]
  },
  {
   "cell_type": "code",
   "execution_count": null,
   "id": "68f125d0",
   "metadata": {},
   "outputs": [],
   "source": [
    "# # A bar chart to show the total male literates of the states\n",
    "fig = plt.figure(figsize=(20,20))\n",
    "states = cities.groupby('state_name')['literates_male'].sum().sort_values(ascending=True)\n",
    "states.plot(kind=\"barh\", fontsize = 20)\n",
    "plt.grid(b=True, which='both', color='Black',linestyle='-')\n",
    "plt.xlabel('No of total male literates of the states', fontsize = 20)\n",
    "plt.show ()\n",
    "# we can see again states like Maharashtra and UP have huge male literate population living in cities"
   ]
  },
  {
   "cell_type": "code",
   "execution_count": null,
   "id": "67c5710f",
   "metadata": {},
   "outputs": [],
   "source": [
    "# Plotting the same on the map\n",
    "population_sizes = cities[\"literates_male\"].apply(lambda x: int(x / 5000))\n",
    "colorbarValue = np.linspace(cities[\"literates_male\"].min(), cities[\"literates_male\"].max(), \n",
    "                            num=10)\n",
    "colorbarValue = colorbarValue.astype(int)\n",
    "\n",
    "plot_map(population_sizes, colorbarValue)\n",
    "# Major metro cities again shows higher male litracy rates"
   ]
  },
  {
   "cell_type": "code",
   "execution_count": null,
   "id": "c1dcd793",
   "metadata": {},
   "outputs": [],
   "source": [
    "# Lets find the top ten cities in which large number of males are literate\n",
    "print(\"The Top 10 Cities sorted according to the male literate Population (Descending Order)\")\n",
    "top10_male_literate_cities = cities.sort_values(by='literates_male',ascending=False)\n",
    "top10_male_literate_cities=top10_male_literate_cities.head(10)\n",
    "top10_male_literate_cities"
   ]
  },
  {
   "cell_type": "code",
   "execution_count": null,
   "id": "34076414",
   "metadata": {},
   "outputs": [],
   "source": [
    "# Lets find the top ten cities in which large number of males are literate on the map of India\n",
    "\n",
    "plt.subplots(figsize=(20, 15))\n",
    "map = Basemap(width=1200000,height=900000,projection='lcc',resolution='l',\n",
    "                    llcrnrlon=67,llcrnrlat=5,urcrnrlon=99,urcrnrlat=37,lat_0=28,lon_0=77)\n",
    "\n",
    "map.drawmapboundary ()\n",
    "map.drawcountries ()\n",
    "map.drawcoastlines ()\n",
    "\n",
    "lg=array(top10_female_kids_pop_cities['longitude'])\n",
    "lt=array(top10_female_kids_pop_cities['latitude'])\n",
    "pt=array(top10_female_kids_pop_cities['literates_male'])\n",
    "nc=array(top10_female_kids_pop_cities['name_of_city'])\n",
    "x, y = map(lg, lt)\n",
    "population_sizes_female_kids = top10_female_kids_pop_cities[\"literates_male\"].apply(lambda x: int(x / 5000))\n",
    "plt.scatter(x, y, s=population_sizes_female_kids, marker=\"o\", c=population_sizes_female_kids, cmap=cm.Dark2, alpha=0.7)\n",
    "\n",
    "\n",
    "for ncs, xpt, ypt in zip(nc, x, y):\n",
    "    plt.text(xpt+60000, ypt+30000, ncs, fontsize=10, fontweight='bold')\n",
    "\n",
    "plt.title('Top 10 male litracy cities in India',fontsize=20)"
   ]
  },
  {
   "cell_type": "code",
   "execution_count": null,
   "id": "fd60276e",
   "metadata": {},
   "outputs": [],
   "source": [
    "# A bar chart to show the female litracy population of the states\n",
    "fig = plt.figure(figsize=(20,20))\n",
    "states = cities.groupby('state_name')['literates_female'].sum().sort_values(ascending=True)\n",
    "states.plot(kind=\"barh\", fontsize = 20)\n",
    "plt.grid(b=True, which='both', color='Black',linestyle='-')\n",
    "plt.xlabel('No of female literates', fontsize = 20)\n",
    "plt.show ()\n",
    "# we can see again states like Maharashtra and UP have huge female literate population living in cities"
   ]
  },
  {
   "cell_type": "code",
   "execution_count": null,
   "id": "544acf06",
   "metadata": {},
   "outputs": [],
   "source": [
    "# Plotting the same on the map\n",
    "population_sizes = cities[\"literates_female\"].apply(lambda x: int(x / 5000))\n",
    "colorbarValue = np.linspace(cities[\"literates_female\"].min(), cities[\"literates_female\"].max(), \n",
    "                            num=10)\n",
    "colorbarValue = colorbarValue.astype(int)\n",
    "\n",
    "plot_map(population_sizes, colorbarValue)\n",
    "# Major metro cities again shows higher female litracy rates"
   ]
  },
  {
   "cell_type": "code",
   "execution_count": null,
   "id": "5e48ca7a",
   "metadata": {},
   "outputs": [],
   "source": [
    "# Lets find the top ten cities in which large number of female literates live\n",
    "print(\"The Top 10 Cities sorted according to the Total Female literates Population (Descending Order)\")\n",
    "top10_female_literates_cities = cities.sort_values(by='literates_female',ascending=False)\n",
    "top10_female_literates_cities = top10_female_literates_cities.head(10)\n",
    "top10_female_literates_cities"
   ]
  },
  {
   "cell_type": "code",
   "execution_count": null,
   "id": "e240fb8f",
   "metadata": {},
   "outputs": [],
   "source": [
    "# Lets find the top ten cities in which large number of female literates live\n",
    "\n",
    "plt.subplots(figsize=(20, 15))\n",
    "map = Basemap(width=1200000,height=900000,projection='lcc',resolution='l',\n",
    "                    llcrnrlon=67,llcrnrlat=5,urcrnrlon=99,urcrnrlat=37,lat_0=28,lon_0=77)\n",
    "\n",
    "map.drawmapboundary ()\n",
    "map.drawcountries ()\n",
    "map.drawcoastlines ()\n",
    "\n",
    "lg=array(top10_female_kids_pop_cities['longitude'])\n",
    "lt=array(top10_female_kids_pop_cities['latitude'])\n",
    "pt=array(top10_female_kids_pop_cities['literates_female'])\n",
    "nc=array(top10_female_kids_pop_cities['name_of_city'])\n",
    "x, y = map(lg, lt)\n",
    "population_sizes_female_kids = top10_female_kids_pop_cities[\"literates_female\"].apply(lambda x: int(x / 5000))\n",
    "plt.scatter(x, y, s=population_sizes_female_kids, marker=\"o\", c=population_sizes_female_kids, cmap=cm.Dark2, alpha=0.7)\n",
    "\n",
    "\n",
    "for ncs, xpt, ypt in zip(nc, x, y):\n",
    "    plt.text(xpt+60000, ypt+30000, ncs, fontsize=10, fontweight='bold')\n",
    "\n",
    "plt.title('Top 10 Female literates Populated Cities in India',fontsize=20)"
   ]
  },
  {
   "cell_type": "code",
   "execution_count": null,
   "id": "39a934b7",
   "metadata": {},
   "outputs": [],
   "source": [
    "# seperating effective literacy rate from the main dataset and sorting then in descending order\n",
    "state_literacy_effective = cities[[\"state_name\",\"effective_literacy_rate_total\",\"effective_literacy_rate_male\",\"effective_literacy_rate_female\"]].groupby(\"state_name\").agg({\"effective_literacy_rate_total\":np.average,\n",
    "                                                                                                \"effective_literacy_rate_male\":np.average,\n",
    "                                                                                                \"effective_literacy_rate_female\":np.average})\n",
    "state_literacy_effective.sort_values(\"effective_literacy_rate_total\", ascending=True).plot(kind=\"barh\",\n",
    "                      grid=True,\n",
    "                      figsize=(16,15),\n",
    "                      alpha = 0.6,\n",
    "                      width=0.6,\n",
    "                      stacked = False,\n",
    "                      edgecolor=\"g\",\n",
    "                      fontsize = 20)\n",
    "plt.grid(b=True, which='both', color='lightGreen',linestyle='-')\n",
    "plt.show ()\n",
    "# from the below chart, Mizoram, Kerala and HP have highest effective literacy rate across India"
   ]
  },
  {
   "cell_type": "code",
   "execution_count": null,
   "id": "16fecca5",
   "metadata": {},
   "outputs": [],
   "source": [
    "# seperating Graduates from the main dataset and sorting then in descending order\n",
    "state_graduates  = cities[[\"state_name\",\n",
    "                                  \"total_graduates\",\n",
    "                                  \"male_graduates\",\n",
    "                                  \"female_graduates\"]].groupby(\"state_name\").agg({\"total_graduates\":np.average,\n",
    "                                                                                  \"male_graduates\":np.average,\n",
    "                                                                                  \"female_graduates\":np.average})\n",
    "# Plotting the bar chart \n",
    "state_graduates.sort_values(\"total_graduates\", ascending=True).plot(kind=\"barh\",\n",
    "                      grid=True,\n",
    "                      figsize=(16,15),\n",
    "                      alpha = 0.6,\n",
    "                      width=0.6,\n",
    "                      stacked = False,\n",
    "                      edgecolor=\"g\",\n",
    "                      fontsize = 20)\n",
    "plt.grid(b=True, which='both', color='lightGreen',linestyle='-')\n",
    "plt.show () \n",
    "# from the below Chandigarh, NCT of Delhi, Maharashta have most of their graduates living in cities.\n",
    "# we can note that Kerala and Meghalaya are the only states that have more number of female graduates than \n",
    "# male graduates\n"
   ]
  },
  {
   "cell_type": "code",
   "execution_count": null,
   "id": "0289ac63",
   "metadata": {},
   "outputs": [],
   "source": [
    "# A bar chart to show how many females are there for per 1000 males.\n",
    "fig = plt.figure(figsize=(20,20))\n",
    "states = cities.groupby('state_name')['sex_ratio'].mean().sort_values(ascending=True)\n",
    "states.plot(kind=\"barh\", fontsize = 20)\n",
    "plt.grid(b=True, which='both', color='Black',linestyle='-')\n",
    "plt.xlabel('No of females available for every 1000 males', fontsize = 20)\n",
    "plt.show ()\n",
    "# We can see that states of Kerala, Manipur, Meghalaya, Puducherry, Mizoram are having more females per 1000 males"
   ]
  },
  {
   "cell_type": "code",
   "execution_count": null,
   "id": "4b9fe4c2",
   "metadata": {},
   "outputs": [],
   "source": [
    "# A bar chart to show how many females are there for per 1000 males.\n",
    "fig = plt.figure(figsize=(20,20))\n",
    "states = cities.groupby('state_name')['child_sex_ratio'].mean().sort_values(ascending=True)\n",
    "states.plot(kind=\"barh\", fontsize = 20)\n",
    "plt.grid(b=True, which='both', color='Black',linestyle='-')\n",
    "plt.xlabel('No of girls available for every 1000 boys', fontsize = 20)\n",
    "plt.show ()\n",
    "# Not even a single state have 1000 girls for every 1000 boys"
   ]
  },
  {
   "cell_type": "code",
   "execution_count": null,
   "id": "3072be72",
   "metadata": {},
   "outputs": [],
   "source": [
    "#Final Insights (Please remember that these insights are only for urban population.\n",
    "#70% of Indian population lives in Non-urban, Semi-urban and Village areas)"
   ]
  },
  {
   "cell_type": "code",
   "execution_count": null,
   "id": "f1a86504",
   "metadata": {},
   "outputs": [],
   "source": [
    "#Uttar Pradesh and West Bengal are the two states from which most of the cities were taken,\n",
    "#followed by Maharashtra and Andhra Pradesh.\n",
    "\n",
    "#Greater Mumbai, Delhi, Bengaluru are the top most populous cities of India in that order.\n",
    "\n",
    "#Maharashtra, Uttar Pradesh and Andhra Pradesh are the top 3 states, where most of the people \n",
    "#lives in urban areas.\n",
    "\n",
    "#Maharashtra is the only state that have most of the male, female, male kids,\n",
    "#female kids population living in urban areas.\n",
    "\n",
    "#Greater Mumbai is the most populated city in India (both men and women)\n",
    "\n",
    "#elhi is the top most city that have high kids population\n",
    "\n",
    "#Maharashtra is the only state which have huge literate population living in urban areas.\n",
    "\n",
    "#Again Greater Mumbai have highest number of literates (both men and women), very closely followed by Delhi.\n",
    "\n",
    "#Mizoram is the state that have very high effective literacy rate, very closely followed by Kerala and Himachal Pradesh.\n",
    "\n",
    "#Not even a single state have more femal literates than male literates. Worst case is Rajasthan, where difference \n",
    "#between effective literacy rate of men and women is very high.\n",
    "#Good thing is that almost all the states have effective literacy rate of more than 80 % (remeber this data is only for cities. 80% of Indian population lives in non-urban, semi-urban and village areas)\n",
    "\n",
    "#Interesting thing to note is, Kerala and Meghalaya are the only states where more female graduates \n",
    "#are seen than male graduates in urban areas. Worst case is Bihar and Jharkand, where difference between men and women graduates is very high in urban areas itself.\n",
    "\n",
    "#his numbers might go up drastically in rural areas.\n",
    "\n",
    "#ex ratio is defined as how many females are there for every 1000 males (atleast in India it is calculated in this way).\n",
    "\n",
    "#Kerala,Manipur, Meghalaya, Puduchery, Mizoram are the states where more than 1000 females are there for every > 1000 males. It means there are more females than males.\n",
    "\n",
    "#Worst case is Chandigarh and Himachal Pradesh where there are around 800 females for every 1000 males (which is clearly a bad sign)\n",
    "\n",
    "#When children below 6 are taken into account, not even a single state have 1000 girls for 1000 boys. This may change when these kids become adults, because age limit for this calculation is very narrow (6 yeras).\n"
   ]
  }
 ],
 "metadata": {
  "kernelspec": {
   "display_name": "Python 3 (ipykernel)",
   "language": "python",
   "name": "python3"
  },
  "language_info": {
   "codemirror_mode": {
    "name": "ipython",
    "version": 3
   },
   "file_extension": ".py",
   "mimetype": "text/x-python",
   "name": "python",
   "nbconvert_exporter": "python",
   "pygments_lexer": "ipython3",
   "version": "3.9.13"
  }
 },
 "nbformat": 4,
 "nbformat_minor": 5
}
